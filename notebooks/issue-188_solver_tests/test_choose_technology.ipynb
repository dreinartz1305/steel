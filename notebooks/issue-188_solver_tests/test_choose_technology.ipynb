{
 "cells": [
  {
   "cell_type": "code",
   "execution_count": 1,
   "id": "7bc93a80-c0b0-4d1c-abb4-c3787fa30c16",
   "metadata": {},
   "outputs": [],
   "source": [
    "%load_ext lab_black"
   ]
  },
  {
   "cell_type": "code",
   "execution_count": 10,
   "id": "60a0f20b-6391-4674-bbd7-cf01d330f57e",
   "metadata": {},
   "outputs": [],
   "source": [
    "import pandas as pd\n",
    "\n",
    "from mppsteel.config.model_scenarios import DEFAULT_SCENARIO\n",
    "from mppsteel.config.model_config import USD_TO_EUR_CONVERSION_DEFAULT, PROJECT_PATH\n",
    "\n",
    "from mppsteel.model_solver.solver import choose_technology"
   ]
  },
  {
   "cell_type": "code",
   "execution_count": 7,
   "id": "1c2749c7-0397-4224-b24f-fa328ab40c83",
   "metadata": {},
   "outputs": [],
   "source": [
    "scenario_dict = DEFAULT_SCENARIO.copy()\n",
    "scenario_dict[\"usd_to_eur\"] = USD_TO_EUR_CONVERSION_DEFAULT\n",
    "scenario_dict[\"eur_to_usd\"] = 1.0 / scenario_dict[\"usd_to_eur\"]"
   ]
  },
  {
   "cell_type": "code",
   "execution_count": null,
   "id": "214d9abf-529f-44bd-9503-c4a50112de15",
   "metadata": {},
   "outputs": [],
   "source": [
    "class ChooseTechnologyInput:\n",
    "    @classmethod\n",
    "    def from_filesystem(cls, project_dir=PROJECT_PATH):\n",
    "        "
   ]
  },
  {
   "cell_type": "code",
   "execution_count": 8,
   "id": "5566cc0f-85e0-4e8c-b54c-d51123008f81",
   "metadata": {},
   "outputs": [
    {
     "name": "stdout",
     "output_type": "stream",
     "text": [
      "2022-06-02 11:02:23,410 — mppsteel.model_solver.solver — INFO — Creating Steel plant df\n"
     ]
    },
    {
     "ename": "FileNotFoundError",
     "evalue": "[Errno 2] No such file or directory: 'mppsteel/data/pkl_data/formatted_import_data/steel_plants_processed.pickle'",
     "output_type": "error",
     "traceback": [
      "\u001b[0;31m---------------------------------------------------------------------------\u001b[0m",
      "\u001b[0;31mFileNotFoundError\u001b[0m                         Traceback (most recent call last)",
      "Input \u001b[0;32mIn [8]\u001b[0m, in \u001b[0;36m<cell line: 1>\u001b[0;34m()\u001b[0m\n\u001b[0;32m----> 1\u001b[0m \u001b[43mchoose_technology\u001b[49m\u001b[43m(\u001b[49m\u001b[43mscenario_dict\u001b[49m\u001b[43m)\u001b[49m\n",
      "File \u001b[0;32m~/projects/mpp-steel-model/mppsteel/model_solver/solver.py:303\u001b[0m, in \u001b[0;36mchoose_technology\u001b[0;34m(scenario_dict)\u001b[0m\n\u001b[1;32m    298\u001b[0m regional_scrap \u001b[38;5;241m=\u001b[39m scenario_dict[\u001b[38;5;124m\"\u001b[39m\u001b[38;5;124mregional_scrap_constraint\u001b[39m\u001b[38;5;124m\"\u001b[39m]\n\u001b[1;32m    299\u001b[0m intermediate_path \u001b[38;5;241m=\u001b[39m get_scenario_pkl_path(\n\u001b[1;32m    300\u001b[0m     scenario_dict[\u001b[38;5;124m\"\u001b[39m\u001b[38;5;124mscenario_name\u001b[39m\u001b[38;5;124m\"\u001b[39m], \u001b[38;5;124m\"\u001b[39m\u001b[38;5;124mintermediate\u001b[39m\u001b[38;5;124m\"\u001b[39m\n\u001b[1;32m    301\u001b[0m )\n\u001b[0;32m--> 303\u001b[0m original_plant_df \u001b[38;5;241m=\u001b[39m \u001b[43mread_pickle_folder\u001b[49m\u001b[43m(\u001b[49m\n\u001b[1;32m    304\u001b[0m \u001b[43m    \u001b[49m\u001b[43mPKL_DATA_FORMATTED\u001b[49m\u001b[43m,\u001b[49m\u001b[43m \u001b[49m\u001b[38;5;124;43m\"\u001b[39;49m\u001b[38;5;124;43msteel_plants_processed\u001b[39;49m\u001b[38;5;124;43m\"\u001b[39;49m\u001b[43m,\u001b[49m\u001b[43m \u001b[49m\u001b[38;5;124;43m\"\u001b[39;49m\u001b[38;5;124;43mdf\u001b[39;49m\u001b[38;5;124;43m\"\u001b[39;49m\n\u001b[1;32m    305\u001b[0m \u001b[43m\u001b[49m\u001b[43m)\u001b[49m\n\u001b[1;32m    306\u001b[0m PlantInvestmentCycleContainer \u001b[38;5;241m=\u001b[39m read_pickle_folder(\n\u001b[1;32m    307\u001b[0m     PKL_DATA_FORMATTED, \u001b[38;5;124m\"\u001b[39m\u001b[38;5;124mplant_investment_cycle_container\u001b[39m\u001b[38;5;124m\"\u001b[39m, \u001b[38;5;124m\"\u001b[39m\u001b[38;5;124mdf\u001b[39m\u001b[38;5;124m\"\u001b[39m\n\u001b[1;32m    308\u001b[0m )\n\u001b[1;32m    309\u001b[0m variable_costs_regional \u001b[38;5;241m=\u001b[39m read_pickle_folder(\n\u001b[1;32m    310\u001b[0m     intermediate_path, \u001b[38;5;124m\"\u001b[39m\u001b[38;5;124mvariable_costs_regional\u001b[39m\u001b[38;5;124m\"\u001b[39m, \u001b[38;5;124m\"\u001b[39m\u001b[38;5;124mdf\u001b[39m\u001b[38;5;124m\"\u001b[39m\n\u001b[1;32m    311\u001b[0m )\n",
      "File \u001b[0;32m~/projects/mpp-steel-model/mppsteel/utility/file_handling_utility.py:42\u001b[0m, in \u001b[0;36mread_pickle_folder\u001b[0;34m(data_path, pkl_file, mode, log)\u001b[0m\n\u001b[1;32m     40\u001b[0m     \u001b[38;5;28;01mif\u001b[39;00m log:\n\u001b[1;32m     41\u001b[0m         logger\u001b[38;5;241m.\u001b[39minfo(\u001b[38;5;124mf\u001b[39m\u001b[38;5;124m\"\u001b[39m\u001b[38;5;124m||| Loading pickle file \u001b[39m\u001b[38;5;132;01m{\u001b[39;00mpkl_file\u001b[38;5;132;01m}\u001b[39;00m\u001b[38;5;124m from path \u001b[39m\u001b[38;5;132;01m{\u001b[39;00mdata_path\u001b[38;5;132;01m}\u001b[39;00m\u001b[38;5;124m\"\u001b[39m)\n\u001b[0;32m---> 42\u001b[0m     \u001b[38;5;28;01mwith\u001b[39;00m \u001b[38;5;28;43mopen\u001b[39;49m\u001b[43m(\u001b[49m\u001b[38;5;124;43mfr\u001b[39;49m\u001b[38;5;124;43m\"\u001b[39;49m\u001b[38;5;132;43;01m{\u001b[39;49;00m\u001b[43mdata_path\u001b[49m\u001b[38;5;132;43;01m}\u001b[39;49;00m\u001b[38;5;124;43m/\u001b[39;49m\u001b[38;5;132;43;01m{\u001b[39;49;00m\u001b[43mpkl_file\u001b[49m\u001b[38;5;132;43;01m}\u001b[39;49;00m\u001b[38;5;124;43m.pickle\u001b[39;49m\u001b[38;5;124;43m\"\u001b[39;49m\u001b[43m,\u001b[49m\u001b[43m \u001b[49m\u001b[38;5;124;43m\"\u001b[39;49m\u001b[38;5;124;43mrb\u001b[39;49m\u001b[38;5;124;43m\"\u001b[39;49m\u001b[43m)\u001b[49m \u001b[38;5;28;01mas\u001b[39;00m f:\n\u001b[1;32m     43\u001b[0m         data \u001b[38;5;241m=\u001b[39m pickle\u001b[38;5;241m.\u001b[39mload(f)\n\u001b[1;32m     45\u001b[0m \u001b[38;5;28;01melif\u001b[39;00m mode \u001b[38;5;241m==\u001b[39m \u001b[38;5;124m\"\u001b[39m\u001b[38;5;124mdict\u001b[39m\u001b[38;5;124m\"\u001b[39m:\n",
      "\u001b[0;31mFileNotFoundError\u001b[0m: [Errno 2] No such file or directory: 'mppsteel/data/pkl_data/formatted_import_data/steel_plants_processed.pickle'"
     ]
    }
   ],
   "source": [
    "choose_technology(scenario_dict)"
   ]
  },
  {
   "cell_type": "code",
   "execution_count": null,
   "id": "82c0e895-d435-4c0e-b544-b0dfd2aaf9a3",
   "metadata": {},
   "outputs": [],
   "source": []
  }
 ],
 "metadata": {
  "kernelspec": {
   "display_name": "Python 3 (ipykernel)",
   "language": "python",
   "name": "python3"
  },
  "language_info": {
   "codemirror_mode": {
    "name": "ipython",
    "version": 3
   },
   "file_extension": ".py",
   "mimetype": "text/x-python",
   "name": "python",
   "nbconvert_exporter": "python",
   "pygments_lexer": "ipython3",
   "version": "3.10.4"
  }
 },
 "nbformat": 4,
 "nbformat_minor": 5
}
