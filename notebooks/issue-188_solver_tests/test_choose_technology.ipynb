{
 "cells": [
  {
   "cell_type": "code",
   "execution_count": 1,
   "id": "7bc93a80-c0b0-4d1c-abb4-c3787fa30c16",
   "metadata": {},
   "outputs": [],
   "source": [
    "%load_ext lab_black"
   ]
  },
  {
   "cell_type": "code",
   "execution_count": 22,
   "id": "60a0f20b-6391-4674-bbd7-cf01d330f57e",
   "metadata": {},
   "outputs": [],
   "source": [
    "import pandas as pd\n",
    "\n",
    "from typing import Iterable\n",
    "\n",
    "from mppsteel.config.model_scenarios import DEFAULT_SCENARIO\n",
    "from mppsteel.config.model_config import (\n",
    "    USD_TO_EUR_CONVERSION_DEFAULT,\n",
    "    PROJECT_PATH,\n",
    "    PKL_DATA_FORMATTED,\n",
    "    PKL_DATA_IMPORTS,\n",
    "    MODEL_YEAR_RANGE,\n",
    "    MAIN_REGIONAL_SCHEMA,\n",
    ")\n",
    "\n",
    "from mppsteel.utility.file_handling_utility import (\n",
    "    get_scenario_pkl_path,\n",
    "    read_pickle_folder,\n",
    ")\n",
    "\n",
    "from mppsteel.data_preprocessing.investment_cycles import PlantInvestmentCycle\n",
    "from mppsteel.utility.location_utility import create_country_mapper\n",
    "from mppsteel.data_load_and_format.country_reference import country_df_formatter\n",
    "from mppsteel.model_solver.tco_and_abatement_optimizer import subset_presolver_df\n",
    "from mppsteel.model_solver.solver_constraints import read_and_format_tech_availability\n",
    "from mppsteel.data_load_and_format.steel_plant_formatter import create_active_check_col\n",
    "\n",
    "from mppsteel.model_solver.solver import choose_technology"
   ]
  },
  {
   "cell_type": "code",
   "execution_count": 3,
   "id": "1c2749c7-0397-4224-b24f-fa328ab40c83",
   "metadata": {},
   "outputs": [],
   "source": [
    "scenario_dict = DEFAULT_SCENARIO.copy()\n",
    "scenario_dict[\"usd_to_eur\"] = USD_TO_EUR_CONVERSION_DEFAULT\n",
    "scenario_dict[\"eur_to_usd\"] = 1.0 / scenario_dict[\"usd_to_eur\"]"
   ]
  },
  {
   "cell_type": "code",
   "execution_count": 4,
   "id": "214d9abf-529f-44bd-9503-c4a50112de15",
   "metadata": {},
   "outputs": [],
   "source": [
    "class ChooseTechnologyInput:\n",
    "    def __init__(\n",
    "        self,\n",
    "        *,\n",
    "        original_plant_df: pd.DataFrame = pd.DataFrame(),\n",
    "        year_range: Iterable[int] = [],\n",
    "        tech_moratorium: bool = False,\n",
    "        trade_active: bool = False,\n",
    "        enforce_constraints: bool = False,\n",
    "        regional_scrap_constraint: bool = False,\n",
    "        plant_investment_cycle_container: PlantInvestmentCycle = PlantInvestmentCycle(),\n",
    "        variable_costs_regional: pd.DataFrame = pd.DataFrame(),\n",
    "        country_ref: pd.DataFrame = pd.DataFrame(),\n",
    "        rmi_mapper: dict[str, str] = {},\n",
    "        country_ref_f: pd.DataFrame = pd.DataFrame(),\n",
    "        bio_constraint_model: pd.DataFrame = pd.DataFrame(),\n",
    "        co2_constraint: pd.DataFrame = pd.DataFrame(),\n",
    "        ccs_constraint: pd.DataFrame = pd.DataFrame(),\n",
    "        steel_demand_df: pd.DataFrame = pd.DataFrame(),\n",
    "        tech_availability: pd.DataFrame = pd.DataFrame(),\n",
    "        ta_dict: dict[str, int] = {},\n",
    "        capex_dict: dict[str, pd.DataFrame] = {},\n",
    "        business_case_ref: dict[tuple[str, str], float] = {},\n",
    "        green_premium_timeseries: pd.DataFrame = pd.DataFrame(),\n",
    "        tco_summary_data: pd.DataFrame = pd.DataFrame(),\n",
    "        tco_slim: pd.DataFrame = pd.DataFrame(),\n",
    "        levelized_cost: pd.DataFrame = pd.DataFrame(),\n",
    "        steel_plant_abatement_switches: pd.DataFrame = pd.DataFrame(),\n",
    "        abatement_slim: pd.DataFrame = pd.DataFrame(),\n",
    "        scenario_dict: dict[str, any] = {},\n",
    "    ):\n",
    "        self.original_plant_df = original_plant_df\n",
    "        self.year_range = year_range\n",
    "        self.tech_moratorium = tech_moratorium\n",
    "        self.trade_active = trade_active\n",
    "        self.enforce_constraints = enforce_constraints\n",
    "        self.regional_scrap_constraint = regional_scrap_constraint\n",
    "        self.plant_investment_cycle_container = plant_investment_cycle_container\n",
    "        self.variable_costs_regional = variable_costs_regional\n",
    "        self.country_ref = country_ref\n",
    "        self.rmi_mapper = rmi_mapper\n",
    "        self.country_ref_f = country_ref_f\n",
    "        self.bio_constraint_model = bio_constraint_model\n",
    "        self.co2_constraint = co2_constraint\n",
    "        self.ccs_constraint = ccs_constraint\n",
    "        self.steel_demand_df = steel_demand_df\n",
    "        self.tech_availability = tech_availability\n",
    "        self.ta_dict = ta_dict\n",
    "        self.capex_dict = capex_dict\n",
    "        self.business_case_ref = business_case_ref\n",
    "        self.green_premium_timeseries = green_premium_timeseries\n",
    "        self.tco_summary_data = tco_summary_data\n",
    "        self.tco_slim = tco_slim\n",
    "        self.levelized_cost = levelized_cost\n",
    "        self.steel_plant_abatement_switches = steel_plant_abatement_switches\n",
    "        self.abatement_slim = abatement_slim\n",
    "        self.scenario_dict = scenario_dict\n",
    "\n",
    "    @classmethod\n",
    "    def from_filesystem(\n",
    "        cls, scenario_dict, project_dir=PROJECT_PATH, year_range=MODEL_YEAR_RANGE\n",
    "    ):\n",
    "        tech_moratorium = scenario_dict[\"tech_moratorium\"]\n",
    "        trade_active = scenario_dict[\"trade_active\"]\n",
    "        enforce_constraints = scenario_dict[\"enforce_constraints\"]\n",
    "        regional_scrap_constraint = scenario_dict[\"regional_scrap_constraint\"]\n",
    "\n",
    "        intermediate_path = get_scenario_pkl_path(\n",
    "            scenario_dict[\"scenario_name\"], \"intermediate\"\n",
    "        )\n",
    "        original_plant_df = read_pickle_folder(\n",
    "            PROJECT_PATH / PKL_DATA_FORMATTED, \"steel_plants_processed\", \"df\"\n",
    "        )\n",
    "        plant_investment_cycle_container = read_pickle_folder(\n",
    "            PROJECT_PATH / PKL_DATA_FORMATTED, \"plant_investment_cycle_container\", \"df\"\n",
    "        )\n",
    "        variable_costs_regional = read_pickle_folder(\n",
    "            PROJECT_PATH / intermediate_path, \"variable_costs_regional\", \"df\"\n",
    "        )\n",
    "        country_ref = read_pickle_folder(\n",
    "            PROJECT_PATH / PKL_DATA_IMPORTS, \"country_ref\", \"df\"\n",
    "        )\n",
    "        rmi_mapper = create_country_mapper(path=str(PROJECT_PATH / PKL_DATA_IMPORTS))\n",
    "        country_ref_f = country_df_formatter(country_ref)\n",
    "\n",
    "        bio_constraint_model = read_pickle_folder(\n",
    "            PROJECT_PATH / intermediate_path, \"bio_constraint_model_formatted\", \"df\"\n",
    "        )\n",
    "        co2_constraint = read_pickle_folder(\n",
    "            PROJECT_PATH / PKL_DATA_IMPORTS, \"ccs_co2\", \"df\"\n",
    "        )\n",
    "        ccs_constraint = read_pickle_folder(\n",
    "            PROJECT_PATH / intermediate_path, \"ccs_constraints_model_formatted\", \"df\"\n",
    "        )\n",
    "        steel_demand_df = read_pickle_folder(\n",
    "            PROJECT_PATH / intermediate_path, \"regional_steel_demand_formatted\", \"df\"\n",
    "        )\n",
    "        tech_availability_raw = read_pickle_folder(\n",
    "            PROJECT_PATH / PKL_DATA_IMPORTS, \"tech_availability\", \"df\"\n",
    "        )\n",
    "        ta_dict = dict(\n",
    "            zip(\n",
    "                tech_availability_raw[\"Technology\"],\n",
    "                tech_availability_raw[\"Year available from\"],\n",
    "            )\n",
    "        )\n",
    "        tech_availability = read_and_format_tech_availability(tech_availability_raw)\n",
    "        capex_dict = read_pickle_folder(\n",
    "            PROJECT_PATH / PKL_DATA_FORMATTED, \"capex_dict\", \"dict\"\n",
    "        )\n",
    "        business_case_ref = read_pickle_folder(\n",
    "            PROJECT_PATH / PKL_DATA_FORMATTED, \"business_case_reference\", \"df\"\n",
    "        )\n",
    "        green_premium_timeseries = read_pickle_folder(\n",
    "            PROJECT_PATH / intermediate_path, \"green_premium_timeseries\", \"df\"\n",
    "        ).set_index(\"year\")\n",
    "        tco_summary_data = read_pickle_folder(\n",
    "            PROJECT_PATH / intermediate_path, \"tco_summary_data\", \"df\"\n",
    "        )\n",
    "        tco_slim = subset_presolver_df(tco_summary_data, subset_type=\"tco_summary\")\n",
    "        levelized_cost = read_pickle_folder(\n",
    "            PROJECT_PATH / intermediate_path, \"levelized_cost\", \"df\"\n",
    "        )\n",
    "        levelized_cost[\"region\"] = levelized_cost[\"country_code\"].apply(\n",
    "            lambda x: rmi_mapper[x]\n",
    "        )\n",
    "        steel_plant_abatement_switches = read_pickle_folder(\n",
    "            PROJECT_PATH / intermediate_path, \"emissivity_abatement_switches\", \"df\"\n",
    "        )\n",
    "        abatement_slim = subset_presolver_df(\n",
    "            steel_plant_abatement_switches, subset_type=\"abatement\"\n",
    "        )\n",
    "        return cls(\n",
    "            original_plant_df=original_plant_df,\n",
    "            year_range=year_range,\n",
    "            tech_moratorium=tech_moratorium,\n",
    "            trade_active=trade_active,\n",
    "            enforce_constraints=enforce_constraints,\n",
    "            regional_scrap_constraint=regional_scrap_constraint,\n",
    "            plant_investment_cycle_container=plant_investment_cycle_container,\n",
    "            variable_costs_regional=variable_costs_regional,\n",
    "            country_ref=country_ref,\n",
    "            rmi_mapper=rmi_mapper,\n",
    "            country_ref_f=country_ref_f,\n",
    "            bio_constraint_model=bio_constraint_model,\n",
    "            co2_constraint=co2_constraint,\n",
    "            ccs_constraint=ccs_constraint,\n",
    "            steel_demand_df=steel_demand_df,\n",
    "            tech_availability=tech_availability,\n",
    "            ta_dict=ta_dict,\n",
    "            capex_dict=capex_dict,\n",
    "            business_case_ref=business_case_ref,\n",
    "            green_premium_timeseries=green_premium_timeseries,\n",
    "            tco_summary_data=tco_summary_data,\n",
    "            tco_slim=tco_slim,\n",
    "            levelized_cost=levelized_cost,\n",
    "            steel_plant_abatement_switches=steel_plant_abatement_switches,\n",
    "            abatement_slim=abatement_slim,\n",
    "            scenario_dict=scenario_dict,\n",
    "        )"
   ]
  },
  {
   "cell_type": "code",
   "execution_count": 5,
   "id": "1b938a58-fb18-4536-a769-7fe93827e46a",
   "metadata": {},
   "outputs": [
    {
     "name": "stdout",
     "output_type": "stream",
     "text": [
      "2022-06-07 12:57:33,779 — mppsteel.data_load_and_format.country_reference — INFO — Formatting country DataFrame\n",
      "<__main__.ChooseTechnologyInput object at 0x1146d4520>\n"
     ]
    }
   ],
   "source": [
    "cti = ChooseTechnologyInput.from_filesystem(scenario_dict)\n",
    "print(cti)"
   ]
  },
  {
   "cell_type": "code",
   "execution_count": 6,
   "id": "d5f788f9-822c-4aa3-aa44-dd6da124ced0",
   "metadata": {},
   "outputs": [
    {
     "data": {
      "text/plain": [
       "{'scenario_name': 'default',\n",
       " 'tech_moratorium': True,\n",
       " 'enforce_constraints': True,\n",
       " 'transitional_switch': True,\n",
       " 'carbon_tax_scenario': 'off',\n",
       " 'green_premium_scenario': 'off',\n",
       " 'electricity_cost_scenario': 'average',\n",
       " 'grid_scenario': 'low',\n",
       " 'hydrogen_cost_scenario': 'low',\n",
       " 'biomass_cost_scenario': 'average',\n",
       " 'ccs_cost_scenario': 'low',\n",
       " 'ccs_capacity_scenario': 'low',\n",
       " 'fossil_fuel_scenario': 'high',\n",
       " 'steel_demand_scenario': 'average',\n",
       " 'tech_switch_scenario': 'lowest_cost',\n",
       " 'solver_logic': 'scale',\n",
       " 'trade_active': True,\n",
       " 'regional_scrap_constraint': True,\n",
       " 'usd_to_eur': 0.877,\n",
       " 'eur_to_usd': 1.1402508551881414}"
      ]
     },
     "execution_count": 6,
     "metadata": {},
     "output_type": "execute_result"
    }
   ],
   "source": [
    "cti.scenario_dict"
   ]
  },
  {
   "cell_type": "code",
   "execution_count": 18,
   "id": "a4a72216-35cd-48ce-8714-a724537ac149",
   "metadata": {},
   "outputs": [
    {
     "data": {
      "text/plain": [
       "'rmi_region'"
      ]
     },
     "execution_count": 18,
     "metadata": {},
     "output_type": "execute_result"
    }
   ],
   "source": [
    "MAIN_REGIONAL_SCHEMA"
   ]
  },
  {
   "cell_type": "code",
   "execution_count": 20,
   "id": "69c98074-650c-48fa-9324-1cca741575d2",
   "metadata": {},
   "outputs": [
    {
     "data": {
      "text/plain": [
       "array(['Africa', 'RoW', 'Southeast Asia', 'China', 'India',\n",
       "       'Japan, South Korea, and Taiwan', 'Middle East',\n",
       "       'South and Central America', 'CIS', 'Europe', 'NAFTA'],\n",
       "      dtype=object)"
      ]
     },
     "execution_count": 20,
     "metadata": {},
     "output_type": "execute_result"
    }
   ],
   "source": [
    "cti.original_plant_df[MAIN_REGIONAL_SCHEMA].unique()"
   ]
  },
  {
   "cell_type": "code",
   "execution_count": 27,
   "id": "18bccc02-a45d-4154-ab71-75ac42acc43f",
   "metadata": {},
   "outputs": [
    {
     "data": {
      "text/plain": [
       "0    False\n",
       "dtype: bool"
      ]
     },
     "execution_count": 27,
     "metadata": {},
     "output_type": "execute_result"
    }
   ],
   "source": [
    "year = 2020\n",
    "year_start_df = pd.DataFrame(\n",
    "    [[\"STE02421\", \"Africa\", True, 0.0, \"status\"]],\n",
    "    columns=[\"plant_id\", \"rmi_region\", \"active_check\", \"plant_capacity\", \"status\"],\n",
    ")\n",
    "year_start_df.apply(create_active_check_col, year=year, axis=1)"
   ]
  },
  {
   "cell_type": "code",
   "execution_count": 24,
   "id": "67f1977c-713e-4f28-a1e3-488adeb21f27",
   "metadata": {},
   "outputs": [
    {
     "data": {
      "text/plain": [
       "0       True\n",
       "1       True\n",
       "2       True\n",
       "4       True\n",
       "7       True\n",
       "        ... \n",
       "1375    True\n",
       "1376    True\n",
       "1377    True\n",
       "1382    True\n",
       "1383    True\n",
       "Length: 974, dtype: bool"
      ]
     },
     "execution_count": 24,
     "metadata": {},
     "output_type": "execute_result"
    }
   ],
   "source": [
    "year = 2020\n",
    "year_start_df = cti.original_plant_df.copy()\n",
    "year_start_df.apply(create_active_check_col, year=year, axis=1)"
   ]
  },
  {
   "cell_type": "code",
   "execution_count": 143,
   "id": "3a55680a-8dda-4ddb-96fd-07272150d263",
   "metadata": {},
   "outputs": [],
   "source": [
    "def choose_technology_new(cti: ChooseTechnologyInput) -> dict:\n",
    "    tech_moratorium = cti.tech_moratorium\n",
    "    trade_scenario = cti.trade_active\n",
    "    enforce_constraints = cti.enforce_constraints\n",
    "    regional_scrap = cti.regional_scrap_constraint\n",
    "    original_plant_df = cti.original_plant_df\n",
    "    PlantInvestmentCycleContainer = cti.plant_investment_cycle_container\n",
    "    variable_costs_regional = cti.variable_costs_regional\n",
    "    country_ref = cti.country_ref\n",
    "    rmi_mapper = cti.rmi_mapper\n",
    "    country_ref_f = cti.country_ref_f\n",
    "    bio_constraint_model = cti.bio_constraint_model\n",
    "    co2_constraint = cti.co2_constraint\n",
    "    ccs_constraint = cti.ccs_constraint\n",
    "    steel_demand_df = cti.steel_demand_df\n",
    "    tech_availability = cti.tech_availability\n",
    "    ta_dict = cti.ta_dict\n",
    "    capex_dict = cti.capex_dict\n",
    "    business_case_ref = cti.business_case_ref\n",
    "    green_premium_timeseries = cti.green_premium_timeseries\n",
    "    tco_summary_data = cti.tco_summary_data\n",
    "    tco_slim = cti.tco_slim\n",
    "    levelized_cost = cti.levelized_cost\n",
    "    steel_plant_abatement_switches = cti.steel_plant_abatement_switches\n",
    "    abatement_slim = cti.abatement_slim\n",
    "\n",
    "    # Initialize plant container\n",
    "    PlantIDC = PlantIdContainer()\n",
    "    PlantIDC.add_steel_plant_ids(original_plant_df)\n",
    "    year_start_df = original_plant_df.copy()"
   ]
  },
  {
   "cell_type": "code",
   "execution_count": 217,
   "id": "ac242af7-cc72-4078-8334-06526dd81899",
   "metadata": {},
   "outputs": [],
   "source": [
    "foo = 1, 2, 3, {}"
   ]
  },
  {
   "cell_type": "code",
   "execution_count": 218,
   "id": "6d1e9b20-39c6-49aa-bdca-fabfcd7fb9ed",
   "metadata": {},
   "outputs": [],
   "source": [
    "foo[-1][\"blub\"] = \"bla\""
   ]
  },
  {
   "cell_type": "code",
   "execution_count": 219,
   "id": "0a198d3d-a21b-409c-905d-c20301783f6e",
   "metadata": {},
   "outputs": [
    {
     "data": {
      "text/plain": [
       "(1, 2, 3, {'blub': 'bla'})"
      ]
     },
     "execution_count": 219,
     "metadata": {},
     "output_type": "execute_result"
    }
   ],
   "source": [
    "foo"
   ]
  },
  {
   "cell_type": "code",
   "execution_count": 223,
   "id": "33f2ee74-57f9-458a-847a-f53ffcffa604",
   "metadata": {},
   "outputs": [
    {
     "data": {
      "text/plain": [
       "'rmi_region'"
      ]
     },
     "execution_count": 223,
     "metadata": {},
     "output_type": "execute_result"
    }
   ],
   "source": [
    "MAIN_REGIONAL_SCHEMA"
   ]
  },
  {
   "cell_type": "code",
   "execution_count": null,
   "id": "b51f9cb4-013f-4ad7-99e4-92112f5c27bf",
   "metadata": {},
   "outputs": [],
   "source": []
  }
 ],
 "metadata": {
  "kernelspec": {
   "display_name": "Python 3 (ipykernel)",
   "language": "python",
   "name": "python3"
  },
  "language_info": {
   "codemirror_mode": {
    "name": "ipython",
    "version": 3
   },
   "file_extension": ".py",
   "mimetype": "text/x-python",
   "name": "python",
   "nbconvert_exporter": "python",
   "pygments_lexer": "ipython3",
   "version": "3.10.4"
  }
 },
 "nbformat": 4,
 "nbformat_minor": 5
}
