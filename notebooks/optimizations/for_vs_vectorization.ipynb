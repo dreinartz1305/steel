{
 "cells": [
  {
   "cell_type": "code",
   "execution_count": 1,
   "id": "4ec3502f-6c16-4784-ade5-afd112256b5e",
   "metadata": {},
   "outputs": [],
   "source": [
    "%load_ext lab_black"
   ]
  },
  {
   "cell_type": "code",
   "execution_count": 2,
   "id": "803408a4-9743-40b3-839d-76c2417a3c37",
   "metadata": {},
   "outputs": [],
   "source": [
    "import numpy as np\n",
    "import pandas as pd\n",
    "\n",
    "from mppsteel.config.model_scenarios import DEFAULT_SCENARIO\n",
    "from mppsteel.config.reference_lists import RESOURCE_CATEGORY_MAPPER\n",
    "from mppsteel.config.model_config import USD_TO_EUR_CONVERSION_DEFAULT, PROJECT_PATH\n",
    "\n",
    "from mppsteel.data_preprocessing.variable_plant_cost_archetypes import (\n",
    "    PlantVariableCostsInput,\n",
    "    build_variable_cost_df,\n",
    "    plant_variable_costs_vectorized,\n",
    "    plant_variable_costs_row_wise,\n",
    ")"
   ]
  },
  {
   "cell_type": "markdown",
   "id": "0deee2df-b77b-453f-b7b3-06427099c4bd",
   "metadata": {},
   "source": [
    "# Read the Data from Filesystem\n",
    "\n",
    "This had to be run at least one time: `python main.py -f`"
   ]
  },
  {
   "cell_type": "code",
   "execution_count": 3,
   "id": "acec3585-c739-40c8-97b1-c1308c9d71e3",
   "metadata": {},
   "outputs": [],
   "source": [
    "scenario_dict = DEFAULT_SCENARIO.copy()\n",
    "scenario_dict[\"usd_to_eur\"] = USD_TO_EUR_CONVERSION_DEFAULT\n",
    "scenario_dict[\"eur_to_usd\"] = 1.0 / scenario_dict[\"usd_to_eur\"]\n",
    "pvci = PlantVariableCostsInput.from_filesystem(scenario_dict)"
   ]
  },
  {
   "cell_type": "markdown",
   "id": "5cdc23e0-14e1-4449-abb4-bd6ce38e76b5",
   "metadata": {},
   "source": [
    "# Highlevel Comparison"
   ]
  },
  {
   "cell_type": "markdown",
   "id": "3c7f9055-96bb-4eb4-9617-0e397d6fa684",
   "metadata": {},
   "source": [
    "## Old Cost Calculation Function\n",
    "\n",
    "This is the old plant_variable_costs function, calculating the cost for each row individually."
   ]
  },
  {
   "cell_type": "code",
   "execution_count": 4,
   "id": "e07513f7-d49f-46ea-9db4-6c7babd995dc",
   "metadata": {},
   "outputs": [
    {
     "name": "stderr",
     "output_type": "stream",
     "text": [
      "Variable Cost Loop: 100%|█████████████████| 2356/2356 [00:43<00:00, 54.01it/s]\n"
     ]
    },
    {
     "name": "stdout",
     "output_type": "stream",
     "text": [
      "CPU times: user 44.1 s, sys: 405 ms, total: 44.5 s\n",
      "Wall time: 44.4 s\n"
     ]
    }
   ],
   "source": [
    "%%time\n",
    "dr = plant_variable_costs_row_wise(pvci)"
   ]
  },
  {
   "cell_type": "markdown",
   "id": "c3387841-bf33-4f3e-a23c-2828d035e735",
   "metadata": {},
   "source": [
    "## New Cost Calculation Function\n",
    "\n",
    "The new function builds up a dataframe containing the price for each material category and then just calculates all costs in one pass."
   ]
  },
  {
   "cell_type": "code",
   "execution_count": 5,
   "id": "bc4ed23b-94f6-4900-892a-a064151d38d6",
   "metadata": {},
   "outputs": [
    {
     "name": "stdout",
     "output_type": "stream",
     "text": [
      "CPU times: user 595 ms, sys: 80.3 ms, total: 675 ms\n",
      "Wall time: 674 ms\n"
     ]
    }
   ],
   "source": [
    "%%time\n",
    "dr = plant_variable_costs_vectorized(pvci)"
   ]
  },
  {
   "cell_type": "markdown",
   "id": "ffe41398-026f-4db8-a788-460f1a9f0b91",
   "metadata": {},
   "source": [
    "# Lowlevel Comparison\n",
    "\n",
    "Directly compare iterating over rows with just calculating all at once using [vectorization](https://www.youtube.com/watch?v=nxWginnBklU) (this talk is not 100% correct about everything, but provides a nice overview)."
   ]
  },
  {
   "cell_type": "code",
   "execution_count": 7,
   "id": "410ecc49-f6b1-41f8-9c59-d6df574ce8f1",
   "metadata": {},
   "outputs": [],
   "source": [
    "df = build_variable_cost_df(pvci)"
   ]
  },
  {
   "cell_type": "code",
   "execution_count": 8,
   "id": "024381dc-fe0e-4061-a357-57f520c22485",
   "metadata": {},
   "outputs": [],
   "source": [
    "def minimal_mapper(row, lookup={}):\n",
    "    return row.value * lookup.get(row.material_category, 1.0)\n",
    "\n",
    "\n",
    "CATEGORIES = list(df.material_category.unique())\n",
    "\n",
    "\n",
    "def mapper_with_multiple_branches(row, categories=CATEGORIES, lookup={}):\n",
    "    \"\"\"Simulate the original if/elif cascade\"\"\"\n",
    "    for category in categories:\n",
    "        if row.material_category == category:\n",
    "            row.value * lookup.get(row.material_category, 1.0)"
   ]
  },
  {
   "cell_type": "markdown",
   "id": "0098fc7d-c2f2-43a6-95de-0bdef94e7c32",
   "metadata": {},
   "source": [
    "## Just Using a Minimal Mapper\n",
    "\n",
    "To have a comparision between just the for loop with a single dict lookup and the vectorized variant."
   ]
  },
  {
   "cell_type": "code",
   "execution_count": 9,
   "id": "180efe02-17e7-4089-8615-53259501d6d3",
   "metadata": {},
   "outputs": [
    {
     "name": "stdout",
     "output_type": "stream",
     "text": [
      "CPU times: user 8.03 s, sys: 84.4 ms, total: 8.11 s\n",
      "Wall time: 8.11 s\n"
     ]
    }
   ],
   "source": [
    "%%time\n",
    "df[\"cost\"] = df.apply(minimal_mapper, axis=1)"
   ]
  },
  {
   "cell_type": "markdown",
   "id": "f43b37c0-ea80-4eba-ac9c-9e2f41f261e2",
   "metadata": {},
   "source": [
    "## Emulating the if / elif Cascade from the old Function\n",
    "\n",
    "Doing more in the inner for loop is really slow."
   ]
  },
  {
   "cell_type": "code",
   "execution_count": 10,
   "id": "f7027b2b-421b-4083-891a-76d1f912b836",
   "metadata": {},
   "outputs": [
    {
     "name": "stdout",
     "output_type": "stream",
     "text": [
      "CPU times: user 1min 6s, sys: 168 ms, total: 1min 6s\n",
      "Wall time: 1min 6s\n"
     ]
    }
   ],
   "source": [
    "%%time\n",
    "df[\"cost\"] = df.apply(mapper_with_multiple_branches, axis=1)"
   ]
  },
  {
   "cell_type": "markdown",
   "id": "b1a92eae-edbf-4063-b38a-26eb887a39e5",
   "metadata": {},
   "source": [
    "## Vectorized Calculation\n",
    "\n",
    "This is using [SIMD](https://en.wikipedia.org/wiki/Single_instruction,_multiple_data) instructions to iterate over the data and is since three orders of magnitudes faster than even the minimal for loop based calculation."
   ]
  },
  {
   "cell_type": "code",
   "execution_count": 19,
   "id": "26b69320-200d-41bf-bf1d-c84e427387d6",
   "metadata": {},
   "outputs": [
    {
     "name": "stdout",
     "output_type": "stream",
     "text": [
      "CPU times: user 5.1 ms, sys: 4.15 ms, total: 9.25 ms\n",
      "Wall time: 5.95 ms\n"
     ]
    }
   ],
   "source": [
    "%%time\n",
    "df[\"cost\"] = df.value * 1.0"
   ]
  },
  {
   "cell_type": "markdown",
   "id": "92f3aa32-1621-4f4d-84f7-c7de0738bb45",
   "metadata": {},
   "source": [
    "It's not about the scalar, using a series is fast, too."
   ]
  },
  {
   "cell_type": "code",
   "execution_count": 24,
   "id": "f63f810d-d508-4b20-8b15-677133ac0b7c",
   "metadata": {},
   "outputs": [
    {
     "name": "stdout",
     "output_type": "stream",
     "text": [
      "CPU times: user 8.8 ms, sys: 6.76 ms, total: 15.6 ms\n",
      "Wall time: 11.9 ms\n"
     ]
    }
   ],
   "source": [
    "%%time\n",
    "df[\"cost\"] = df.value * pd.Series(np.ones(df.shape[0]))"
   ]
  },
  {
   "cell_type": "markdown",
   "id": "b9569c56-688a-43b7-8e37-8bd86b97097b",
   "metadata": {},
   "source": [
    "# Memory Usage\n",
    "\n",
    "An additional optimization was to use the [category](https://pandas.pydata.org/docs/user_guide/categorical.html) datatype from pandas instead of the default object which is used if you store string data in a dataframe. This has not much influence on the runtime, but saves about one order of magnitude memory."
   ]
  },
  {
   "cell_type": "code",
   "execution_count": 12,
   "id": "b54f3990-3aca-43ba-a98a-851dea20ae56",
   "metadata": {},
   "outputs": [],
   "source": [
    "def convert_to_category(*args, columns=[\"material_category\", \"country_code\", \"year\"]):\n",
    "    for df in args:\n",
    "        for col in columns:\n",
    "            df[col] = df[col].astype(\"category\")\n",
    "    return args"
   ]
  },
  {
   "cell_type": "code",
   "execution_count": 13,
   "id": "471689dc-cde1-4c74-8882-5c05537010aa",
   "metadata": {},
   "outputs": [
    {
     "name": "stdout",
     "output_type": "stream",
     "text": [
      "<class 'pandas.core.frame.DataFrame'>\n",
      "Int64Index: 1088472 entries, 0 to 1088471\n",
      "Data columns (total 8 columns):\n",
      " #   Column             Non-Null Count    Dtype   \n",
      "---  ------             --------------    -----   \n",
      " 0   technology         1088472 non-null  category\n",
      " 1   material_category  1088472 non-null  category\n",
      " 2   metric_type        1088472 non-null  category\n",
      " 3   unit               1088472 non-null  category\n",
      " 4   value              1088472 non-null  float64 \n",
      " 5   year               1088472 non-null  category\n",
      " 6   country_code       1088472 non-null  category\n",
      " 7   cost               1088472 non-null  float64 \n",
      "dtypes: category(6), float64(2)\n",
      "memory usage: 31.2 MB\n"
     ]
    }
   ],
   "source": [
    "df = build_variable_cost_df(pvci)\n",
    "df.info(memory_usage=\"deep\")"
   ]
  },
  {
   "cell_type": "code",
   "execution_count": 14,
   "id": "b1d8f1ad-7ab0-4894-b95a-c85faa897cd9",
   "metadata": {},
   "outputs": [
    {
     "name": "stdout",
     "output_type": "stream",
     "text": [
      "<class 'pandas.core.frame.DataFrame'>\n",
      "Int64Index: 1088472 entries, 0 to 1088471\n",
      "Data columns (total 8 columns):\n",
      " #   Column             Non-Null Count    Dtype  \n",
      "---  ------             --------------    -----  \n",
      " 0   technology         1088472 non-null  object \n",
      " 1   material_category  1088472 non-null  object \n",
      " 2   metric_type        1088472 non-null  object \n",
      " 3   unit               1088472 non-null  object \n",
      " 4   value              1088472 non-null  float64\n",
      " 5   year               1088472 non-null  int64  \n",
      " 6   country_code       1088472 non-null  object \n",
      " 7   cost               1088472 non-null  float64\n",
      "dtypes: float64(2), int64(1), object(5)\n",
      "memory usage: 373.9 MB\n"
     ]
    }
   ],
   "source": [
    "df = build_variable_cost_df(pvci)\n",
    "for col in (\"technology\", \"material_category\", \"metric_type\", \"unit\", \"country_code\"):\n",
    "    df[col] = df[col].astype(object)\n",
    "df[\"year\"] = df.year.astype(int)\n",
    "df.info(memory_usage=\"deep\")"
   ]
  },
  {
   "cell_type": "code",
   "execution_count": 15,
   "id": "a0f2dc1d-9979-49d0-8539-3db1a75dc90d",
   "metadata": {},
   "outputs": [
    {
     "name": "stderr",
     "output_type": "stream",
     "text": [
      "Variable Cost Loop: 100%|█████████████████| 2356/2356 [00:43<00:00, 53.59it/s]\n"
     ]
    },
    {
     "name": "stdout",
     "output_type": "stream",
     "text": [
      "<class 'pandas.core.frame.DataFrame'>\n",
      "Int64Index: 1088472 entries, 0 to 1192135\n",
      "Data columns (total 9 columns):\n",
      " #   Column             Non-Null Count    Dtype  \n",
      "---  ------             --------------    -----  \n",
      " 0   technology         1088472 non-null  object \n",
      " 1   material_category  1088472 non-null  object \n",
      " 2   metric_type        1088472 non-null  object \n",
      " 3   unit               1088472 non-null  object \n",
      " 4   value              1088472 non-null  float64\n",
      " 5   year               1088472 non-null  int64  \n",
      " 6   country_code       1088472 non-null  object \n",
      " 7   cost               1088472 non-null  float64\n",
      " 8   cost_type          1088472 non-null  object \n",
      "dtypes: float64(2), int64(1), object(6)\n",
      "memory usage: 443.3 MB\n"
     ]
    }
   ],
   "source": [
    "dr = plant_variable_costs_row_wise(pvci)\n",
    "dr.info(memory_usage=\"deep\")"
   ]
  }
 ],
 "metadata": {
  "kernelspec": {
   "display_name": "Python 3 (ipykernel)",
   "language": "python",
   "name": "python3"
  },
  "language_info": {
   "codemirror_mode": {
    "name": "ipython",
    "version": 3
   },
   "file_extension": ".py",
   "mimetype": "text/x-python",
   "name": "python",
   "nbconvert_exporter": "python",
   "pygments_lexer": "ipython3",
   "version": "3.10.4"
  }
 },
 "nbformat": 4,
 "nbformat_minor": 5
}
