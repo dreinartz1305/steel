{
 "cells": [
  {
   "cell_type": "code",
   "execution_count": 1,
   "id": "7316f636-f55f-44c8-9ea4-9f04ca66bc1d",
   "metadata": {},
   "outputs": [],
   "source": [
    "%load_ext lab_black"
   ]
  },
  {
   "cell_type": "code",
   "execution_count": 2,
   "id": "31df7081-329b-438f-a678-f17cba255e8c",
   "metadata": {},
   "outputs": [],
   "source": [
    "import json\n",
    "import itertools\n",
    "\n",
    "import numpy as np\n",
    "import pandas as pd\n",
    "\n",
    "from pathlib import Path"
   ]
  },
  {
   "cell_type": "code",
   "execution_count": 3,
   "id": "72bcc6b3-da39-4782-bc73-cbfd783e3e19",
   "metadata": {},
   "outputs": [],
   "source": [
    "from mppsteel.config.reference_lists import RESOURCE_CATEGORY_MAPPER\n",
    "\n",
    "from mppsteel.data_preprocessing.variable_plant_cost_archetypes import (\n",
    "    plant_variable_costs,\n",
    "    generate_feedstock_dict,\n",
    "    generate_variable_costs,\n",
    "    vc_mapper,\n",
    ")\n",
    "\n",
    "from mppsteel.utility.file_handling_utility import (\n",
    "    read_pickle_folder,\n",
    "    get_scenario_pkl_path,\n",
    ")\n",
    "\n",
    "from mppsteel.config.model_config import (\n",
    "    PKL_DATA_FORMATTED,\n",
    "    PKL_DATA_IMPORTS,\n",
    "    MODEL_YEAR_RANGE,\n",
    ")"
   ]
  },
  {
   "cell_type": "code",
   "execution_count": 4,
   "id": "70a4542e-d58e-4026-9e5c-239cfc3d2e78",
   "metadata": {},
   "outputs": [
    {
     "data": {
      "text/plain": [
       "<function mppsteel.data_preprocessing.variable_plant_cost_archetypes.plant_variable_costs(scenario_dict: dict) -> pandas.core.frame.DataFrame>"
      ]
     },
     "execution_count": 4,
     "metadata": {},
     "output_type": "execute_result"
    }
   ],
   "source": [
    "plant_variable_costs"
   ]
  },
  {
   "cell_type": "markdown",
   "id": "4559a303-4a0f-497e-b1f7-4171d61ec579",
   "metadata": {},
   "source": [
    "# Generate Complete Result"
   ]
  },
  {
   "cell_type": "code",
   "execution_count": 4,
   "id": "ddf41638-f2e7-4d20-9ec1-07b9fbb5bf97",
   "metadata": {},
   "outputs": [
    {
     "ename": "FileNotFoundError",
     "evalue": "[Errno 2] No such file or directory: '/tmp/scenario_dict.json'",
     "output_type": "error",
     "traceback": [
      "\u001b[0;31m---------------------------------------------------------------------------\u001b[0m",
      "\u001b[0;31mFileNotFoundError\u001b[0m                         Traceback (most recent call last)",
      "Input \u001b[0;32mIn [4]\u001b[0m, in \u001b[0;36m<cell line: 2>\u001b[0;34m()\u001b[0m\n\u001b[1;32m      1\u001b[0m scenario_path \u001b[38;5;241m=\u001b[39m Path(\u001b[38;5;124m\"\u001b[39m\u001b[38;5;124m/tmp/scenario_dict.json\u001b[39m\u001b[38;5;124m\"\u001b[39m)\n\u001b[0;32m----> 2\u001b[0m \u001b[38;5;28;01mwith\u001b[39;00m \u001b[43mscenario_path\u001b[49m\u001b[38;5;241;43m.\u001b[39;49m\u001b[43mopen\u001b[49m\u001b[43m(\u001b[49m\u001b[38;5;124;43m\"\u001b[39;49m\u001b[38;5;124;43mr\u001b[39;49m\u001b[38;5;124;43m\"\u001b[39;49m\u001b[43m)\u001b[49m \u001b[38;5;28;01mas\u001b[39;00m f:\n\u001b[1;32m      3\u001b[0m     scenario_dict \u001b[38;5;241m=\u001b[39m json\u001b[38;5;241m.\u001b[39mload(f)\n",
      "File \u001b[0;32m~/.pyenv/versions/3.10.4/lib/python3.10/pathlib.py:1117\u001b[0m, in \u001b[0;36mPath.open\u001b[0;34m(self, mode, buffering, encoding, errors, newline)\u001b[0m\n\u001b[1;32m   1115\u001b[0m \u001b[38;5;28;01mif\u001b[39;00m \u001b[38;5;124m\"\u001b[39m\u001b[38;5;124mb\u001b[39m\u001b[38;5;124m\"\u001b[39m \u001b[38;5;129;01mnot\u001b[39;00m \u001b[38;5;129;01min\u001b[39;00m mode:\n\u001b[1;32m   1116\u001b[0m     encoding \u001b[38;5;241m=\u001b[39m io\u001b[38;5;241m.\u001b[39mtext_encoding(encoding)\n\u001b[0;32m-> 1117\u001b[0m \u001b[38;5;28;01mreturn\u001b[39;00m \u001b[38;5;28;43mself\u001b[39;49m\u001b[38;5;241;43m.\u001b[39;49m\u001b[43m_accessor\u001b[49m\u001b[38;5;241;43m.\u001b[39;49m\u001b[43mopen\u001b[49m\u001b[43m(\u001b[49m\u001b[38;5;28;43mself\u001b[39;49m\u001b[43m,\u001b[49m\u001b[43m \u001b[49m\u001b[43mmode\u001b[49m\u001b[43m,\u001b[49m\u001b[43m \u001b[49m\u001b[43mbuffering\u001b[49m\u001b[43m,\u001b[49m\u001b[43m \u001b[49m\u001b[43mencoding\u001b[49m\u001b[43m,\u001b[49m\u001b[43m \u001b[49m\u001b[43merrors\u001b[49m\u001b[43m,\u001b[49m\n\u001b[1;32m   1118\u001b[0m \u001b[43m                           \u001b[49m\u001b[43mnewline\u001b[49m\u001b[43m)\u001b[49m\n",
      "\u001b[0;31mFileNotFoundError\u001b[0m: [Errno 2] No such file or directory: '/tmp/scenario_dict.json'"
     ]
    }
   ],
   "source": [
    "scenario_path = Path(\"/tmp/scenario_dict.json\")\n",
    "with scenario_path.open(\"r\") as f:\n",
    "    scenario_dict = json.load(f)"
   ]
  },
  {
   "cell_type": "code",
   "execution_count": null,
   "id": "da2f80cb-00a9-4dc2-b5af-d45638a3feee",
   "metadata": {},
   "outputs": [],
   "source": [
    "scenario_dict"
   ]
  },
  {
   "cell_type": "code",
   "execution_count": 63,
   "id": "aa43c0ad-e811-4a1b-8d35-09da247be4ab",
   "metadata": {},
   "outputs": [
    {
     "name": "stderr",
     "output_type": "stream",
     "text": [
      "Variable Cost Loop: 100%|██████████████████████████████████████████████████████| 2356/2356 [03:16<00:00, 12.01it/s]\n"
     ]
    },
    {
     "name": "stdout",
     "output_type": "stream",
     "text": [
      "CPU times: user 3min 12s, sys: 5.25 s, total: 3min 17s\n",
      "Wall time: 3min 18s\n"
     ]
    }
   ],
   "source": [
    "%%time\n",
    "df_reference = plant_variable_costs(scenario_dict)"
   ]
  },
  {
   "cell_type": "code",
   "execution_count": 64,
   "id": "0dae3da8-2add-4183-bb78-a3ab1542fdb0",
   "metadata": {},
   "outputs": [
    {
     "data": {
      "text/html": [
       "<div>\n",
       "<style scoped>\n",
       "    .dataframe tbody tr th:only-of-type {\n",
       "        vertical-align: middle;\n",
       "    }\n",
       "\n",
       "    .dataframe tbody tr th {\n",
       "        vertical-align: top;\n",
       "    }\n",
       "\n",
       "    .dataframe thead th {\n",
       "        text-align: right;\n",
       "    }\n",
       "</style>\n",
       "<table border=\"1\" class=\"dataframe\">\n",
       "  <thead>\n",
       "    <tr style=\"text-align: right;\">\n",
       "      <th></th>\n",
       "      <th>technology</th>\n",
       "      <th>material_category</th>\n",
       "      <th>metric_type</th>\n",
       "      <th>unit</th>\n",
       "      <th>value</th>\n",
       "      <th>year</th>\n",
       "      <th>country_code</th>\n",
       "      <th>cost</th>\n",
       "      <th>cost_type</th>\n",
       "    </tr>\n",
       "  </thead>\n",
       "  <tbody>\n",
       "    <tr>\n",
       "      <th>14</th>\n",
       "      <td>Avg BF-BOF</td>\n",
       "      <td>Electricity</td>\n",
       "      <td>Purchased energy</td>\n",
       "      <td>GJ/t steel</td>\n",
       "      <td>0.197855</td>\n",
       "      <td>2020</td>\n",
       "      <td>DZA</td>\n",
       "      <td>4.498158</td>\n",
       "      <td>Electricity</td>\n",
       "    </tr>\n",
       "    <tr>\n",
       "      <th>37</th>\n",
       "      <td>BAT BF-BOF</td>\n",
       "      <td>Electricity</td>\n",
       "      <td>Purchased energy</td>\n",
       "      <td>GJ/t steel</td>\n",
       "      <td>0.197855</td>\n",
       "      <td>2020</td>\n",
       "      <td>DZA</td>\n",
       "      <td>4.498158</td>\n",
       "      <td>Electricity</td>\n",
       "    </tr>\n",
       "    <tr>\n",
       "      <th>60</th>\n",
       "      <td>BAT BF-BOF_bio PCI</td>\n",
       "      <td>Electricity</td>\n",
       "      <td>Purchased energy</td>\n",
       "      <td>GJ/t steel</td>\n",
       "      <td>0.197855</td>\n",
       "      <td>2020</td>\n",
       "      <td>DZA</td>\n",
       "      <td>4.498158</td>\n",
       "      <td>Electricity</td>\n",
       "    </tr>\n",
       "    <tr>\n",
       "      <th>83</th>\n",
       "      <td>BAT BF-BOF_H2 PCI</td>\n",
       "      <td>Electricity</td>\n",
       "      <td>Purchased energy</td>\n",
       "      <td>GJ/t steel</td>\n",
       "      <td>0.197855</td>\n",
       "      <td>2020</td>\n",
       "      <td>DZA</td>\n",
       "      <td>4.498158</td>\n",
       "      <td>Electricity</td>\n",
       "    </tr>\n",
       "    <tr>\n",
       "      <th>106</th>\n",
       "      <td>BAT BF-BOF+CCUS</td>\n",
       "      <td>Electricity</td>\n",
       "      <td>Purchased energy</td>\n",
       "      <td>GJ/t steel</td>\n",
       "      <td>6.967080</td>\n",
       "      <td>2020</td>\n",
       "      <td>DZA</td>\n",
       "      <td>158.393830</td>\n",
       "      <td>Electricity</td>\n",
       "    </tr>\n",
       "    <tr>\n",
       "      <th>...</th>\n",
       "      <td>...</td>\n",
       "      <td>...</td>\n",
       "      <td>...</td>\n",
       "      <td>...</td>\n",
       "      <td>...</td>\n",
       "      <td>...</td>\n",
       "      <td>...</td>\n",
       "      <td>...</td>\n",
       "      <td>...</td>\n",
       "    </tr>\n",
       "    <tr>\n",
       "      <th>1192035</th>\n",
       "      <td>DRI-Melt-BOF</td>\n",
       "      <td>Electricity</td>\n",
       "      <td>Purchased energy</td>\n",
       "      <td>GJ/t steel</td>\n",
       "      <td>0.694297</td>\n",
       "      <td>2050</td>\n",
       "      <td>USA</td>\n",
       "      <td>11.717554</td>\n",
       "      <td>Electricity</td>\n",
       "    </tr>\n",
       "    <tr>\n",
       "      <th>1192058</th>\n",
       "      <td>DRI-Melt-BOF+CCUS</td>\n",
       "      <td>Electricity</td>\n",
       "      <td>Purchased energy</td>\n",
       "      <td>GJ/t steel</td>\n",
       "      <td>3.501320</td>\n",
       "      <td>2050</td>\n",
       "      <td>USA</td>\n",
       "      <td>59.091243</td>\n",
       "      <td>Electricity</td>\n",
       "    </tr>\n",
       "    <tr>\n",
       "      <th>1192081</th>\n",
       "      <td>DRI-Melt-BOF_100% zero-C H2</td>\n",
       "      <td>Electricity</td>\n",
       "      <td>Purchased energy</td>\n",
       "      <td>GJ/t steel</td>\n",
       "      <td>6.182434</td>\n",
       "      <td>2050</td>\n",
       "      <td>USA</td>\n",
       "      <td>104.340013</td>\n",
       "      <td>Electricity</td>\n",
       "    </tr>\n",
       "    <tr>\n",
       "      <th>1192104</th>\n",
       "      <td>Electrowinning-EAF</td>\n",
       "      <td>Electricity</td>\n",
       "      <td>Purchased energy</td>\n",
       "      <td>GJ/t steel</td>\n",
       "      <td>10.924412</td>\n",
       "      <td>2050</td>\n",
       "      <td>USA</td>\n",
       "      <td>184.369658</td>\n",
       "      <td>Electricity</td>\n",
       "    </tr>\n",
       "    <tr>\n",
       "      <th>1192127</th>\n",
       "      <td>BAT BF-BOF+BECCUS</td>\n",
       "      <td>Electricity</td>\n",
       "      <td>Purchased energy</td>\n",
       "      <td>GJ/t steel</td>\n",
       "      <td>7.213562</td>\n",
       "      <td>2050</td>\n",
       "      <td>USA</td>\n",
       "      <td>121.742207</td>\n",
       "      <td>Electricity</td>\n",
       "    </tr>\n",
       "  </tbody>\n",
       "</table>\n",
       "<p>51832 rows × 9 columns</p>\n",
       "</div>"
      ],
      "text/plain": [
       "                          technology material_category       metric_type  \\\n",
       "14                        Avg BF-BOF       Electricity  Purchased energy   \n",
       "37                        BAT BF-BOF       Electricity  Purchased energy   \n",
       "60                BAT BF-BOF_bio PCI       Electricity  Purchased energy   \n",
       "83                 BAT BF-BOF_H2 PCI       Electricity  Purchased energy   \n",
       "106                  BAT BF-BOF+CCUS       Electricity  Purchased energy   \n",
       "...                              ...               ...               ...   \n",
       "1192035                 DRI-Melt-BOF       Electricity  Purchased energy   \n",
       "1192058            DRI-Melt-BOF+CCUS       Electricity  Purchased energy   \n",
       "1192081  DRI-Melt-BOF_100% zero-C H2       Electricity  Purchased energy   \n",
       "1192104           Electrowinning-EAF       Electricity  Purchased energy   \n",
       "1192127            BAT BF-BOF+BECCUS       Electricity  Purchased energy   \n",
       "\n",
       "               unit      value  year country_code        cost    cost_type  \n",
       "14       GJ/t steel   0.197855  2020          DZA    4.498158  Electricity  \n",
       "37       GJ/t steel   0.197855  2020          DZA    4.498158  Electricity  \n",
       "60       GJ/t steel   0.197855  2020          DZA    4.498158  Electricity  \n",
       "83       GJ/t steel   0.197855  2020          DZA    4.498158  Electricity  \n",
       "106      GJ/t steel   6.967080  2020          DZA  158.393830  Electricity  \n",
       "...             ...        ...   ...          ...         ...          ...  \n",
       "1192035  GJ/t steel   0.694297  2050          USA   11.717554  Electricity  \n",
       "1192058  GJ/t steel   3.501320  2050          USA   59.091243  Electricity  \n",
       "1192081  GJ/t steel   6.182434  2050          USA  104.340013  Electricity  \n",
       "1192104  GJ/t steel  10.924412  2050          USA  184.369658  Electricity  \n",
       "1192127  GJ/t steel   7.213562  2050          USA  121.742207  Electricity  \n",
       "\n",
       "[51832 rows x 9 columns]"
      ]
     },
     "execution_count": 64,
     "metadata": {},
     "output_type": "execute_result"
    }
   ],
   "source": [
    "df_reference[df_reference.material_category == \"Electricity\"]"
   ]
  },
  {
   "cell_type": "code",
   "execution_count": 73,
   "id": "a50107f8-0091-4733-a343-d1b59ad8e4fe",
   "metadata": {},
   "outputs": [
    {
     "data": {
      "text/html": [
       "<div>\n",
       "<style scoped>\n",
       "    .dataframe tbody tr th:only-of-type {\n",
       "        vertical-align: middle;\n",
       "    }\n",
       "\n",
       "    .dataframe tbody tr th {\n",
       "        vertical-align: top;\n",
       "    }\n",
       "\n",
       "    .dataframe thead th {\n",
       "        text-align: right;\n",
       "    }\n",
       "</style>\n",
       "<table border=\"1\" class=\"dataframe\">\n",
       "  <thead>\n",
       "    <tr style=\"text-align: right;\">\n",
       "      <th></th>\n",
       "      <th>technology</th>\n",
       "      <th>material_category</th>\n",
       "      <th>metric_type</th>\n",
       "      <th>unit</th>\n",
       "      <th>value</th>\n",
       "      <th>year</th>\n",
       "      <th>country_code</th>\n",
       "      <th>cost</th>\n",
       "      <th>cost_type</th>\n",
       "    </tr>\n",
       "  </thead>\n",
       "  <tbody>\n",
       "    <tr>\n",
       "      <th>1192058</th>\n",
       "      <td>DRI-Melt-BOF+CCUS</td>\n",
       "      <td>Electricity</td>\n",
       "      <td>Purchased energy</td>\n",
       "      <td>GJ/t steel</td>\n",
       "      <td>3.50132</td>\n",
       "      <td>2050</td>\n",
       "      <td>USA</td>\n",
       "      <td>59.091243</td>\n",
       "      <td>Electricity</td>\n",
       "    </tr>\n",
       "  </tbody>\n",
       "</table>\n",
       "</div>"
      ],
      "text/plain": [
       "                technology material_category       metric_type        unit  \\\n",
       "1192058  DRI-Melt-BOF+CCUS       Electricity  Purchased energy  GJ/t steel   \n",
       "\n",
       "           value  year country_code       cost    cost_type  \n",
       "1192058  3.50132  2050          USA  59.091243  Electricity  "
      ]
     },
     "execution_count": 73,
     "metadata": {},
     "output_type": "execute_result"
    }
   ],
   "source": [
    "query_str = \"material_category == 'Electricity' and technology == 'DRI-Melt-BOF+CCUS' and year == 2050 and country_code == 'USA'\"\n",
    "df_reference.query(query_str)"
   ]
  },
  {
   "cell_type": "code",
   "execution_count": 18,
   "id": "6d64b4c4-30d8-4746-9637-dcd95ba107c6",
   "metadata": {},
   "outputs": [],
   "source": [
    "intermediate_path = get_scenario_pkl_path(\n",
    "    scenario_dict[\"scenario_name\"], \"intermediate\"\n",
    ")\n",
    "eur_to_usd_rate = scenario_dict[\"eur_to_usd\"]\n",
    "\n",
    "steel_plants = read_pickle_folder(PKL_DATA_FORMATTED, \"steel_plants_processed\", \"df\")\n",
    "steel_plant_region_ng_dict = (\n",
    "    steel_plants[[\"country_code\", \"cheap_natural_gas\"]]\n",
    "    .set_index(\"country_code\")\n",
    "    .to_dict()[\"cheap_natural_gas\"]\n",
    ")\n",
    "power_grid_prices_ref = read_pickle_folder(\n",
    "    intermediate_path, \"power_grid_prices_ref\", \"df\"\n",
    ")\n",
    "h2_prices_ref = read_pickle_folder(intermediate_path, \"h2_prices_ref\", \"df\")\n",
    "bio_model_prices_ref = read_pickle_folder(\n",
    "    intermediate_path, \"bio_model_prices_ref\", \"df\"\n",
    ")\n",
    "ccs_model_transport_ref = read_pickle_folder(\n",
    "    intermediate_path, \"ccs_model_transport_ref\", \"df\"\n",
    ")\n",
    "ccs_model_storage_ref = read_pickle_folder(\n",
    "    intermediate_path, \"ccs_model_storage_ref\", \"df\"\n",
    ")\n",
    "business_cases = read_pickle_folder(\n",
    "    PKL_DATA_FORMATTED, \"standardised_business_cases\", \"df\"\n",
    ").reset_index()\n",
    "static_energy_prices = read_pickle_folder(\n",
    "    PKL_DATA_IMPORTS, \"static_energy_prices\", \"df\"\n",
    ")[[\"Metric\", \"Year\", \"Value\"]]\n",
    "static_energy_prices.set_index([\"Metric\", \"Year\"], inplace=True)\n",
    "feedstock_dict = generate_feedstock_dict(eur_to_usd_rate)\n",
    "steel_plant_country_codes = list(steel_plants[\"country_code\"].unique())"
   ]
  },
  {
   "cell_type": "code",
   "execution_count": null,
   "id": "1466bf0f-8fd0-4cff-8d6e-25afe985eac3",
   "metadata": {},
   "outputs": [],
   "source": []
  },
  {
   "cell_type": "code",
   "execution_count": 22,
   "id": "70902481-44d9-43fc-9a1b-3431251a0c48",
   "metadata": {},
   "outputs": [],
   "source": [
    "product_range_year_country = list(\n",
    "    itertools.product(MODEL_YEAR_RANGE, steel_plant_country_codes)\n",
    ")"
   ]
  },
  {
   "cell_type": "code",
   "execution_count": 24,
   "id": "489b99e1-c4fe-4e48-ac00-3b414c7a0cc0",
   "metadata": {},
   "outputs": [
    {
     "data": {
      "text/plain": [
       "2356"
      ]
     },
     "execution_count": 24,
     "metadata": {},
     "output_type": "execute_result"
    }
   ],
   "source": [
    "len(product_range_year_country)"
   ]
  },
  {
   "cell_type": "code",
   "execution_count": 25,
   "id": "245ba6a0-ba65-4b91-a0e6-c14bfd4cda60",
   "metadata": {},
   "outputs": [
    {
     "data": {
      "text/plain": [
       "(2020, 'DZA')"
      ]
     },
     "execution_count": 25,
     "metadata": {},
     "output_type": "execute_result"
    }
   ],
   "source": [
    "product_range_year_country[0]"
   ]
  },
  {
   "cell_type": "code",
   "execution_count": null,
   "id": "2db85c06-07d0-408d-abd8-8a6a76e3f050",
   "metadata": {},
   "outputs": [],
   "source": [
    "plant_variable_costs"
   ]
  },
  {
   "cell_type": "code",
   "execution_count": 28,
   "id": "7a20d6fd-c5a5-45d2-94ee-65c72eb7e9aa",
   "metadata": {},
   "outputs": [
    {
     "name": "stdout",
     "output_type": "stream",
     "text": [
      "CPU times: user 89.8 ms, sys: 4.82 ms, total: 94.6 ms\n",
      "Wall time: 94.5 ms\n"
     ]
    }
   ],
   "source": [
    "%%time\n",
    "year, country_code = product_range_year_country[0]\n",
    "df = generate_variable_costs(\n",
    "    year=year,\n",
    "    country_code=country_code,\n",
    "    business_cases_df=business_cases,\n",
    "    ng_dict=steel_plant_region_ng_dict,\n",
    "    feedstock_dict=feedstock_dict,\n",
    "    static_energy_df=static_energy_prices,\n",
    "    electricity_ref=power_grid_prices_ref,\n",
    "    hydrogen_ref=h2_prices_ref,\n",
    "    bio_ref=bio_model_prices_ref,\n",
    "    ccs_storage_ref=ccs_model_storage_ref,\n",
    "    ccs_transport_ref=ccs_model_transport_ref,\n",
    ")"
   ]
  },
  {
   "cell_type": "code",
   "execution_count": 30,
   "id": "d55febae-acd6-4da0-8f0d-21e40c769ae3",
   "metadata": {},
   "outputs": [
    {
     "data": {
      "text/plain": [
       "(506, 8)"
      ]
     },
     "execution_count": 30,
     "metadata": {},
     "output_type": "execute_result"
    }
   ],
   "source": [
    "df.shape"
   ]
  },
  {
   "cell_type": "code",
   "execution_count": 50,
   "id": "61b48e64-fe89-4483-9d2e-310d288bd7b7",
   "metadata": {},
   "outputs": [],
   "source": [
    "def vc_mapper_fast(\n",
    "    row: pd.Series,\n",
    "    country_code: str,\n",
    "    year: int,\n",
    "    static_year: int,\n",
    "    electricity_ref: dict,\n",
    "    hydrogen_ref: dict,\n",
    "    bio_ref: dict,\n",
    "    ccs_transport_ref: dict,\n",
    "    ccs_storage_ref: dict,\n",
    "    feedstock_dict: dict,\n",
    "    static_energy_df: pd.DataFrame,\n",
    "    ng_flag: int,\n",
    ") -> float:\n",
    "    \"\"\"_summary_\n",
    "\n",
    "    Args:\n",
    "        row (pd.Series): A Series containing the consumption rates for each technology and resource.\n",
    "        country_code (str): The country code to create a reference for.\n",
    "        year (int): The year to create a reference for.\n",
    "        static_year (int): The static year to be used for datasets that end after a certain year.\n",
    "        electricity_ref (dict): The electricity grid price reference dict.\n",
    "        hydrogen_ref (dict): The hydrogen price reference dict.\n",
    "        bio_ref (dict): The bio price reference dict.\n",
    "        ccs_transport_ref (dict): The ccs transport price reference dict.\n",
    "        ccs_storage_ref (dict): The ccs storage price reference dict.\n",
    "        feedstock_dict (dict): The feedstock price reference dict.\n",
    "        static_energy_df (pd.DataFrame): The static energy reference dict.\n",
    "        ng_flag (int): The natural gas flag price.\n",
    "\n",
    "    Returns:\n",
    "        float: A float value containing the variable cost value to assign.\n",
    "    \"\"\"\n",
    "    if row.material_category == \"Electricity\":\n",
    "        return row.value * electricity_ref[(year, country_code)]\n",
    "    elif row.material_category == \"Hydrogen\":\n",
    "        return row.value * hydrogen_ref[(year, country_code)]\n",
    "\n",
    "    elif RESOURCE_CATEGORY_MAPPER[row.material_category] == \"Bio Fuels\":\n",
    "        return row.value * bio_ref[(year, country_code)]\n",
    "\n",
    "    elif RESOURCE_CATEGORY_MAPPER[row.material_category] == \"CCS\":\n",
    "        return row.value * (\n",
    "            ccs_transport_ref[country_code] + ccs_storage_ref[country_code]\n",
    "        )\n",
    "\n",
    "    elif (row.material_category == \"Natural gas\") and (ng_flag == 1):\n",
    "        return (\n",
    "            row.value * static_energy_df.loc[\"Natural gas - low\", static_year][\"Value\"]\n",
    "        )\n",
    "\n",
    "    elif (row.material_category == \"Natural gas\") and (ng_flag == 0):\n",
    "        return (\n",
    "            row.value * static_energy_df.loc[\"Natural gas - high\", static_year][\"Value\"]\n",
    "        )\n",
    "\n",
    "    elif row.material_category == \"Plastic waste\":\n",
    "        return row.value * feedstock_dict[\"Plastic waste\"]\n",
    "\n",
    "    elif (RESOURCE_CATEGORY_MAPPER[row.material_category] == \"Fossil Fuels\") and (\n",
    "        row.material_category not in [\"Natural gas\", \"Plastic waste\"]\n",
    "    ):\n",
    "        return (\n",
    "            row.value\n",
    "            * static_energy_df.loc[row.material_category, static_year][\"Value\"]\n",
    "        )\n",
    "\n",
    "    elif RESOURCE_CATEGORY_MAPPER[row.material_category] == \"Feedstock\":\n",
    "        return row.value * feedstock_dict[row.material_category]\n",
    "\n",
    "    elif RESOURCE_CATEGORY_MAPPER[row.material_category] == \"Other Opex\":\n",
    "        if row.material_category in {\"BF slag\", \"Other slag\"}:\n",
    "            return row.value * feedstock_dict[row.material_category]\n",
    "\n",
    "        elif row.material_category == \"Steam\":\n",
    "            return row.value * static_energy_df.loc[\"Steam\", static_year][\"Value\"]\n",
    "    return 0"
   ]
  },
  {
   "cell_type": "code",
   "execution_count": 60,
   "id": "e71059b9-ca04-4359-a081-09ee95c8c2ac",
   "metadata": {},
   "outputs": [
    {
     "name": "stdout",
     "output_type": "stream",
     "text": [
      "CPU times: user 709 µs, sys: 154 µs, total: 863 µs\n",
      "Wall time: 770 µs\n"
     ]
    }
   ],
   "source": [
    "%%time\n",
    "business_cases_df = business_cases\n",
    "ng_dict = steel_plant_region_ng_dict\n",
    "electricity_ref = power_grid_prices_ref\n",
    "hydrogen_ref = h2_prices_ref\n",
    "bio_ref = bio_model_prices_ref\n",
    "ccs_storage_ref = ccs_model_storage_ref\n",
    "ccs_transport_ref = ccs_model_transport_ref\n",
    "static_energy_df = static_energy_prices\n",
    "\n",
    "df_c = business_cases_df.copy()\n",
    "static_year = min(2026, year)\n",
    "ng_flag = ng_dict[country_code]\n",
    "df_c[\"year\"] = year\n",
    "df_c[\"country_code\"] = country_code\n",
    "df_c[\"cost\"] = df_c.apply(\n",
    "    vc_mapper_fast,\n",
    "    country_code=country_code,\n",
    "    year=year,\n",
    "    static_year=static_year,\n",
    "    electricity_ref=electricity_ref,\n",
    "    hydrogen_ref=hydrogen_ref,\n",
    "    bio_ref=bio_ref,\n",
    "    ccs_transport_ref=ccs_transport_ref,\n",
    "    ccs_storage_ref=ccs_storage_ref,\n",
    "    feedstock_dict=feedstock_dict,\n",
    "    static_energy_df=static_energy_df,\n",
    "    ng_flag=ng_flag,\n",
    "    axis=1,\n",
    ")"
   ]
  },
  {
   "cell_type": "code",
   "execution_count": 61,
   "id": "7f171046-5c03-4e70-9f14-5b0d7d8192a6",
   "metadata": {},
   "outputs": [
    {
     "data": {
      "text/plain": [
       "(506, 5)"
      ]
     },
     "execution_count": 61,
     "metadata": {},
     "output_type": "execute_result"
    }
   ],
   "source": [
    "df_c.shape"
   ]
  },
  {
   "cell_type": "code",
   "execution_count": 55,
   "id": "2f6811de-fda4-46ac-8124-c55f541b7d7b",
   "metadata": {},
   "outputs": [
    {
     "data": {
      "text/html": [
       "<div>\n",
       "<style scoped>\n",
       "    .dataframe tbody tr th:only-of-type {\n",
       "        vertical-align: middle;\n",
       "    }\n",
       "\n",
       "    .dataframe tbody tr th {\n",
       "        vertical-align: top;\n",
       "    }\n",
       "\n",
       "    .dataframe thead th {\n",
       "        text-align: right;\n",
       "    }\n",
       "</style>\n",
       "<table border=\"1\" class=\"dataframe\">\n",
       "  <thead>\n",
       "    <tr style=\"text-align: right;\">\n",
       "      <th></th>\n",
       "      <th>technology</th>\n",
       "      <th>material_category</th>\n",
       "      <th>metric_type</th>\n",
       "      <th>unit</th>\n",
       "      <th>value</th>\n",
       "      <th>year</th>\n",
       "      <th>country_code</th>\n",
       "      <th>cost</th>\n",
       "    </tr>\n",
       "  </thead>\n",
       "  <tbody>\n",
       "    <tr>\n",
       "      <th>0</th>\n",
       "      <td>Avg BF-BOF</td>\n",
       "      <td>Iron ore</td>\n",
       "      <td>Feedstock</td>\n",
       "      <td>t/t steel</td>\n",
       "      <td>1.367188</td>\n",
       "      <td>2020</td>\n",
       "      <td>DZA</td>\n",
       "      <td>133.615284</td>\n",
       "    </tr>\n",
       "    <tr>\n",
       "      <th>1</th>\n",
       "      <td>Avg BF-BOF</td>\n",
       "      <td>Scrap</td>\n",
       "      <td>Feedstock</td>\n",
       "      <td>t/t steel</td>\n",
       "      <td>0.168300</td>\n",
       "      <td>2020</td>\n",
       "      <td>DZA</td>\n",
       "      <td>37.776618</td>\n",
       "    </tr>\n",
       "    <tr>\n",
       "      <th>2</th>\n",
       "      <td>Avg BF-BOF</td>\n",
       "      <td>DRI</td>\n",
       "      <td>Feedstock</td>\n",
       "      <td>t/t steel</td>\n",
       "      <td>0.000000</td>\n",
       "      <td>2020</td>\n",
       "      <td>DZA</td>\n",
       "      <td>0.000000</td>\n",
       "    </tr>\n",
       "    <tr>\n",
       "      <th>3</th>\n",
       "      <td>Avg BF-BOF</td>\n",
       "      <td>Met coal</td>\n",
       "      <td>Feedstock</td>\n",
       "      <td>t/t steel</td>\n",
       "      <td>0.367583</td>\n",
       "      <td>2020</td>\n",
       "      <td>DZA</td>\n",
       "      <td>45.131784</td>\n",
       "    </tr>\n",
       "    <tr>\n",
       "      <th>4</th>\n",
       "      <td>Avg BF-BOF</td>\n",
       "      <td>Coke</td>\n",
       "      <td>Fuel</td>\n",
       "      <td>GJ/t steel</td>\n",
       "      <td>7.437468</td>\n",
       "      <td>2020</td>\n",
       "      <td>DZA</td>\n",
       "      <td>0.000000</td>\n",
       "    </tr>\n",
       "    <tr>\n",
       "      <th>...</th>\n",
       "      <td>...</td>\n",
       "      <td>...</td>\n",
       "      <td>...</td>\n",
       "      <td>...</td>\n",
       "      <td>...</td>\n",
       "      <td>...</td>\n",
       "      <td>...</td>\n",
       "      <td>...</td>\n",
       "    </tr>\n",
       "    <tr>\n",
       "      <th>501</th>\n",
       "      <td>BAT BF-BOF+BECCUS</td>\n",
       "      <td>Process emissions</td>\n",
       "      <td>Other</td>\n",
       "      <td>tCO2/t steel</td>\n",
       "      <td>0.066590</td>\n",
       "      <td>2020</td>\n",
       "      <td>DZA</td>\n",
       "      <td>0.000000</td>\n",
       "    </tr>\n",
       "    <tr>\n",
       "      <th>502</th>\n",
       "      <td>BAT BF-BOF+BECCUS</td>\n",
       "      <td>Emissivity wout CCS</td>\n",
       "      <td>Other</td>\n",
       "      <td>tCO2/t steel</td>\n",
       "      <td>1.721016</td>\n",
       "      <td>2020</td>\n",
       "      <td>DZA</td>\n",
       "      <td>0.000000</td>\n",
       "    </tr>\n",
       "    <tr>\n",
       "      <th>503</th>\n",
       "      <td>BAT BF-BOF+BECCUS</td>\n",
       "      <td>Captured CO2</td>\n",
       "      <td>Other</td>\n",
       "      <td>tCO2/t steel</td>\n",
       "      <td>2.125104</td>\n",
       "      <td>2020</td>\n",
       "      <td>DZA</td>\n",
       "      <td>7.870818</td>\n",
       "    </tr>\n",
       "    <tr>\n",
       "      <th>504</th>\n",
       "      <td>BAT BF-BOF+BECCUS</td>\n",
       "      <td>Used CO2</td>\n",
       "      <td>Other</td>\n",
       "      <td>tCO2/t steel</td>\n",
       "      <td>0.000000</td>\n",
       "      <td>2020</td>\n",
       "      <td>DZA</td>\n",
       "      <td>0.000000</td>\n",
       "    </tr>\n",
       "    <tr>\n",
       "      <th>505</th>\n",
       "      <td>BAT BF-BOF+BECCUS</td>\n",
       "      <td>Emissivity</td>\n",
       "      <td>Other</td>\n",
       "      <td>tCO2/t steel</td>\n",
       "      <td>-0.404088</td>\n",
       "      <td>2020</td>\n",
       "      <td>DZA</td>\n",
       "      <td>0.000000</td>\n",
       "    </tr>\n",
       "  </tbody>\n",
       "</table>\n",
       "<p>506 rows × 8 columns</p>\n",
       "</div>"
      ],
      "text/plain": [
       "            technology    material_category metric_type          unit  \\\n",
       "0           Avg BF-BOF             Iron ore   Feedstock     t/t steel   \n",
       "1           Avg BF-BOF                Scrap   Feedstock     t/t steel   \n",
       "2           Avg BF-BOF                  DRI   Feedstock     t/t steel   \n",
       "3           Avg BF-BOF             Met coal   Feedstock     t/t steel   \n",
       "4           Avg BF-BOF                 Coke        Fuel    GJ/t steel   \n",
       "..                 ...                  ...         ...           ...   \n",
       "501  BAT BF-BOF+BECCUS    Process emissions       Other  tCO2/t steel   \n",
       "502  BAT BF-BOF+BECCUS  Emissivity wout CCS       Other  tCO2/t steel   \n",
       "503  BAT BF-BOF+BECCUS         Captured CO2       Other  tCO2/t steel   \n",
       "504  BAT BF-BOF+BECCUS             Used CO2       Other  tCO2/t steel   \n",
       "505  BAT BF-BOF+BECCUS           Emissivity       Other  tCO2/t steel   \n",
       "\n",
       "        value  year country_code        cost  \n",
       "0    1.367188  2020          DZA  133.615284  \n",
       "1    0.168300  2020          DZA   37.776618  \n",
       "2    0.000000  2020          DZA    0.000000  \n",
       "3    0.367583  2020          DZA   45.131784  \n",
       "4    7.437468  2020          DZA    0.000000  \n",
       "..        ...   ...          ...         ...  \n",
       "501  0.066590  2020          DZA    0.000000  \n",
       "502  1.721016  2020          DZA    0.000000  \n",
       "503  2.125104  2020          DZA    7.870818  \n",
       "504  0.000000  2020          DZA    0.000000  \n",
       "505 -0.404088  2020          DZA    0.000000  \n",
       "\n",
       "[506 rows x 8 columns]"
      ]
     },
     "execution_count": 55,
     "metadata": {},
     "output_type": "execute_result"
    }
   ],
   "source": [
    "df_c"
   ]
  },
  {
   "cell_type": "code",
   "execution_count": 56,
   "id": "fa40fd51-03f7-4c53-889b-749df5afe9f7",
   "metadata": {},
   "outputs": [
    {
     "data": {
      "text/plain": [
       "{'Iron ore': 'Feedstock',\n",
       " 'Scrap': 'Feedstock',\n",
       " 'DRI': 'Feedstock',\n",
       " 'Met coal': 'Fossil Fuels',\n",
       " 'Thermal coal': 'Fossil Fuels',\n",
       " 'Coke': 'Fossil Fuels',\n",
       " 'COG': 'Fossil Fuels',\n",
       " 'BF gas': 'Fossil Fuels',\n",
       " 'BOF gas': 'Fossil Fuels',\n",
       " 'Natural gas': 'Fossil Fuels',\n",
       " 'Plastic waste': 'Fossil Fuels',\n",
       " 'Biomass': 'Bio Fuels',\n",
       " 'Biomethane': 'Bio Fuels',\n",
       " 'Hydrogen': 'Hydrogen',\n",
       " 'Electricity': 'Electricity',\n",
       " 'Steam': 'Other Opex',\n",
       " 'BF slag': 'Other Opex',\n",
       " 'Other slag': 'Other Opex',\n",
       " 'Captured CO2': 'CCS',\n",
       " 'Used CO2': 'CCS',\n",
       " 'Process emissions': 'Emissivity',\n",
       " 'Emissivity wout CCS': 'Emissivity',\n",
       " 'Emissivity': 'Carbon Cost'}"
      ]
     },
     "execution_count": 56,
     "metadata": {},
     "output_type": "execute_result"
    }
   ],
   "source": [
    "RESOURCE_CATEGORY_MAPPER"
   ]
  },
  {
   "cell_type": "code",
   "execution_count": 57,
   "id": "9276ecec-9918-4029-ac9c-7d852d3c001e",
   "metadata": {},
   "outputs": [
    {
     "data": {
      "text/plain": [
       "1192136"
      ]
     },
     "execution_count": 57,
     "metadata": {},
     "output_type": "execute_result"
    }
   ],
   "source": [
    "506 * 2356"
   ]
  },
  {
   "cell_type": "code",
   "execution_count": null,
   "id": "b0207eb1-d28d-47e4-ab10-623d4fd3e1bd",
   "metadata": {},
   "outputs": [],
   "source": []
  }
 ],
 "metadata": {
  "kernelspec": {
   "display_name": "Python 3 (ipykernel)",
   "language": "python",
   "name": "python3"
  },
  "language_info": {
   "codemirror_mode": {
    "name": "ipython",
    "version": 3
   },
   "file_extension": ".py",
   "mimetype": "text/x-python",
   "name": "python",
   "nbconvert_exporter": "python",
   "pygments_lexer": "ipython3",
   "version": "3.10.4"
  }
 },
 "nbformat": 4,
 "nbformat_minor": 5
}
