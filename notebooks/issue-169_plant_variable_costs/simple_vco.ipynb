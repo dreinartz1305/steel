{
 "cells": [
  {
   "cell_type": "code",
   "execution_count": 1,
   "id": "bd1f8e4c-8be5-40c0-a7d1-7f2c1f06b8b5",
   "metadata": {},
   "outputs": [],
   "source": [
    "%load_ext lab_black"
   ]
  },
  {
   "cell_type": "code",
   "execution_count": 2,
   "id": "53f2e0e7-1865-4b98-9232-c44b0a500e70",
   "metadata": {},
   "outputs": [],
   "source": [
    "import numpy as np\n",
    "import pandas as pd"
   ]
  },
  {
   "cell_type": "code",
   "execution_count": 3,
   "id": "c2b10d8d-7944-42a2-9f0a-f5c0fd08a068",
   "metadata": {},
   "outputs": [],
   "source": [
    "import json\n",
    "import itertools\n",
    "\n",
    "from pathlib import Path"
   ]
  },
  {
   "cell_type": "code",
   "execution_count": 4,
   "id": "3681b26d-ec98-4520-8a0e-52676d2a544b",
   "metadata": {},
   "outputs": [],
   "source": [
    "from mppsteel.config.model_scenarios import DEFAULT_SCENARIO\n",
    "from mppsteel.config.model_config import USD_TO_EUR_CONVERSION_DEFAULT\n",
    "\n",
    "from mppsteel.config.reference_lists import RESOURCE_CATEGORY_MAPPER\n",
    "\n",
    "from mppsteel.data_preprocessing.variable_plant_cost_archetypes import (\n",
    "    plant_variable_costs,\n",
    "    generate_feedstock_dict,\n",
    "    generate_variable_costs,\n",
    "    vc_mapper,\n",
    ")\n",
    "\n",
    "from mppsteel.utility.file_handling_utility import (\n",
    "    read_pickle_folder,\n",
    "    get_scenario_pkl_path,\n",
    ")\n",
    "\n",
    "from mppsteel.config.model_config import (\n",
    "    PKL_DATA_FORMATTED,\n",
    "    PKL_DATA_IMPORTS,\n",
    "    MODEL_YEAR_RANGE,\n",
    ")"
   ]
  },
  {
   "cell_type": "code",
   "execution_count": 5,
   "id": "18239b98-e1e7-4119-85bd-5b6309eab844",
   "metadata": {},
   "outputs": [],
   "source": [
    "scenario_dict = DEFAULT_SCENARIO.copy()\n",
    "scenario_dict[\"usd_to_eur\"] = USD_TO_EUR_CONVERSION_DEFAULT\n",
    "scenario_dict[\"eur_to_usd\"] = 1.0 / scenario_dict[\"usd_to_eur\"]"
   ]
  },
  {
   "cell_type": "code",
   "execution_count": 6,
   "id": "ed38f6d6-e813-4789-a1a4-562426a92a30",
   "metadata": {},
   "outputs": [
    {
     "name": "stderr",
     "output_type": "stream",
     "text": [
      "Variable Cost Loop: 100%|██████████████████████████████████████████████████████| 2356/2356 [02:05<00:00, 18.83it/s]\n"
     ]
    },
    {
     "name": "stdout",
     "output_type": "stream",
     "text": [
      "CPU times: user 2min 5s, sys: 1.47 s, total: 2min 6s\n",
      "Wall time: 2min 6s\n"
     ]
    }
   ],
   "source": [
    "%%time\n",
    "df_reference = plant_variable_costs(scenario_dict)"
   ]
  },
  {
   "cell_type": "code",
   "execution_count": 7,
   "id": "fa33519b-bdbb-44b9-8128-c46b11e75ffe",
   "metadata": {},
   "outputs": [],
   "source": [
    "intermediate_path = get_scenario_pkl_path(\n",
    "    scenario_dict[\"scenario_name\"], \"intermediate\"\n",
    ")\n",
    "eur_to_usd_rate = scenario_dict[\"eur_to_usd\"]\n",
    "\n",
    "steel_plants = read_pickle_folder(PKL_DATA_FORMATTED, \"steel_plants_processed\", \"df\")\n",
    "steel_plant_region_ng_dict = (\n",
    "    steel_plants[[\"country_code\", \"cheap_natural_gas\"]]\n",
    "    .set_index(\"country_code\")\n",
    "    .to_dict()[\"cheap_natural_gas\"]\n",
    ")\n",
    "power_grid_prices_ref = read_pickle_folder(\n",
    "    intermediate_path, \"power_grid_prices_ref\", \"df\"\n",
    ")\n",
    "h2_prices_ref = read_pickle_folder(intermediate_path, \"h2_prices_ref\", \"df\")\n",
    "bio_model_prices_ref = read_pickle_folder(\n",
    "    intermediate_path, \"bio_model_prices_ref\", \"df\"\n",
    ")\n",
    "ccs_model_transport_ref = read_pickle_folder(\n",
    "    intermediate_path, \"ccs_model_transport_ref\", \"df\"\n",
    ")\n",
    "ccs_model_storage_ref = read_pickle_folder(\n",
    "    intermediate_path, \"ccs_model_storage_ref\", \"df\"\n",
    ")\n",
    "business_cases = read_pickle_folder(\n",
    "    PKL_DATA_FORMATTED, \"standardised_business_cases\", \"df\"\n",
    ").reset_index()\n",
    "static_energy_prices = read_pickle_folder(\n",
    "    PKL_DATA_IMPORTS, \"static_energy_prices\", \"df\"\n",
    ")[[\"Metric\", \"Year\", \"Value\"]]\n",
    "static_energy_prices.set_index([\"Metric\", \"Year\"], inplace=True)\n",
    "feedstock_dict = generate_feedstock_dict(eur_to_usd_rate)\n",
    "steel_plant_country_codes = list(steel_plants[\"country_code\"].unique())\n",
    "product_range_year_country = list(\n",
    "    itertools.product(MODEL_YEAR_RANGE, steel_plant_country_codes)\n",
    ")"
   ]
  },
  {
   "cell_type": "markdown",
   "id": "d77b8fe6-c62b-4e80-90f3-bb1ac616ff19",
   "metadata": {},
   "source": [
    "# Build Price Lookup DataFrames From Dicts"
   ]
  },
  {
   "cell_type": "markdown",
   "id": "1073af86-a875-4e82-982d-87f3d577698d",
   "metadata": {},
   "source": [
    "## Helper Functions"
   ]
  },
  {
   "cell_type": "code",
   "execution_count": 8,
   "id": "1b553699-ed2e-40c5-ab96-9fa4d3fe52d6",
   "metadata": {},
   "outputs": [],
   "source": [
    "def create_df_from_years_and_contry_codes(year_range, country_codes):\n",
    "    return pd.merge(\n",
    "        pd.DataFrame(country_codes, columns=[\"country_code\"]),\n",
    "        pd.DataFrame(year_range, columns=[\"year\"]),\n",
    "        how=\"cross\",\n",
    "    )"
   ]
  },
  {
   "cell_type": "markdown",
   "id": "42e2c7bb-f0c4-4fd2-aa52-ab9de7c47e57",
   "metadata": {
    "tags": []
   },
   "source": [
    "## Power Grid Prices"
   ]
  },
  {
   "cell_type": "code",
   "execution_count": 9,
   "id": "325fb78d-03b8-40d1-8768-c03488ef3a03",
   "metadata": {},
   "outputs": [
    {
     "name": "stdout",
     "output_type": "stream",
     "text": [
      "CPU times: user 5.93 ms, sys: 852 µs, total: 6.78 ms\n",
      "Wall time: 6.01 ms\n"
     ]
    }
   ],
   "source": [
    "%%time\n",
    "pgp_ref_list = [\n",
    "    (year, cc, price) for (year, cc), price in power_grid_prices_ref.items()\n",
    "]\n",
    "df_pgp = pd.DataFrame(pgp_ref_list, columns=(\"year\", \"country_code\", \"price\"))\n",
    "df_pgp[\"material_category\"] = \"Electricity\"\n",
    "# df_pgp[\"country_code\"] = df_pgp[\"country_code\"].astype(\"category\")"
   ]
  },
  {
   "cell_type": "markdown",
   "id": "1a914a3c-383d-48dc-9e78-ed62ce1fa8c3",
   "metadata": {
    "tags": []
   },
   "source": [
    "## Hydrogen Prices"
   ]
  },
  {
   "cell_type": "code",
   "execution_count": 10,
   "id": "6cf6de73-10b5-417b-8384-9a8d5a7c5f73",
   "metadata": {},
   "outputs": [
    {
     "name": "stdout",
     "output_type": "stream",
     "text": [
      "CPU times: user 4.95 ms, sys: 582 µs, total: 5.54 ms\n",
      "Wall time: 4.9 ms\n"
     ]
    }
   ],
   "source": [
    "%%time\n",
    "h2_ref_list = [(year, cc, price) for (year, cc), price in h2_prices_ref.items()]\n",
    "df_hydrogen = pd.DataFrame(h2_ref_list, columns=(\"year\", \"country_code\", \"price\"))\n",
    "df_hydrogen[\"material_category\"] = \"Hydrogen\""
   ]
  },
  {
   "cell_type": "markdown",
   "id": "ff712a7d-9e9c-4374-8228-a30875738465",
   "metadata": {
    "tags": []
   },
   "source": [
    "## Bio Model Prices"
   ]
  },
  {
   "cell_type": "code",
   "execution_count": 11,
   "id": "fc22bafd-87fa-476f-944a-14952c2939e2",
   "metadata": {},
   "outputs": [
    {
     "name": "stdout",
     "output_type": "stream",
     "text": [
      "CPU times: user 8.23 ms, sys: 1.83 ms, total: 10.1 ms\n",
      "Wall time: 8.52 ms\n"
     ]
    }
   ],
   "source": [
    "%%time\n",
    "df_bio_mass = pd.DataFrame(\n",
    "    (\n",
    "        (year, country_code, price)\n",
    "        for (year, country_code), price in bio_model_prices_ref.items()\n",
    "    ),\n",
    "    columns=(\"year\", \"country_code\", \"price\"),\n",
    ")\n",
    "df_bio_mass[\"material_category\"] = \"Biomass\"\n",
    "df_bio_methane = df_bio_mass.copy()\n",
    "df_bio_methane[\"material_category\"] = \"Biomethane\""
   ]
  },
  {
   "cell_type": "markdown",
   "id": "f176666d-c61e-4e49-b7ff-d8c6a2c8e2dc",
   "metadata": {},
   "source": [
    "## CCS Transport / Storage Prices"
   ]
  },
  {
   "cell_type": "code",
   "execution_count": 12,
   "id": "1dda587c-1855-48af-b1f7-066cf670ecde",
   "metadata": {},
   "outputs": [
    {
     "name": "stdout",
     "output_type": "stream",
     "text": [
      "CPU times: user 10.6 ms, sys: 2.08 ms, total: 12.7 ms\n",
      "Wall time: 11.1 ms\n"
     ]
    }
   ],
   "source": [
    "%%time\n",
    "df_year = pd.DataFrame(MODEL_YEAR_RANGE, columns=[\"year\"])\n",
    "df_storage = pd.DataFrame(\n",
    "    ccs_model_storage_ref.items(), columns=(\"country_code\", \"price_storage\")\n",
    ")\n",
    "df_transport = pd.DataFrame(\n",
    "    ccs_model_transport_ref.items(), columns=(\"country_code\", \"price_transport\")\n",
    ")\n",
    "df_store_trans = pd.merge(df_storage, df_transport, on=(\"country_code\"))\n",
    "df_store_trans[\"price\"] = df_store_trans.price_storage + df_store_trans.price_transport\n",
    "df_store_trans = df_store_trans.drop([\"price_storage\", \"price_transport\"], axis=1)\n",
    "df_store_trans = df_store_trans.merge(df_year, how=\"cross\")\n",
    "df_store_trans_captured = df_store_trans.copy()\n",
    "df_store_trans_captured[\"material_category\"] = \"Captured CO2\"\n",
    "df_store_trans_used = df_store_trans.copy()\n",
    "df_store_trans_used[\"material_category\"] = \"Used CO2\""
   ]
  },
  {
   "cell_type": "markdown",
   "id": "cdc2bb60-7317-434e-960c-44d855b9258c",
   "metadata": {},
   "source": [
    "## Static Energy Prices"
   ]
  },
  {
   "cell_type": "code",
   "execution_count": 15,
   "id": "56069ed2-478b-48f4-b927-6c6347ca1eac",
   "metadata": {},
   "outputs": [
    {
     "name": "stdout",
     "output_type": "stream",
     "text": [
      "CPU times: user 15 µs, sys: 1e+03 ns, total: 16 µs\n",
      "Wall time: 18.1 µs\n"
     ]
    }
   ],
   "source": [
    "%%time\n",
    "low_natural_gas_cc = [\n",
    "    country_code\n",
    "    for country_code, flag in steel_plant_region_ng_dict.items()\n",
    "    if flag == 1\n",
    "]\n",
    "high_natural_gas_cc = [\n",
    "    country_code\n",
    "    for country_code, flag in steel_plant_region_ng_dict.items()\n",
    "    if flag == 0\n",
    "]"
   ]
  },
  {
   "cell_type": "code",
   "execution_count": 16,
   "id": "2d2ab599-448c-447d-9c2e-3820dc3ffa62",
   "metadata": {},
   "outputs": [],
   "source": [
    "def get_gas_prices_per_country_and_year(static_energy_prices, gas_type, country_codes):\n",
    "    gas_prices = static_energy_prices.loc[gas_type].reset_index().copy()\n",
    "    year_to_price = dict(zip(gas_prices.Year.values, gas_prices.Value.values))\n",
    "    default_price = year_to_price[\n",
    "        2026\n",
    "    ]  # FIXME make this depend on the available range of years\n",
    "    df_data = {\"year\": [], \"price\": []}\n",
    "    for year in MODEL_YEAR_RANGE:\n",
    "        df_data[\"year\"].append(year)\n",
    "        df_data[\"price\"].append(year_to_price.get(year, default_price))\n",
    "    df = pd.DataFrame(df_data)\n",
    "    return pd.merge(\n",
    "        df, pd.DataFrame(country_codes, columns=[\"country_code\"]), how=\"cross\"\n",
    "    )"
   ]
  },
  {
   "cell_type": "code",
   "execution_count": 17,
   "id": "2f53dcb7-0663-4034-8153-9000b6498954",
   "metadata": {},
   "outputs": [
    {
     "name": "stdout",
     "output_type": "stream",
     "text": [
      "CPU times: user 13.9 ms, sys: 2.33 ms, total: 16.3 ms\n",
      "Wall time: 14.2 ms\n"
     ]
    }
   ],
   "source": [
    "%%time\n",
    "df_gas_low = get_gas_prices_per_country_and_year(\n",
    "    static_energy_prices, \"Natural gas - low\", low_natural_gas_cc\n",
    ")\n",
    "df_gas_low[\"material_category\"] = \"Natural gas\"\n",
    "df_gas_high = get_gas_prices_per_country_and_year(\n",
    "    static_energy_prices, \"Natural gas - high\", high_natural_gas_cc\n",
    ")\n",
    "df_gas_high[\"material_category\"] = \"Natural gas\""
   ]
  },
  {
   "cell_type": "markdown",
   "id": "aa2da17b-297b-48ff-8808-f828032570d0",
   "metadata": {},
   "source": [
    "## Plastic Waste Prices"
   ]
  },
  {
   "cell_type": "code",
   "execution_count": 18,
   "id": "4c2f1991-f0b2-4c5f-8a9f-d2e52457fe3e",
   "metadata": {},
   "outputs": [
    {
     "name": "stdout",
     "output_type": "stream",
     "text": [
      "CPU times: user 6.49 ms, sys: 1.8 ms, total: 8.3 ms\n",
      "Wall time: 6.7 ms\n"
     ]
    }
   ],
   "source": [
    "%%time\n",
    "df_waste = create_df_from_years_and_contry_codes(MODEL_YEAR_RANGE, steel_plant_country_codes)\n",
    "df_waste[\"price\"] = feedstock_dict[\"Plastic waste\"]\n",
    "df_waste[\"material_category\"] = \"Plastic waste\""
   ]
  },
  {
   "cell_type": "markdown",
   "id": "6f9768ad-b879-4551-9c74-2d7f173c6fc0",
   "metadata": {},
   "source": [
    "## Fossil Fuel Prices"
   ]
  },
  {
   "cell_type": "code",
   "execution_count": 19,
   "id": "87d74421-c490-4532-8df0-e611f5720d4b",
   "metadata": {},
   "outputs": [],
   "source": [
    "fossil_categories = [\n",
    "    k\n",
    "    for k, v in RESOURCE_CATEGORY_MAPPER.items()\n",
    "    if v == \"Fossil Fuels\" and k not in (\"Natural gas\", \"Plastic waste\")\n",
    "]"
   ]
  },
  {
   "cell_type": "code",
   "execution_count": 20,
   "id": "c2c428a0-933e-44ef-b90e-75b98aca101d",
   "metadata": {},
   "outputs": [
    {
     "data": {
      "text/plain": [
       "['Met coal', 'Thermal coal', 'Coke', 'COG', 'BF gas', 'BOF gas']"
      ]
     },
     "execution_count": 20,
     "metadata": {},
     "output_type": "execute_result"
    }
   ],
   "source": [
    "fossil_categories"
   ]
  },
  {
   "cell_type": "code",
   "execution_count": 21,
   "id": "2dc33998-184e-4862-8505-8bbd816257b2",
   "metadata": {},
   "outputs": [],
   "source": [
    "def get_fossil_category_prices(static_energy_prices, category, country_codes):\n",
    "    fossil_prices = static_energy_prices.loc[category].reset_index().copy()\n",
    "    year_to_price = dict(zip(fossil_prices.Year.values, fossil_prices.Value.values))\n",
    "    default_price = year_to_price[\n",
    "        2026\n",
    "    ]  # FIXME make this depend on the available range of years\n",
    "    data = {\"year\": [], \"price\": []}\n",
    "    for year in MODEL_YEAR_RANGE:\n",
    "        data[\"year\"].append(year)\n",
    "        data[\"price\"].append(year_to_price.get(year, default_price))\n",
    "    df = pd.DataFrame(data)\n",
    "    df[\"material_category\"] = category\n",
    "    return pd.merge(\n",
    "        df, pd.DataFrame(country_codes, columns=[\"country_code\"]), how=\"cross\"\n",
    "    )"
   ]
  },
  {
   "cell_type": "code",
   "execution_count": 22,
   "id": "0f77a149-a415-4f4d-a852-7d4bf9525fdf",
   "metadata": {},
   "outputs": [
    {
     "name": "stdout",
     "output_type": "stream",
     "text": [
      "CPU times: user 35.3 ms, sys: 2.38 ms, total: 37.7 ms\n",
      "Wall time: 35.7 ms\n"
     ]
    }
   ],
   "source": [
    "%%time\n",
    "fossil_price_dfs = []\n",
    "for category in fossil_categories:\n",
    "    fossil_price_dfs.append(\n",
    "        get_fossil_category_prices(\n",
    "            static_energy_prices, category, steel_plant_country_codes\n",
    "        )\n",
    "    )"
   ]
  },
  {
   "cell_type": "markdown",
   "id": "b57e7efa-2825-4513-9c66-f65798bed3c4",
   "metadata": {},
   "source": [
    "## Feedstock / Raw Material"
   ]
  },
  {
   "cell_type": "code",
   "execution_count": 23,
   "id": "357253b7-c44a-4554-9a3b-6f0f971bcf9c",
   "metadata": {},
   "outputs": [
    {
     "name": "stdout",
     "output_type": "stream",
     "text": [
      "CPU times: user 14.9 ms, sys: 1.94 ms, total: 16.9 ms\n",
      "Wall time: 15.2 ms\n"
     ]
    }
   ],
   "source": [
    "%%time\n",
    "df_iron_ore = create_df_from_years_and_contry_codes(MODEL_YEAR_RANGE, steel_plant_country_codes)\n",
    "df_iron_ore[\"price\"] = feedstock_dict[\"Iron ore\"]\n",
    "df_iron_ore[\"material_category\"] = \"Iron ore\"\n",
    "df_scrap = create_df_from_years_and_contry_codes(MODEL_YEAR_RANGE, steel_plant_country_codes)\n",
    "df_scrap[\"price\"] = feedstock_dict[\"Scrap\"]\n",
    "df_scrap[\"material_category\"] = \"Scrap\"\n",
    "df_dri = create_df_from_years_and_contry_codes(MODEL_YEAR_RANGE, steel_plant_country_codes)\n",
    "df_dri[\"price\"] = feedstock_dict[\"DRI\"]\n",
    "df_dri[\"material_category\"] = \"DRI\""
   ]
  },
  {
   "cell_type": "markdown",
   "id": "1c6fc93d-2742-42f1-8c8e-aba0bfca2b35",
   "metadata": {},
   "source": [
    "## Other Opex"
   ]
  },
  {
   "cell_type": "code",
   "execution_count": 24,
   "id": "723a18fd-7e1d-4c66-93ed-d8e65bacfa67",
   "metadata": {},
   "outputs": [
    {
     "name": "stdout",
     "output_type": "stream",
     "text": [
      "CPU times: user 11.3 ms, sys: 1.99 ms, total: 13.3 ms\n",
      "Wall time: 11.5 ms\n"
     ]
    }
   ],
   "source": [
    "%%time\n",
    "df_bf_slag = create_df_from_years_and_contry_codes(MODEL_YEAR_RANGE, steel_plant_country_codes)\n",
    "df_bf_slag[\"price\"] = feedstock_dict[\"BF slag\"]\n",
    "df_bf_slag[\"material_category\"] = \"BF slag\"\n",
    "df_other_slag = create_df_from_years_and_contry_codes(MODEL_YEAR_RANGE, steel_plant_country_codes)\n",
    "df_other_slag[\"price\"] = feedstock_dict[\"Other slag\"]\n",
    "df_other_slag[\"material_category\"] = \"Other slag\""
   ]
  },
  {
   "cell_type": "code",
   "execution_count": 25,
   "id": "4b250593-9031-489a-81b2-be6e13b524b2",
   "metadata": {},
   "outputs": [
    {
     "name": "stdout",
     "output_type": "stream",
     "text": [
      "CPU times: user 7.88 ms, sys: 1.95 ms, total: 9.82 ms\n",
      "Wall time: 8.03 ms\n"
     ]
    }
   ],
   "source": [
    "%%time\n",
    "df_steam = get_gas_prices_per_country_and_year(\n",
    "    static_energy_prices, \"Steam\", steel_plant_country_codes\n",
    ")\n",
    "df_steam[\"material_category\"] = \"Steam\""
   ]
  },
  {
   "cell_type": "code",
   "execution_count": 26,
   "id": "d5b38868-7630-4e19-9adb-04f17e7aa2e5",
   "metadata": {},
   "outputs": [
    {
     "data": {
      "text/plain": [
       "[('Steam', 'Other Opex'),\n",
       " ('BF slag', 'Other Opex'),\n",
       " ('Other slag', 'Other Opex')]"
      ]
     },
     "execution_count": 26,
     "metadata": {},
     "output_type": "execute_result"
    }
   ],
   "source": [
    "[(k, v) for k, v in RESOURCE_CATEGORY_MAPPER.items() if v == \"Other Opex\"]"
   ]
  },
  {
   "cell_type": "markdown",
   "id": "e4864198-7d2f-4717-af7e-4de57f878095",
   "metadata": {},
   "source": [
    "## Merge Price DataFrames"
   ]
  },
  {
   "cell_type": "code",
   "execution_count": 27,
   "id": "333d04d7-540c-4058-9db0-98780c43c31c",
   "metadata": {},
   "outputs": [
    {
     "name": "stdout",
     "output_type": "stream",
     "text": [
      "CPU times: user 17.9 ms, sys: 2.84 ms, total: 20.7 ms\n",
      "Wall time: 19.1 ms\n"
     ]
    }
   ],
   "source": [
    "%%time\n",
    "\n",
    "df_prices = pd.concat([\n",
    "    df_pgp, df_hydrogen, df_bio_mass, df_bio_methane, df_store_trans_captured, df_store_trans_used, df_gas_low, df_gas_high,\n",
    "    df_waste, *fossil_price_dfs, df_iron_ore, df_scrap, df_dri, df_bf_slag, df_other_slag, df_steam\n",
    "])\n",
    "df_prices[\"country_code\"] = df_prices[\"country_code\"].astype(\"category\")"
   ]
  },
  {
   "cell_type": "code",
   "execution_count": 28,
   "id": "869c2441-f511-4764-9f3d-c404396f40f3",
   "metadata": {},
   "outputs": [
    {
     "name": "stdout",
     "output_type": "stream",
     "text": [
      "<class 'pandas.core.frame.DataFrame'>\n",
      "Int64Index: 79174 entries, 0 to 2355\n",
      "Data columns (total 4 columns):\n",
      " #   Column             Non-Null Count  Dtype   \n",
      "---  ------             --------------  -----   \n",
      " 0   year               79174 non-null  int64   \n",
      " 1   country_code       79174 non-null  category\n",
      " 2   price              79174 non-null  float64 \n",
      " 3   material_category  79174 non-null  object  \n",
      "dtypes: category(1), float64(1), int64(1), object(1)\n",
      "memory usage: 6.9 MB\n"
     ]
    }
   ],
   "source": [
    "df_prices.info(memory_usage=\"deep\")"
   ]
  },
  {
   "cell_type": "markdown",
   "id": "1d33bf27-f92b-4fdf-9c47-d3baaf0d6f29",
   "metadata": {},
   "source": [
    "# Base DataFrame"
   ]
  },
  {
   "cell_type": "code",
   "execution_count": 29,
   "id": "acdb85c0-ec9f-4339-b7ac-a3caa363aa12",
   "metadata": {},
   "outputs": [
    {
     "name": "stdout",
     "output_type": "stream",
     "text": [
      "CPU times: user 454 ms, sys: 40.3 ms, total: 494 ms\n",
      "Wall time: 493 ms\n"
     ]
    }
   ],
   "source": [
    "%%time\n",
    "dyc = pd.DataFrame(product_range_year_country, columns=(\"year\", \"country_code\"))\n",
    "emissions = set([k for k, v in RESOURCE_CATEGORY_MAPPER.items() if v == \"Emissivity\"])\n",
    "db = business_cases.copy()\n",
    "db = db[~db.material_category.isin(emissions)]\n",
    "df = db.merge(dyc, how=\"cross\")\n",
    "not_categorical = set([\"year\", \"value\"])\n",
    "categorical_columns = [col for col in df.columns if col not in not_categorical]\n",
    "for col in categorical_columns:\n",
    "    df[col] = df[col].astype(\"category\")\n",
    "df[\"cost\"] = 0.0\n",
    "# df = df.reset_index().set_index([\"material_category\", \"index\"])"
   ]
  },
  {
   "cell_type": "code",
   "execution_count": 30,
   "id": "3003e34a-9cb5-4fa5-9e31-2eb3349ef424",
   "metadata": {},
   "outputs": [
    {
     "name": "stdout",
     "output_type": "stream",
     "text": [
      "<class 'pandas.core.frame.DataFrame'>\n",
      "Int64Index: 1088472 entries, 0 to 1088471\n",
      "Data columns (total 8 columns):\n",
      " #   Column             Non-Null Count    Dtype   \n",
      "---  ------             --------------    -----   \n",
      " 0   technology         1088472 non-null  category\n",
      " 1   material_category  1088472 non-null  category\n",
      " 2   metric_type        1088472 non-null  category\n",
      " 3   unit               1088472 non-null  category\n",
      " 4   value              1088472 non-null  float64 \n",
      " 5   year               1088472 non-null  int64   \n",
      " 6   country_code       1088472 non-null  category\n",
      " 7   cost               1088472 non-null  float64 \n",
      "dtypes: category(5), float64(2), int64(1)\n",
      "memory usage: 38.4 MB\n"
     ]
    }
   ],
   "source": [
    "df.info(memory_usage=\"deep\")"
   ]
  },
  {
   "cell_type": "code",
   "execution_count": 31,
   "id": "22953e98-08cd-4248-bb71-48c8a8d25480",
   "metadata": {},
   "outputs": [
    {
     "name": "stdout",
     "output_type": "stream",
     "text": [
      "CPU times: user 3 µs, sys: 0 ns, total: 3 µs\n",
      "Wall time: 5.96 µs\n"
     ]
    }
   ],
   "source": [
    "%%time\n",
    "# dm = (\n",
    "#     df.reset_index()\n",
    "#     .merge(df_prices, on=(\"material_category\", \"year\", \"country_code\"))\n",
    "#     .set_index(\"index\")\n",
    "# )\n",
    "# dm[\"cost\"] = dm.value * dm.price\n",
    "# df[\"cost\"] = dm.cost"
   ]
  },
  {
   "cell_type": "code",
   "execution_count": 32,
   "id": "b38696f3-d2d1-4a0b-8ba6-361815433637",
   "metadata": {},
   "outputs": [],
   "source": [
    "# query_str = \"material_category == 'Electricity' and technology == 'DRI-Melt-BOF+CCUS' and year == 2050 and country_code == 'USA'\"\n",
    "# df.query(query_str)"
   ]
  },
  {
   "cell_type": "code",
   "execution_count": 33,
   "id": "c62684b4-afc9-41c2-8027-454e835709f2",
   "metadata": {},
   "outputs": [
    {
     "name": "stdout",
     "output_type": "stream",
     "text": [
      "CPU times: user 276 ms, sys: 44.9 ms, total: 321 ms\n",
      "Wall time: 320 ms\n"
     ]
    }
   ],
   "source": [
    "%%time\n",
    "dm = df.merge(df_prices, on=(\"material_category\", \"year\", \"country_code\"), how=\"left\")\n",
    "dm[\"cost\"] = dm.value * dm.price\n",
    "dm[\"cost\"] = dm.cost.fillna(0.0)\n",
    "# df[\"cost\"] = dm.cost"
   ]
  },
  {
   "cell_type": "code",
   "execution_count": 34,
   "id": "32009add-e2da-4c4a-bc6d-7ed17bcc2e98",
   "metadata": {},
   "outputs": [
    {
     "data": {
      "text/html": [
       "<div>\n",
       "<style scoped>\n",
       "    .dataframe tbody tr th:only-of-type {\n",
       "        vertical-align: middle;\n",
       "    }\n",
       "\n",
       "    .dataframe tbody tr th {\n",
       "        vertical-align: top;\n",
       "    }\n",
       "\n",
       "    .dataframe thead th {\n",
       "        text-align: right;\n",
       "    }\n",
       "</style>\n",
       "<table border=\"1\" class=\"dataframe\">\n",
       "  <thead>\n",
       "    <tr style=\"text-align: right;\">\n",
       "      <th></th>\n",
       "      <th>technology</th>\n",
       "      <th>material_category</th>\n",
       "      <th>metric_type</th>\n",
       "      <th>unit</th>\n",
       "      <th>value</th>\n",
       "      <th>year</th>\n",
       "      <th>country_code</th>\n",
       "      <th>cost</th>\n",
       "      <th>price</th>\n",
       "    </tr>\n",
       "  </thead>\n",
       "  <tbody>\n",
       "    <tr>\n",
       "      <th>925907</th>\n",
       "      <td>DRI-Melt-BOF+CCUS</td>\n",
       "      <td>Electricity</td>\n",
       "      <td>Purchased energy</td>\n",
       "      <td>GJ/t steel</td>\n",
       "      <td>3.50132</td>\n",
       "      <td>2050</td>\n",
       "      <td>USA</td>\n",
       "      <td>59.091243</td>\n",
       "      <td>16.87685</td>\n",
       "    </tr>\n",
       "  </tbody>\n",
       "</table>\n",
       "</div>"
      ],
      "text/plain": [
       "               technology material_category       metric_type        unit  \\\n",
       "925907  DRI-Melt-BOF+CCUS       Electricity  Purchased energy  GJ/t steel   \n",
       "\n",
       "          value  year country_code       cost     price  \n",
       "925907  3.50132  2050          USA  59.091243  16.87685  "
      ]
     },
     "execution_count": 34,
     "metadata": {},
     "output_type": "execute_result"
    }
   ],
   "source": [
    "query_str = \"material_category == 'Electricity' and technology == 'DRI-Melt-BOF+CCUS' and year == 2050 and country_code == 'USA'\"\n",
    "dm.query(query_str)"
   ]
  },
  {
   "cell_type": "code",
   "execution_count": 35,
   "id": "f1de85ce-3baa-4d82-99c5-21498ebd7929",
   "metadata": {},
   "outputs": [],
   "source": [
    "# def calculate_price_for_electricity(df, df_pgp):\n",
    "#     de = df[df.material_category == \"Electricity\"]\n",
    "#     dm = de.reset_index().merge(df_pgp, on=(\"year\", \"country_code\")).set_index(\"index\")\n",
    "#     dm[\"cost\"] = dm.value * dm.price\n",
    "#     df[\"cost\"] = dm.cost\n",
    "#     return df"
   ]
  },
  {
   "cell_type": "code",
   "execution_count": 36,
   "id": "40941e58-30ab-4bbb-acf5-1c65871cc247",
   "metadata": {},
   "outputs": [],
   "source": [
    "emissions = set([k for k, v in RESOURCE_CATEGORY_MAPPER.items() if v == \"Emissivity\"])"
   ]
  },
  {
   "cell_type": "markdown",
   "id": "00c65274-4ecc-4d8b-9f66-64d204c56922",
   "metadata": {},
   "source": [
    "# Compare Optimized Version with Reference"
   ]
  },
  {
   "cell_type": "code",
   "execution_count": 37,
   "id": "d2c92a38-04e8-4d25-ab7c-61e66b8313f3",
   "metadata": {},
   "outputs": [
    {
     "data": {
      "text/plain": [
       "(1088472, 9)"
      ]
     },
     "execution_count": 37,
     "metadata": {},
     "output_type": "execute_result"
    }
   ],
   "source": [
    "df_reference.shape"
   ]
  },
  {
   "cell_type": "code",
   "execution_count": 38,
   "id": "08a111cf-2099-4358-88ff-8f4bee20cdd9",
   "metadata": {},
   "outputs": [
    {
     "data": {
      "text/plain": [
       "(1088472, 9)"
      ]
     },
     "execution_count": 38,
     "metadata": {},
     "output_type": "execute_result"
    }
   ],
   "source": [
    "dm.shape"
   ]
  },
  {
   "cell_type": "code",
   "execution_count": 39,
   "id": "8d96326c-b60b-4c70-9a68-e5835a74887d",
   "metadata": {},
   "outputs": [
    {
     "data": {
      "text/plain": [
       "(1088472, 8)"
      ]
     },
     "execution_count": 39,
     "metadata": {},
     "output_type": "execute_result"
    }
   ],
   "source": [
    "df.shape"
   ]
  },
  {
   "cell_type": "code",
   "execution_count": 40,
   "id": "78af6058-bb55-40a1-883f-fe51de7650d3",
   "metadata": {},
   "outputs": [
    {
     "name": "stdout",
     "output_type": "stream",
     "text": [
      "<class 'pandas.core.frame.DataFrame'>\n",
      "Int64Index: 1088472 entries, 0 to 1192135\n",
      "Data columns (total 9 columns):\n",
      " #   Column             Non-Null Count    Dtype  \n",
      "---  ------             --------------    -----  \n",
      " 0   technology         1088472 non-null  object \n",
      " 1   material_category  1088472 non-null  object \n",
      " 2   metric_type        1088472 non-null  object \n",
      " 3   unit               1088472 non-null  object \n",
      " 4   value              1088472 non-null  float64\n",
      " 5   year               1088472 non-null  int64  \n",
      " 6   country_code       1088472 non-null  object \n",
      " 7   cost               1088472 non-null  float64\n",
      " 8   cost_type          1088472 non-null  object \n",
      "dtypes: float64(2), int64(1), object(6)\n",
      "memory usage: 443.3 MB\n"
     ]
    }
   ],
   "source": [
    "df_reference.info(memory_usage=\"deep\")"
   ]
  },
  {
   "cell_type": "code",
   "execution_count": 41,
   "id": "0d7eaa6d-99af-4e54-950b-b66da389e39f",
   "metadata": {},
   "outputs": [
    {
     "data": {
      "text/plain": [
       "array(['Iron ore', 'Scrap', 'DRI', 'Met coal', 'Coke', 'Thermal coal',\n",
       "       'BF gas', 'COG', 'BOF gas', 'Natural gas', 'Plastic waste',\n",
       "       'Biomass', 'Biomethane', 'Hydrogen', 'Electricity', 'Steam',\n",
       "       'BF slag', 'Other slag', 'Captured CO2', 'Used CO2', 'Emissivity'],\n",
       "      dtype=object)"
      ]
     },
     "execution_count": 41,
     "metadata": {},
     "output_type": "execute_result"
    }
   ],
   "source": [
    "df_reference.material_category.unique()"
   ]
  },
  {
   "cell_type": "code",
   "execution_count": 42,
   "id": "db533631-9259-4772-be11-b9b8a3c8b72b",
   "metadata": {},
   "outputs": [],
   "source": [
    "def build_pk(df):\n",
    "    df[\"year\"] = df[\"year\"].astype(\"str\")\n",
    "    pk_columns = [\"material_category\", \"technology\", \"country_code\", \"year\"]\n",
    "    df[\"pk\"] = df[pk_columns].agg(\"_\".join, axis=1)\n",
    "    return df.drop(pk_columns, axis=1).set_index(\"pk\").sort_index()\n",
    "\n",
    "\n",
    "def build_comparable_dataframes(category, df_reference, df_optimized):\n",
    "    dfr = (\n",
    "        df_reference[df_reference.material_category == category]\n",
    "        .copy()\n",
    "        .drop(\"cost_type\", axis=1)\n",
    "        .reset_index(drop=True)\n",
    "    )\n",
    "    dmo = (\n",
    "        df_optimized[df_optimized.material_category == category]\n",
    "        .copy()\n",
    "        .drop(\"price\", axis=1)\n",
    "        .reset_index(drop=True)\n",
    "    )\n",
    "    return build_pk(dfr), build_pk(dmo)\n",
    "\n",
    "\n",
    "def compare_by_material_category(category, df_reference, df_optimized):\n",
    "    dfr, dmo = build_comparable_dataframes(category, df_reference, df_optimized)\n",
    "    print(\"Category: \", category)\n",
    "    print(\"shape: \", dfr.shape, dmo.shape, dfr.shape == dmo.shape)\n",
    "    print(\"column values: \", np.all((dfr == dmo).all().values))\n",
    "    print(\"sum cost: \", dfr.cost.sum(), dmo.cost.sum())\n",
    "    print(\"-----------------------------\")"
   ]
  },
  {
   "cell_type": "code",
   "execution_count": 43,
   "id": "53fe1f74-1892-452c-9d59-d82a3e3b27b8",
   "metadata": {},
   "outputs": [
    {
     "name": "stdout",
     "output_type": "stream",
     "text": [
      "Category:  Hydrogen\n",
      "shape:  (51832, 4) (51832, 4) True\n",
      "column values:  True\n",
      "sum cost:  1149369.2660721818 1149369.2660721818\n",
      "-----------------------------\n"
     ]
    }
   ],
   "source": [
    "compare_by_material_category(\"Hydrogen\", df_reference, dm)"
   ]
  },
  {
   "cell_type": "code",
   "execution_count": 44,
   "id": "bea72d1d-e51f-4e57-b63f-117e4bcaffaf",
   "metadata": {},
   "outputs": [
    {
     "name": "stdout",
     "output_type": "stream",
     "text": [
      "Category:  Iron ore\n",
      "shape:  (51832, 4) (51832, 4) True\n",
      "column values:  True\n",
      "sum cost:  6224864.016437758 6224864.016437758\n",
      "-----------------------------\n"
     ]
    }
   ],
   "source": [
    "compare_by_material_category(\"Iron ore\", df_reference, dm)"
   ]
  },
  {
   "cell_type": "code",
   "execution_count": 45,
   "id": "56ec33b5-c827-424c-8335-2a0dcaeaa504",
   "metadata": {},
   "outputs": [],
   "source": [
    "# RESOURCE_CATEGORY_MAPPER"
   ]
  },
  {
   "cell_type": "code",
   "execution_count": 46,
   "id": "e2012ffe-9053-4465-b3ad-51196a0ea156",
   "metadata": {},
   "outputs": [],
   "source": [
    "dfr, dmo = build_comparable_dataframes(\"Emissivity\", df_reference, dm)"
   ]
  },
  {
   "cell_type": "code",
   "execution_count": 47,
   "id": "bca46c28-cd57-4e2d-8118-bbe7ce2ede44",
   "metadata": {},
   "outputs": [
    {
     "data": {
      "text/html": [
       "<div>\n",
       "<style scoped>\n",
       "    .dataframe tbody tr th:only-of-type {\n",
       "        vertical-align: middle;\n",
       "    }\n",
       "\n",
       "    .dataframe tbody tr th {\n",
       "        vertical-align: top;\n",
       "    }\n",
       "\n",
       "    .dataframe thead th {\n",
       "        text-align: right;\n",
       "    }\n",
       "</style>\n",
       "<table border=\"1\" class=\"dataframe\">\n",
       "  <thead>\n",
       "    <tr style=\"text-align: right;\">\n",
       "      <th></th>\n",
       "      <th>metric_type</th>\n",
       "      <th>unit</th>\n",
       "      <th>value</th>\n",
       "      <th>cost</th>\n",
       "    </tr>\n",
       "    <tr>\n",
       "      <th>pk</th>\n",
       "      <th></th>\n",
       "      <th></th>\n",
       "      <th></th>\n",
       "      <th></th>\n",
       "    </tr>\n",
       "  </thead>\n",
       "  <tbody>\n",
       "    <tr>\n",
       "      <th>Emissivity_Avg BF-BOF_AGO_2020</th>\n",
       "      <td>Other</td>\n",
       "      <td>tCO2/t steel</td>\n",
       "      <td>2.561582</td>\n",
       "      <td>0.0</td>\n",
       "    </tr>\n",
       "    <tr>\n",
       "      <th>Emissivity_Avg BF-BOF_AGO_2021</th>\n",
       "      <td>Other</td>\n",
       "      <td>tCO2/t steel</td>\n",
       "      <td>2.561582</td>\n",
       "      <td>0.0</td>\n",
       "    </tr>\n",
       "    <tr>\n",
       "      <th>Emissivity_Avg BF-BOF_AGO_2022</th>\n",
       "      <td>Other</td>\n",
       "      <td>tCO2/t steel</td>\n",
       "      <td>2.561582</td>\n",
       "      <td>0.0</td>\n",
       "    </tr>\n",
       "    <tr>\n",
       "      <th>Emissivity_Avg BF-BOF_AGO_2023</th>\n",
       "      <td>Other</td>\n",
       "      <td>tCO2/t steel</td>\n",
       "      <td>2.561582</td>\n",
       "      <td>0.0</td>\n",
       "    </tr>\n",
       "    <tr>\n",
       "      <th>Emissivity_Avg BF-BOF_AGO_2024</th>\n",
       "      <td>Other</td>\n",
       "      <td>tCO2/t steel</td>\n",
       "      <td>2.561582</td>\n",
       "      <td>0.0</td>\n",
       "    </tr>\n",
       "  </tbody>\n",
       "</table>\n",
       "</div>"
      ],
      "text/plain": [
       "                               metric_type          unit     value  cost\n",
       "pk                                                                      \n",
       "Emissivity_Avg BF-BOF_AGO_2020       Other  tCO2/t steel  2.561582   0.0\n",
       "Emissivity_Avg BF-BOF_AGO_2021       Other  tCO2/t steel  2.561582   0.0\n",
       "Emissivity_Avg BF-BOF_AGO_2022       Other  tCO2/t steel  2.561582   0.0\n",
       "Emissivity_Avg BF-BOF_AGO_2023       Other  tCO2/t steel  2.561582   0.0\n",
       "Emissivity_Avg BF-BOF_AGO_2024       Other  tCO2/t steel  2.561582   0.0"
      ]
     },
     "execution_count": 47,
     "metadata": {},
     "output_type": "execute_result"
    }
   ],
   "source": [
    "dfr.head()"
   ]
  },
  {
   "cell_type": "code",
   "execution_count": 48,
   "id": "298a4a97-9c40-4b95-9d41-f8fd54613874",
   "metadata": {},
   "outputs": [
    {
     "data": {
      "text/html": [
       "<div>\n",
       "<style scoped>\n",
       "    .dataframe tbody tr th:only-of-type {\n",
       "        vertical-align: middle;\n",
       "    }\n",
       "\n",
       "    .dataframe tbody tr th {\n",
       "        vertical-align: top;\n",
       "    }\n",
       "\n",
       "    .dataframe thead th {\n",
       "        text-align: right;\n",
       "    }\n",
       "</style>\n",
       "<table border=\"1\" class=\"dataframe\">\n",
       "  <thead>\n",
       "    <tr style=\"text-align: right;\">\n",
       "      <th></th>\n",
       "      <th>metric_type</th>\n",
       "      <th>unit</th>\n",
       "      <th>value</th>\n",
       "      <th>cost</th>\n",
       "    </tr>\n",
       "    <tr>\n",
       "      <th>pk</th>\n",
       "      <th></th>\n",
       "      <th></th>\n",
       "      <th></th>\n",
       "      <th></th>\n",
       "    </tr>\n",
       "  </thead>\n",
       "  <tbody>\n",
       "    <tr>\n",
       "      <th>Emissivity_Avg BF-BOF_AGO_2020</th>\n",
       "      <td>Other</td>\n",
       "      <td>tCO2/t steel</td>\n",
       "      <td>2.561582</td>\n",
       "      <td>0.0</td>\n",
       "    </tr>\n",
       "    <tr>\n",
       "      <th>Emissivity_Avg BF-BOF_AGO_2021</th>\n",
       "      <td>Other</td>\n",
       "      <td>tCO2/t steel</td>\n",
       "      <td>2.561582</td>\n",
       "      <td>0.0</td>\n",
       "    </tr>\n",
       "    <tr>\n",
       "      <th>Emissivity_Avg BF-BOF_AGO_2022</th>\n",
       "      <td>Other</td>\n",
       "      <td>tCO2/t steel</td>\n",
       "      <td>2.561582</td>\n",
       "      <td>0.0</td>\n",
       "    </tr>\n",
       "    <tr>\n",
       "      <th>Emissivity_Avg BF-BOF_AGO_2023</th>\n",
       "      <td>Other</td>\n",
       "      <td>tCO2/t steel</td>\n",
       "      <td>2.561582</td>\n",
       "      <td>0.0</td>\n",
       "    </tr>\n",
       "    <tr>\n",
       "      <th>Emissivity_Avg BF-BOF_AGO_2024</th>\n",
       "      <td>Other</td>\n",
       "      <td>tCO2/t steel</td>\n",
       "      <td>2.561582</td>\n",
       "      <td>0.0</td>\n",
       "    </tr>\n",
       "  </tbody>\n",
       "</table>\n",
       "</div>"
      ],
      "text/plain": [
       "                               metric_type          unit     value  cost\n",
       "pk                                                                      \n",
       "Emissivity_Avg BF-BOF_AGO_2020       Other  tCO2/t steel  2.561582   0.0\n",
       "Emissivity_Avg BF-BOF_AGO_2021       Other  tCO2/t steel  2.561582   0.0\n",
       "Emissivity_Avg BF-BOF_AGO_2022       Other  tCO2/t steel  2.561582   0.0\n",
       "Emissivity_Avg BF-BOF_AGO_2023       Other  tCO2/t steel  2.561582   0.0\n",
       "Emissivity_Avg BF-BOF_AGO_2024       Other  tCO2/t steel  2.561582   0.0"
      ]
     },
     "execution_count": 48,
     "metadata": {},
     "output_type": "execute_result"
    }
   ],
   "source": [
    "dmo.head()"
   ]
  },
  {
   "cell_type": "code",
   "execution_count": 49,
   "id": "8c465df4-ae61-493c-84ea-30f51eddfca2",
   "metadata": {},
   "outputs": [
    {
     "name": "stdout",
     "output_type": "stream",
     "text": [
      "Category:  Iron ore\n",
      "shape:  (51832, 4) (51832, 4) True\n",
      "column values:  True\n",
      "sum cost:  6224864.016437758 6224864.016437758\n",
      "-----------------------------\n",
      "Category:  Scrap\n",
      "shape:  (51832, 4) (51832, 4) True\n",
      "column values:  True\n",
      "sum cost:  2309189.8733712 2309189.8733712\n",
      "-----------------------------\n",
      "Category:  DRI\n",
      "shape:  (51832, 4) (51832, 4) True\n",
      "column values:  True\n",
      "sum cost:  0.0 0.0\n",
      "-----------------------------\n",
      "Category:  Met coal\n",
      "shape:  (51832, 4) (51832, 4) True\n",
      "column values:  True\n",
      "sum cost:  563174.7219761774 563174.7219761774\n",
      "-----------------------------\n",
      "Category:  Coke\n",
      "shape:  (51832, 4) (51832, 4) True\n",
      "column values:  True\n",
      "sum cost:  0.0 0.0\n",
      "-----------------------------\n",
      "Category:  Thermal coal\n",
      "shape:  (51832, 4) (51832, 4) True\n",
      "column values:  True\n",
      "sum cost:  284071.0588329466 284071.0588329466\n",
      "-----------------------------\n",
      "Category:  BF gas\n",
      "shape:  (51832, 4) (51832, 4) True\n",
      "column values:  True\n",
      "sum cost:  0.0 0.0\n",
      "-----------------------------\n",
      "Category:  COG\n",
      "shape:  (51832, 4) (51832, 4) True\n",
      "column values:  True\n",
      "sum cost:  0.0 0.0\n",
      "-----------------------------\n",
      "Category:  BOF gas\n",
      "shape:  (51832, 4) (51832, 4) True\n",
      "column values:  True\n",
      "sum cost:  0.0 0.0\n",
      "-----------------------------\n",
      "Category:  Natural gas\n",
      "shape:  (51832, 4) (51832, 4) True\n",
      "column values:  True\n",
      "sum cost:  1512675.8623500294 1512675.8623500294\n",
      "-----------------------------\n",
      "Category:  Plastic waste\n",
      "shape:  (51832, 4) (51832, 4) True\n",
      "column values:  True\n",
      "sum cost:  112567.44784406299 112567.44784406299\n",
      "-----------------------------\n",
      "Category:  Biomass\n",
      "shape:  (51832, 4) (51832, 4) True\n",
      "column values:  True\n",
      "sum cost:  870287.3706416532 870287.3706416532\n",
      "-----------------------------\n",
      "Category:  Biomethane\n",
      "shape:  (51832, 4) (51832, 4) True\n",
      "column values:  True\n",
      "sum cost:  185247.54805556074 185247.54805556074\n",
      "-----------------------------\n",
      "Category:  Hydrogen\n",
      "shape:  (51832, 4) (51832, 4) True\n",
      "column values:  True\n",
      "sum cost:  1149369.2660721818 1149369.2660721818\n",
      "-----------------------------\n",
      "Category:  Electricity\n",
      "shape:  (51832, 4) (51832, 4) True\n",
      "column values:  True\n",
      "sum cost:  4835501.661417483 4835501.661417483\n",
      "-----------------------------\n",
      "Category:  Steam\n",
      "shape:  (51832, 4) (51832, 4) True\n",
      "column values:  True\n",
      "sum cost:  36279.27565146243 36279.27565146243\n",
      "-----------------------------\n",
      "Category:  BF slag\n",
      "shape:  (51832, 4) (51832, 4) True\n",
      "column values:  True\n",
      "sum cost:  -122017.51682999993 -122017.51682999993\n",
      "-----------------------------\n",
      "Category:  Other slag\n",
      "shape:  (51832, 4) (51832, 4) True\n",
      "column values:  True\n",
      "sum cost:  0.0 0.0\n",
      "-----------------------------\n",
      "Category:  Captured CO2\n",
      "shape:  (51832, 4) (51832, 4) True\n",
      "column values:  True\n",
      "sum cost:  62140.80143985786 62140.80143985786\n",
      "-----------------------------\n",
      "Category:  Used CO2\n",
      "shape:  (51832, 4) (51832, 4) True\n",
      "column values:  True\n",
      "sum cost:  2668.0564234853873 2668.0564234853873\n",
      "-----------------------------\n",
      "Category:  Emissivity\n",
      "shape:  (51832, 4) (51832, 4) True\n",
      "column values:  True\n",
      "sum cost:  0.0 0.0\n",
      "-----------------------------\n"
     ]
    }
   ],
   "source": [
    "for category in df_reference.material_category.unique():\n",
    "    compare_by_material_category(category, df_reference, dm)"
   ]
  },
  {
   "cell_type": "code",
   "execution_count": 133,
   "id": "851504bd-7c01-4ad0-8020-2a9495b58459",
   "metadata": {},
   "outputs": [
    {
     "data": {
      "text/plain": [
       "1088472"
      ]
     },
     "execution_count": 133,
     "metadata": {},
     "output_type": "execute_result"
    }
   ],
   "source": [
    "df_reference.material_category.unique().shape[0] * 51832"
   ]
  },
  {
   "cell_type": "code",
   "execution_count": 134,
   "id": "1e628c39-dcdb-433e-b842-2448a9c24ed9",
   "metadata": {},
   "outputs": [
    {
     "data": {
      "text/plain": [
       "(1088472, 9)"
      ]
     },
     "execution_count": 134,
     "metadata": {},
     "output_type": "execute_result"
    }
   ],
   "source": [
    "df_reference.shape"
   ]
  },
  {
   "cell_type": "code",
   "execution_count": 146,
   "id": "251e1213-f9dd-4407-b361-62e842a9665b",
   "metadata": {},
   "outputs": [
    {
     "data": {
      "text/html": [
       "<div>\n",
       "<style scoped>\n",
       "    .dataframe tbody tr th:only-of-type {\n",
       "        vertical-align: middle;\n",
       "    }\n",
       "\n",
       "    .dataframe tbody tr th {\n",
       "        vertical-align: top;\n",
       "    }\n",
       "\n",
       "    .dataframe thead th {\n",
       "        text-align: right;\n",
       "    }\n",
       "</style>\n",
       "<table border=\"1\" class=\"dataframe\">\n",
       "  <thead>\n",
       "    <tr style=\"text-align: right;\">\n",
       "      <th></th>\n",
       "      <th>technology</th>\n",
       "      <th>material_category</th>\n",
       "      <th>metric_type</th>\n",
       "      <th>unit</th>\n",
       "      <th>value</th>\n",
       "      <th>year</th>\n",
       "      <th>country_code</th>\n",
       "      <th>cost</th>\n",
       "      <th>cost_type</th>\n",
       "    </tr>\n",
       "  </thead>\n",
       "  <tbody>\n",
       "    <tr>\n",
       "      <th>22</th>\n",
       "      <td>Avg BF-BOF</td>\n",
       "      <td>Emissivity</td>\n",
       "      <td>Other</td>\n",
       "      <td>tCO2/t steel</td>\n",
       "      <td>2.561582</td>\n",
       "      <td>2020</td>\n",
       "      <td>DZA</td>\n",
       "      <td>0.0</td>\n",
       "      <td>Carbon Cost</td>\n",
       "    </tr>\n",
       "    <tr>\n",
       "      <th>45</th>\n",
       "      <td>BAT BF-BOF</td>\n",
       "      <td>Emissivity</td>\n",
       "      <td>Other</td>\n",
       "      <td>tCO2/t steel</td>\n",
       "      <td>2.004292</td>\n",
       "      <td>2020</td>\n",
       "      <td>DZA</td>\n",
       "      <td>0.0</td>\n",
       "      <td>Carbon Cost</td>\n",
       "    </tr>\n",
       "    <tr>\n",
       "      <th>68</th>\n",
       "      <td>BAT BF-BOF_bio PCI</td>\n",
       "      <td>Emissivity</td>\n",
       "      <td>Other</td>\n",
       "      <td>tCO2/t steel</td>\n",
       "      <td>1.628892</td>\n",
       "      <td>2020</td>\n",
       "      <td>DZA</td>\n",
       "      <td>0.0</td>\n",
       "      <td>Carbon Cost</td>\n",
       "    </tr>\n",
       "    <tr>\n",
       "      <th>91</th>\n",
       "      <td>BAT BF-BOF_H2 PCI</td>\n",
       "      <td>Emissivity</td>\n",
       "      <td>Other</td>\n",
       "      <td>tCO2/t steel</td>\n",
       "      <td>1.822237</td>\n",
       "      <td>2020</td>\n",
       "      <td>DZA</td>\n",
       "      <td>0.0</td>\n",
       "      <td>Carbon Cost</td>\n",
       "    </tr>\n",
       "    <tr>\n",
       "      <th>114</th>\n",
       "      <td>BAT BF-BOF+CCUS</td>\n",
       "      <td>Emissivity</td>\n",
       "      <td>Other</td>\n",
       "      <td>tCO2/t steel</td>\n",
       "      <td>0.185017</td>\n",
       "      <td>2020</td>\n",
       "      <td>DZA</td>\n",
       "      <td>0.0</td>\n",
       "      <td>Carbon Cost</td>\n",
       "    </tr>\n",
       "    <tr>\n",
       "      <th>...</th>\n",
       "      <td>...</td>\n",
       "      <td>...</td>\n",
       "      <td>...</td>\n",
       "      <td>...</td>\n",
       "      <td>...</td>\n",
       "      <td>...</td>\n",
       "      <td>...</td>\n",
       "      <td>...</td>\n",
       "      <td>...</td>\n",
       "    </tr>\n",
       "    <tr>\n",
       "      <th>1192043</th>\n",
       "      <td>DRI-Melt-BOF</td>\n",
       "      <td>Emissivity</td>\n",
       "      <td>Other</td>\n",
       "      <td>tCO2/t steel</td>\n",
       "      <td>0.782344</td>\n",
       "      <td>2050</td>\n",
       "      <td>USA</td>\n",
       "      <td>0.0</td>\n",
       "      <td>Carbon Cost</td>\n",
       "    </tr>\n",
       "    <tr>\n",
       "      <th>1192066</th>\n",
       "      <td>DRI-Melt-BOF+CCUS</td>\n",
       "      <td>Emissivity</td>\n",
       "      <td>Other</td>\n",
       "      <td>tCO2/t steel</td>\n",
       "      <td>0.149903</td>\n",
       "      <td>2050</td>\n",
       "      <td>USA</td>\n",
       "      <td>0.0</td>\n",
       "      <td>Carbon Cost</td>\n",
       "    </tr>\n",
       "    <tr>\n",
       "      <th>1192089</th>\n",
       "      <td>DRI-Melt-BOF_100% zero-C H2</td>\n",
       "      <td>Emissivity</td>\n",
       "      <td>Other</td>\n",
       "      <td>tCO2/t steel</td>\n",
       "      <td>0.051255</td>\n",
       "      <td>2050</td>\n",
       "      <td>USA</td>\n",
       "      <td>0.0</td>\n",
       "      <td>Carbon Cost</td>\n",
       "    </tr>\n",
       "    <tr>\n",
       "      <th>1192112</th>\n",
       "      <td>Electrowinning-EAF</td>\n",
       "      <td>Emissivity</td>\n",
       "      <td>Other</td>\n",
       "      <td>tCO2/t steel</td>\n",
       "      <td>0.081600</td>\n",
       "      <td>2050</td>\n",
       "      <td>USA</td>\n",
       "      <td>0.0</td>\n",
       "      <td>Carbon Cost</td>\n",
       "    </tr>\n",
       "    <tr>\n",
       "      <th>1192135</th>\n",
       "      <td>BAT BF-BOF+BECCUS</td>\n",
       "      <td>Emissivity</td>\n",
       "      <td>Other</td>\n",
       "      <td>tCO2/t steel</td>\n",
       "      <td>-0.404088</td>\n",
       "      <td>2050</td>\n",
       "      <td>USA</td>\n",
       "      <td>0.0</td>\n",
       "      <td>Carbon Cost</td>\n",
       "    </tr>\n",
       "  </tbody>\n",
       "</table>\n",
       "<p>51832 rows × 9 columns</p>\n",
       "</div>"
      ],
      "text/plain": [
       "                          technology material_category metric_type  \\\n",
       "22                        Avg BF-BOF        Emissivity       Other   \n",
       "45                        BAT BF-BOF        Emissivity       Other   \n",
       "68                BAT BF-BOF_bio PCI        Emissivity       Other   \n",
       "91                 BAT BF-BOF_H2 PCI        Emissivity       Other   \n",
       "114                  BAT BF-BOF+CCUS        Emissivity       Other   \n",
       "...                              ...               ...         ...   \n",
       "1192043                 DRI-Melt-BOF        Emissivity       Other   \n",
       "1192066            DRI-Melt-BOF+CCUS        Emissivity       Other   \n",
       "1192089  DRI-Melt-BOF_100% zero-C H2        Emissivity       Other   \n",
       "1192112           Electrowinning-EAF        Emissivity       Other   \n",
       "1192135            BAT BF-BOF+BECCUS        Emissivity       Other   \n",
       "\n",
       "                 unit     value  year country_code  cost    cost_type  \n",
       "22       tCO2/t steel  2.561582  2020          DZA   0.0  Carbon Cost  \n",
       "45       tCO2/t steel  2.004292  2020          DZA   0.0  Carbon Cost  \n",
       "68       tCO2/t steel  1.628892  2020          DZA   0.0  Carbon Cost  \n",
       "91       tCO2/t steel  1.822237  2020          DZA   0.0  Carbon Cost  \n",
       "114      tCO2/t steel  0.185017  2020          DZA   0.0  Carbon Cost  \n",
       "...               ...       ...   ...          ...   ...          ...  \n",
       "1192043  tCO2/t steel  0.782344  2050          USA   0.0  Carbon Cost  \n",
       "1192066  tCO2/t steel  0.149903  2050          USA   0.0  Carbon Cost  \n",
       "1192089  tCO2/t steel  0.051255  2050          USA   0.0  Carbon Cost  \n",
       "1192112  tCO2/t steel  0.081600  2050          USA   0.0  Carbon Cost  \n",
       "1192135  tCO2/t steel -0.404088  2050          USA   0.0  Carbon Cost  \n",
       "\n",
       "[51832 rows x 9 columns]"
      ]
     },
     "execution_count": 146,
     "metadata": {},
     "output_type": "execute_result"
    }
   ],
   "source": [
    "df_reference[df_reference.material_category == \"Emissivity\"]"
   ]
  },
  {
   "cell_type": "code",
   "execution_count": 147,
   "id": "a7ec0fbf-fba5-4e7d-aef1-6c92da82a4d6",
   "metadata": {},
   "outputs": [
    {
     "data": {
      "text/html": [
       "<div>\n",
       "<style scoped>\n",
       "    .dataframe tbody tr th:only-of-type {\n",
       "        vertical-align: middle;\n",
       "    }\n",
       "\n",
       "    .dataframe tbody tr th {\n",
       "        vertical-align: top;\n",
       "    }\n",
       "\n",
       "    .dataframe thead th {\n",
       "        text-align: right;\n",
       "    }\n",
       "</style>\n",
       "<table border=\"1\" class=\"dataframe\">\n",
       "  <thead>\n",
       "    <tr style=\"text-align: right;\">\n",
       "      <th></th>\n",
       "      <th>technology</th>\n",
       "      <th>material_category</th>\n",
       "      <th>metric_type</th>\n",
       "      <th>unit</th>\n",
       "      <th>value</th>\n",
       "      <th>year</th>\n",
       "      <th>country_code</th>\n",
       "      <th>cost</th>\n",
       "      <th>price</th>\n",
       "    </tr>\n",
       "  </thead>\n",
       "  <tbody>\n",
       "    <tr>\n",
       "      <th>47120</th>\n",
       "      <td>Avg BF-BOF</td>\n",
       "      <td>Emissivity</td>\n",
       "      <td>Other</td>\n",
       "      <td>tCO2/t steel</td>\n",
       "      <td>2.561582</td>\n",
       "      <td>2020</td>\n",
       "      <td>DZA</td>\n",
       "      <td>NaN</td>\n",
       "      <td>NaN</td>\n",
       "    </tr>\n",
       "    <tr>\n",
       "      <th>47121</th>\n",
       "      <td>Avg BF-BOF</td>\n",
       "      <td>Emissivity</td>\n",
       "      <td>Other</td>\n",
       "      <td>tCO2/t steel</td>\n",
       "      <td>2.561582</td>\n",
       "      <td>2020</td>\n",
       "      <td>AGO</td>\n",
       "      <td>NaN</td>\n",
       "      <td>NaN</td>\n",
       "    </tr>\n",
       "    <tr>\n",
       "      <th>47122</th>\n",
       "      <td>Avg BF-BOF</td>\n",
       "      <td>Emissivity</td>\n",
       "      <td>Other</td>\n",
       "      <td>tCO2/t steel</td>\n",
       "      <td>2.561582</td>\n",
       "      <td>2020</td>\n",
       "      <td>EGY</td>\n",
       "      <td>NaN</td>\n",
       "      <td>NaN</td>\n",
       "    </tr>\n",
       "    <tr>\n",
       "      <th>47123</th>\n",
       "      <td>Avg BF-BOF</td>\n",
       "      <td>Emissivity</td>\n",
       "      <td>Other</td>\n",
       "      <td>tCO2/t steel</td>\n",
       "      <td>2.561582</td>\n",
       "      <td>2020</td>\n",
       "      <td>LBY</td>\n",
       "      <td>NaN</td>\n",
       "      <td>NaN</td>\n",
       "    </tr>\n",
       "    <tr>\n",
       "      <th>47124</th>\n",
       "      <td>Avg BF-BOF</td>\n",
       "      <td>Emissivity</td>\n",
       "      <td>Other</td>\n",
       "      <td>tCO2/t steel</td>\n",
       "      <td>2.561582</td>\n",
       "      <td>2020</td>\n",
       "      <td>MAR</td>\n",
       "      <td>NaN</td>\n",
       "      <td>NaN</td>\n",
       "    </tr>\n",
       "    <tr>\n",
       "      <th>...</th>\n",
       "      <td>...</td>\n",
       "      <td>...</td>\n",
       "      <td>...</td>\n",
       "      <td>...</td>\n",
       "      <td>...</td>\n",
       "      <td>...</td>\n",
       "      <td>...</td>\n",
       "      <td>...</td>\n",
       "      <td>...</td>\n",
       "    </tr>\n",
       "    <tr>\n",
       "      <th>1088467</th>\n",
       "      <td>BAT BF-BOF+BECCUS</td>\n",
       "      <td>Emissivity</td>\n",
       "      <td>Other</td>\n",
       "      <td>tCO2/t steel</td>\n",
       "      <td>-0.404088</td>\n",
       "      <td>2050</td>\n",
       "      <td>SAU</td>\n",
       "      <td>NaN</td>\n",
       "      <td>NaN</td>\n",
       "    </tr>\n",
       "    <tr>\n",
       "      <th>1088468</th>\n",
       "      <td>BAT BF-BOF+BECCUS</td>\n",
       "      <td>Emissivity</td>\n",
       "      <td>Other</td>\n",
       "      <td>tCO2/t steel</td>\n",
       "      <td>-0.404088</td>\n",
       "      <td>2050</td>\n",
       "      <td>SYR</td>\n",
       "      <td>NaN</td>\n",
       "      <td>NaN</td>\n",
       "    </tr>\n",
       "    <tr>\n",
       "      <th>1088469</th>\n",
       "      <td>BAT BF-BOF+BECCUS</td>\n",
       "      <td>Emissivity</td>\n",
       "      <td>Other</td>\n",
       "      <td>tCO2/t steel</td>\n",
       "      <td>-0.404088</td>\n",
       "      <td>2050</td>\n",
       "      <td>CAN</td>\n",
       "      <td>NaN</td>\n",
       "      <td>NaN</td>\n",
       "    </tr>\n",
       "    <tr>\n",
       "      <th>1088470</th>\n",
       "      <td>BAT BF-BOF+BECCUS</td>\n",
       "      <td>Emissivity</td>\n",
       "      <td>Other</td>\n",
       "      <td>tCO2/t steel</td>\n",
       "      <td>-0.404088</td>\n",
       "      <td>2050</td>\n",
       "      <td>MEX</td>\n",
       "      <td>NaN</td>\n",
       "      <td>NaN</td>\n",
       "    </tr>\n",
       "    <tr>\n",
       "      <th>1088471</th>\n",
       "      <td>BAT BF-BOF+BECCUS</td>\n",
       "      <td>Emissivity</td>\n",
       "      <td>Other</td>\n",
       "      <td>tCO2/t steel</td>\n",
       "      <td>-0.404088</td>\n",
       "      <td>2050</td>\n",
       "      <td>USA</td>\n",
       "      <td>NaN</td>\n",
       "      <td>NaN</td>\n",
       "    </tr>\n",
       "  </tbody>\n",
       "</table>\n",
       "<p>51832 rows × 9 columns</p>\n",
       "</div>"
      ],
      "text/plain": [
       "                technology material_category metric_type          unit  \\\n",
       "47120           Avg BF-BOF        Emissivity       Other  tCO2/t steel   \n",
       "47121           Avg BF-BOF        Emissivity       Other  tCO2/t steel   \n",
       "47122           Avg BF-BOF        Emissivity       Other  tCO2/t steel   \n",
       "47123           Avg BF-BOF        Emissivity       Other  tCO2/t steel   \n",
       "47124           Avg BF-BOF        Emissivity       Other  tCO2/t steel   \n",
       "...                    ...               ...         ...           ...   \n",
       "1088467  BAT BF-BOF+BECCUS        Emissivity       Other  tCO2/t steel   \n",
       "1088468  BAT BF-BOF+BECCUS        Emissivity       Other  tCO2/t steel   \n",
       "1088469  BAT BF-BOF+BECCUS        Emissivity       Other  tCO2/t steel   \n",
       "1088470  BAT BF-BOF+BECCUS        Emissivity       Other  tCO2/t steel   \n",
       "1088471  BAT BF-BOF+BECCUS        Emissivity       Other  tCO2/t steel   \n",
       "\n",
       "            value  year country_code  cost  price  \n",
       "47120    2.561582  2020          DZA   NaN    NaN  \n",
       "47121    2.561582  2020          AGO   NaN    NaN  \n",
       "47122    2.561582  2020          EGY   NaN    NaN  \n",
       "47123    2.561582  2020          LBY   NaN    NaN  \n",
       "47124    2.561582  2020          MAR   NaN    NaN  \n",
       "...           ...   ...          ...   ...    ...  \n",
       "1088467 -0.404088  2050          SAU   NaN    NaN  \n",
       "1088468 -0.404088  2050          SYR   NaN    NaN  \n",
       "1088469 -0.404088  2050          CAN   NaN    NaN  \n",
       "1088470 -0.404088  2050          MEX   NaN    NaN  \n",
       "1088471 -0.404088  2050          USA   NaN    NaN  \n",
       "\n",
       "[51832 rows x 9 columns]"
      ]
     },
     "execution_count": 147,
     "metadata": {},
     "output_type": "execute_result"
    }
   ],
   "source": [
    "dm[dm.material_category == \"Emissivity\"]"
   ]
  },
  {
   "cell_type": "code",
   "execution_count": null,
   "id": "a79308b5-44bb-4622-8d8c-be7890243e05",
   "metadata": {},
   "outputs": [],
   "source": []
  }
 ],
 "metadata": {
  "kernelspec": {
   "display_name": "Python 3 (ipykernel)",
   "language": "python",
   "name": "python3"
  },
  "language_info": {
   "codemirror_mode": {
    "name": "ipython",
    "version": 3
   },
   "file_extension": ".py",
   "mimetype": "text/x-python",
   "name": "python",
   "nbconvert_exporter": "python",
   "pygments_lexer": "ipython3",
   "version": "3.10.4"
  }
 },
 "nbformat": 4,
 "nbformat_minor": 5
}
