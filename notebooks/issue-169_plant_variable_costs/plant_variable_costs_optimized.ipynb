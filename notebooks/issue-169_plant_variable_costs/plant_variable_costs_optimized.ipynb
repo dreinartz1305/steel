{
 "cells": [
  {
   "cell_type": "code",
   "execution_count": 1,
   "id": "bd1f8e4c-8be5-40c0-a7d1-7f2c1f06b8b5",
   "metadata": {
    "pycharm": {
     "name": "#%%\n"
    }
   },
   "outputs": [],
   "source": [
    "%load_ext lab_black"
   ]
  },
  {
   "cell_type": "code",
   "execution_count": 2,
   "id": "53f2e0e7-1865-4b98-9232-c44b0a500e70",
   "metadata": {
    "pycharm": {
     "name": "#%%\n"
    }
   },
   "outputs": [],
   "source": [
    "import numpy as np\n",
    "import pandas as pd"
   ]
  },
  {
   "cell_type": "code",
   "execution_count": 3,
   "id": "c2b10d8d-7944-42a2-9f0a-f5c0fd08a068",
   "metadata": {
    "pycharm": {
     "name": "#%%\n"
    }
   },
   "outputs": [],
   "source": [
    "import json\n",
    "import itertools\n",
    "\n",
    "from pathlib import Path"
   ]
  },
  {
   "cell_type": "code",
   "execution_count": 4,
   "id": "3681b26d-ec98-4520-8a0e-52676d2a544b",
   "metadata": {
    "pycharm": {
     "name": "#%%\n"
    }
   },
   "outputs": [],
   "source": [
    "from mppsteel.config.model_scenarios import DEFAULT_SCENARIO\n",
    "from mppsteel.config.model_config import USD_TO_EUR_CONVERSION_DEFAULT\n",
    "\n",
    "from mppsteel.config.reference_lists import RESOURCE_CATEGORY_MAPPER\n",
    "\n",
    "from mppsteel.data_preprocessing.variable_plant_cost_archetypes import (\n",
    "    plant_variable_costs,\n",
    "    generate_feedstock_dict,\n",
    "    generate_variable_costs,\n",
    "    vc_mapper,\n",
    ")\n",
    "\n",
    "from mppsteel.utility.file_handling_utility import (\n",
    "    read_pickle_folder,\n",
    "    get_scenario_pkl_path,\n",
    ")\n",
    "\n",
    "from mppsteel.config.model_config import (\n",
    "    PKL_DATA_FORMATTED,\n",
    "    PKL_DATA_IMPORTS,\n",
    "    MODEL_YEAR_RANGE,\n",
    ")"
   ]
  },
  {
   "cell_type": "code",
   "execution_count": 5,
   "id": "18239b98-e1e7-4119-85bd-5b6309eab844",
   "metadata": {
    "pycharm": {
     "name": "#%%\n"
    }
   },
   "outputs": [],
   "source": [
    "scenario_dict = DEFAULT_SCENARIO.copy()\n",
    "scenario_dict[\"usd_to_eur\"] = USD_TO_EUR_CONVERSION_DEFAULT\n",
    "scenario_dict[\"eur_to_usd\"] = 1.0 / scenario_dict[\"usd_to_eur\"]"
   ]
  },
  {
   "cell_type": "code",
   "execution_count": 6,
   "id": "fa33519b-bdbb-44b9-8128-c46b11e75ffe",
   "metadata": {
    "pycharm": {
     "name": "#%%\n"
    }
   },
   "outputs": [],
   "source": [
    "intermediate_path = get_scenario_pkl_path(\n",
    "    scenario_dict[\"scenario_name\"], \"intermediate\"\n",
    ")\n",
    "eur_to_usd_rate = scenario_dict[\"eur_to_usd\"]\n",
    "\n",
    "steel_plants = read_pickle_folder(PKL_DATA_FORMATTED, \"steel_plants_processed\", \"df\")\n",
    "steel_plant_region_ng_dict = (\n",
    "    steel_plants[[\"country_code\", \"cheap_natural_gas\"]]\n",
    "    .set_index(\"country_code\")\n",
    "    .to_dict()[\"cheap_natural_gas\"]\n",
    ")\n",
    "power_grid_prices_ref = read_pickle_folder(\n",
    "    intermediate_path, \"power_grid_prices_ref\", \"df\"\n",
    ")\n",
    "h2_prices_ref = read_pickle_folder(intermediate_path, \"h2_prices_ref\", \"df\")\n",
    "bio_model_prices_ref = read_pickle_folder(\n",
    "    intermediate_path, \"bio_model_prices_ref\", \"df\"\n",
    ")\n",
    "ccs_model_transport_ref = read_pickle_folder(\n",
    "    intermediate_path, \"ccs_model_transport_ref\", \"df\"\n",
    ")\n",
    "ccs_model_storage_ref = read_pickle_folder(\n",
    "    intermediate_path, \"ccs_model_storage_ref\", \"df\"\n",
    ")\n",
    "business_cases = read_pickle_folder(\n",
    "    PKL_DATA_FORMATTED, \"standardised_business_cases\", \"df\"\n",
    ").reset_index()\n",
    "static_energy_prices = read_pickle_folder(\n",
    "    PKL_DATA_IMPORTS, \"static_energy_prices\", \"df\"\n",
    ")[[\"Metric\", \"Year\", \"Value\"]]\n",
    "static_energy_prices.set_index([\"Metric\", \"Year\"], inplace=True)\n",
    "feedstock_dict = generate_feedstock_dict(eur_to_usd_rate)\n",
    "steel_plant_country_codes = list(steel_plants[\"country_code\"].unique())\n",
    "product_range_year_country = list(\n",
    "    itertools.product(MODEL_YEAR_RANGE, steel_plant_country_codes)\n",
    ")"
   ]
  },
  {
   "cell_type": "code",
   "execution_count": 7,
   "id": "4661b0b0-259c-47fd-a2da-4fc7d244f501",
   "metadata": {
    "pycharm": {
     "name": "#%%\n"
    }
   },
   "outputs": [],
   "source": [
    "dyc = pd.DataFrame(product_range_year_country, columns=(\"year\", \"country_code\"))"
   ]
  },
  {
   "cell_type": "code",
   "execution_count": 211,
   "id": "acdb85c0-ec9f-4339-b7ac-a3caa363aa12",
   "metadata": {
    "pycharm": {
     "name": "#%%\n"
    }
   },
   "outputs": [
    {
     "name": "stdout",
     "output_type": "stream",
     "text": [
      "CPU times: user 744 ms, sys: 111 ms, total: 855 ms\n",
      "Wall time: 859 ms\n"
     ]
    }
   ],
   "source": [
    "%%time\n",
    "df = business_cases.merge(dyc, how=\"cross\")\n",
    "not_categorical = set([\"year\", \"value\"])\n",
    "categorical_columns = [col for col in df.columns if col not in not_categorical]\n",
    "for col in categorical_columns:\n",
    "    df[col] = df[col].astype(\"category\")\n",
    "df[\"cost\"] = 0.0\n",
    "df = df.reset_index().set_index([\"material_category\", \"index\"])"
   ]
  },
  {
   "cell_type": "code",
   "execution_count": 212,
   "id": "3003e34a-9cb5-4fa5-9e31-2eb3349ef424",
   "metadata": {
    "pycharm": {
     "name": "#%%\n"
    }
   },
   "outputs": [
    {
     "name": "stdout",
     "output_type": "stream",
     "text": [
      "<class 'pandas.core.frame.DataFrame'>\n",
      "MultiIndex: 1192136 entries, ('Iron ore', 0) to ('Emissivity', 1192135)\n",
      "Data columns (total 7 columns):\n",
      " #   Column        Non-Null Count    Dtype   \n",
      "---  ------        --------------    -----   \n",
      " 0   technology    1192136 non-null  category\n",
      " 1   metric_type   1192136 non-null  category\n",
      " 2   unit          1192136 non-null  category\n",
      " 3   value         1192136 non-null  float64 \n",
      " 4   year          1192136 non-null  int64   \n",
      " 5   country_code  1192136 non-null  category\n",
      " 6   cost          1192136 non-null  float64 \n",
      "dtypes: category(4), float64(2), int64(1)\n",
      "memory usage: 78.9 MB\n"
     ]
    }
   ],
   "source": [
    "df.info(memory_usage=\"deep\")"
   ]
  },
  {
   "cell_type": "code",
   "execution_count": 90,
   "id": "fdf3d8a3-fa7b-4aa8-919a-5617e07cdaab",
   "metadata": {
    "pycharm": {
     "name": "#%%\n"
    }
   },
   "outputs": [
    {
     "data": {
      "text/plain": [
       "(51832, 7)"
      ]
     },
     "execution_count": 90,
     "metadata": {},
     "output_type": "execute_result"
    }
   ],
   "source": [
    "df.loc[\"Electricity\"].shape"
   ]
  },
  {
   "cell_type": "code",
   "execution_count": 91,
   "id": "b7a7678b-fc7a-4d2a-844d-f9d4a15cb1d8",
   "metadata": {
    "pycharm": {
     "name": "#%%\n"
    }
   },
   "outputs": [
    {
     "name": "stdout",
     "output_type": "stream",
     "text": [
      "CPU times: user 6.29 ms, sys: 1.55 ms, total: 7.84 ms\n",
      "Wall time: 7.29 ms\n"
     ]
    }
   ],
   "source": [
    "%%time\n",
    "pgp_ref_list = [\n",
    "    (year, cc, price) for (year, cc), price in power_grid_prices_ref.items()\n",
    "]\n",
    "df_pgp = pd.DataFrame(pgp_ref_list, columns=(\"year\", \"country_code\", \"price\"))\n",
    "df_pgp[\"country_code\"] = df_pgp[\"country_code\"].astype(\"category\")"
   ]
  },
  {
   "cell_type": "code",
   "execution_count": 24,
   "id": "e910343a-eee1-4f22-98df-3adfee9bf4cb",
   "metadata": {
    "pycharm": {
     "name": "#%%\n"
    }
   },
   "outputs": [
    {
     "name": "stdout",
     "output_type": "stream",
     "text": [
      "<class 'pandas.core.frame.DataFrame'>\n",
      "RangeIndex: 7719 entries, 0 to 7718\n",
      "Data columns (total 3 columns):\n",
      " #   Column        Non-Null Count  Dtype   \n",
      "---  ------        --------------  -----   \n",
      " 0   year          7719 non-null   int64   \n",
      " 1   country_code  7719 non-null   category\n",
      " 2   price         7719 non-null   float64 \n",
      "dtypes: category(1), float64(1), int64(1)\n",
      "memory usage: 158.5 KB\n"
     ]
    }
   ],
   "source": [
    "df_pgp.info(memory_usage=\"deep\")"
   ]
  },
  {
   "cell_type": "code",
   "execution_count": 65,
   "id": "f1de85ce-3baa-4d82-99c5-21498ebd7929",
   "metadata": {
    "pycharm": {
     "name": "#%%\n"
    }
   },
   "outputs": [],
   "source": [
    "def calculate_price_for_electricity(df, df_pgp):\n",
    "    de = df[df.material_category == \"Electricity\"]\n",
    "    dm = de.reset_index().merge(df_pgp, on=(\"year\", \"country_code\")).set_index(\"index\")\n",
    "    dm[\"cost\"] = dm.value * dm.price\n",
    "    df[\"cost\"] = dm.cost\n",
    "    return df"
   ]
  },
  {
   "cell_type": "code",
   "execution_count": 213,
   "id": "000a61d3-0175-4a71-9f62-c8ad02c02be3",
   "metadata": {
    "pycharm": {
     "name": "#%%\n"
    }
   },
   "outputs": [],
   "source": [
    "def calculate_price_for_electricity_new(df, df_pgp):\n",
    "    de = df.loc[\"Electricity\"]\n",
    "    dm = de.reset_index().merge(df_pgp, on=(\"year\", \"country_code\"))\n",
    "    dm[\"material_category\"] = \"Electricity\"\n",
    "    dm[\"material_category\"] = dm[\"material_category\"].astype(\"category\")\n",
    "    dm = dm.set_index([\"material_category\", \"index\"])\n",
    "    dm[\"cost\"] = dm.value * dm.price\n",
    "    df.loc[[\"Electricity\"], [\"cost\"]] = dm.cost\n",
    "    return df"
   ]
  },
  {
   "cell_type": "code",
   "execution_count": 210,
   "id": "37dec092-bb95-4d12-8e2a-8669b995d04f",
   "metadata": {
    "pycharm": {
     "name": "#%%\n"
    }
   },
   "outputs": [
    {
     "ename": "AttributeError",
     "evalue": "'DataFrame' object has no attribute 'material_category'",
     "output_type": "error",
     "traceback": [
      "\u001B[0;31m---------------------------------------------------------------------------\u001B[0m",
      "\u001B[0;31mAttributeError\u001B[0m                            Traceback (most recent call last)",
      "File \u001B[0;32m<timed exec>:1\u001B[0m, in \u001B[0;36m<module>\u001B[0;34m\u001B[0m\n",
      "Input \u001B[0;32mIn [65]\u001B[0m, in \u001B[0;36mcalculate_price_for_electricity\u001B[0;34m(df, df_pgp)\u001B[0m\n\u001B[1;32m      1\u001B[0m \u001B[38;5;28;01mdef\u001B[39;00m \u001B[38;5;21mcalculate_price_for_electricity\u001B[39m(df, df_pgp):\n\u001B[0;32m----> 2\u001B[0m     de \u001B[38;5;241m=\u001B[39m df[\u001B[43mdf\u001B[49m\u001B[38;5;241;43m.\u001B[39;49m\u001B[43mmaterial_category\u001B[49m \u001B[38;5;241m==\u001B[39m \u001B[38;5;124m\"\u001B[39m\u001B[38;5;124mElectricity\u001B[39m\u001B[38;5;124m\"\u001B[39m]\n\u001B[1;32m      3\u001B[0m     dm \u001B[38;5;241m=\u001B[39m de\u001B[38;5;241m.\u001B[39mreset_index()\u001B[38;5;241m.\u001B[39mmerge(df_pgp, on\u001B[38;5;241m=\u001B[39m(\u001B[38;5;124m\"\u001B[39m\u001B[38;5;124myear\u001B[39m\u001B[38;5;124m\"\u001B[39m, \u001B[38;5;124m\"\u001B[39m\u001B[38;5;124mcountry_code\u001B[39m\u001B[38;5;124m\"\u001B[39m))\u001B[38;5;241m.\u001B[39mset_index(\u001B[38;5;124m\"\u001B[39m\u001B[38;5;124mindex\u001B[39m\u001B[38;5;124m\"\u001B[39m)\n\u001B[1;32m      4\u001B[0m     dm[\u001B[38;5;124m\"\u001B[39m\u001B[38;5;124mcost\u001B[39m\u001B[38;5;124m\"\u001B[39m] \u001B[38;5;241m=\u001B[39m dm\u001B[38;5;241m.\u001B[39mvalue \u001B[38;5;241m*\u001B[39m dm\u001B[38;5;241m.\u001B[39mprice\n",
      "File \u001B[0;32m~/.virtualenvs/mppsteel/lib/python3.10/site-packages/pandas/core/generic.py:5487\u001B[0m, in \u001B[0;36mNDFrame.__getattr__\u001B[0;34m(self, name)\u001B[0m\n\u001B[1;32m   5480\u001B[0m \u001B[38;5;28;01mif\u001B[39;00m (\n\u001B[1;32m   5481\u001B[0m     name \u001B[38;5;129;01mnot\u001B[39;00m \u001B[38;5;129;01min\u001B[39;00m \u001B[38;5;28mself\u001B[39m\u001B[38;5;241m.\u001B[39m_internal_names_set\n\u001B[1;32m   5482\u001B[0m     \u001B[38;5;129;01mand\u001B[39;00m name \u001B[38;5;129;01mnot\u001B[39;00m \u001B[38;5;129;01min\u001B[39;00m \u001B[38;5;28mself\u001B[39m\u001B[38;5;241m.\u001B[39m_metadata\n\u001B[1;32m   5483\u001B[0m     \u001B[38;5;129;01mand\u001B[39;00m name \u001B[38;5;129;01mnot\u001B[39;00m \u001B[38;5;129;01min\u001B[39;00m \u001B[38;5;28mself\u001B[39m\u001B[38;5;241m.\u001B[39m_accessors\n\u001B[1;32m   5484\u001B[0m     \u001B[38;5;129;01mand\u001B[39;00m \u001B[38;5;28mself\u001B[39m\u001B[38;5;241m.\u001B[39m_info_axis\u001B[38;5;241m.\u001B[39m_can_hold_identifiers_and_holds_name(name)\n\u001B[1;32m   5485\u001B[0m ):\n\u001B[1;32m   5486\u001B[0m     \u001B[38;5;28;01mreturn\u001B[39;00m \u001B[38;5;28mself\u001B[39m[name]\n\u001B[0;32m-> 5487\u001B[0m \u001B[38;5;28;01mreturn\u001B[39;00m \u001B[38;5;28;43mobject\u001B[39;49m\u001B[38;5;241;43m.\u001B[39;49m\u001B[38;5;21;43m__getattribute__\u001B[39;49m\u001B[43m(\u001B[49m\u001B[38;5;28;43mself\u001B[39;49m\u001B[43m,\u001B[49m\u001B[43m \u001B[49m\u001B[43mname\u001B[49m\u001B[43m)\u001B[49m\n",
      "\u001B[0;31mAttributeError\u001B[0m: 'DataFrame' object has no attribute 'material_category'"
     ]
    }
   ],
   "source": [
    "%%time\n",
    "df = calculate_price_for_electricity(df, df_pgp)"
   ]
  },
  {
   "cell_type": "code",
   "execution_count": 214,
   "id": "beed474b-f0d3-4fe4-994d-fae499ba199f",
   "metadata": {
    "pycharm": {
     "name": "#%%\n"
    }
   },
   "outputs": [
    {
     "name": "stdout",
     "output_type": "stream",
     "text": [
      "CPU times: user 123 ms, sys: 16.2 ms, total: 140 ms\n",
      "Wall time: 139 ms\n"
     ]
    }
   ],
   "source": [
    "%%time\n",
    "df = calculate_price_for_electricity_new(df, df_pgp)"
   ]
  },
  {
   "cell_type": "code",
   "execution_count": 215,
   "id": "c6053f52-f11c-46a1-bd14-453de8ac94a7",
   "metadata": {
    "pycharm": {
     "name": "#%%\n"
    }
   },
   "outputs": [
    {
     "data": {
      "text/html": [
       "<div>\n",
       "<style scoped>\n",
       "    .dataframe tbody tr th:only-of-type {\n",
       "        vertical-align: middle;\n",
       "    }\n",
       "\n",
       "    .dataframe tbody tr th {\n",
       "        vertical-align: top;\n",
       "    }\n",
       "\n",
       "    .dataframe thead th {\n",
       "        text-align: right;\n",
       "    }\n",
       "</style>\n",
       "<table border=\"1\" class=\"dataframe\">\n",
       "  <thead>\n",
       "    <tr style=\"text-align: right;\">\n",
       "      <th></th>\n",
       "      <th></th>\n",
       "      <th>technology</th>\n",
       "      <th>metric_type</th>\n",
       "      <th>unit</th>\n",
       "      <th>value</th>\n",
       "      <th>year</th>\n",
       "      <th>country_code</th>\n",
       "      <th>cost</th>\n",
       "    </tr>\n",
       "    <tr>\n",
       "      <th>material_category</th>\n",
       "      <th>index</th>\n",
       "      <th></th>\n",
       "      <th></th>\n",
       "      <th></th>\n",
       "      <th></th>\n",
       "      <th></th>\n",
       "      <th></th>\n",
       "      <th></th>\n",
       "    </tr>\n",
       "  </thead>\n",
       "  <tbody>\n",
       "    <tr>\n",
       "      <th>Electricity</th>\n",
       "      <th>1010723</th>\n",
       "      <td>DRI-Melt-BOF+CCUS</td>\n",
       "      <td>Purchased energy</td>\n",
       "      <td>GJ/t steel</td>\n",
       "      <td>3.50132</td>\n",
       "      <td>2050</td>\n",
       "      <td>USA</td>\n",
       "      <td>59.091243</td>\n",
       "    </tr>\n",
       "  </tbody>\n",
       "</table>\n",
       "</div>"
      ],
      "text/plain": [
       "                                  technology       metric_type        unit  \\\n",
       "material_category index                                                      \n",
       "Electricity       1010723  DRI-Melt-BOF+CCUS  Purchased energy  GJ/t steel   \n",
       "\n",
       "                             value  year country_code       cost  \n",
       "material_category index                                           \n",
       "Electricity       1010723  3.50132  2050          USA  59.091243  "
      ]
     },
     "execution_count": 215,
     "metadata": {},
     "output_type": "execute_result"
    }
   ],
   "source": [
    "query_str = \"material_category == 'Electricity' and technology == 'DRI-Melt-BOF+CCUS' and year == 2050 and country_code == 'USA'\"\n",
    "df.query(query_str)"
   ]
  },
  {
   "cell_type": "code",
   "execution_count": 208,
   "id": "f4e1a3d7-5085-47f5-bc99-a20c6042552f",
   "metadata": {
    "pycharm": {
     "name": "#%%\n"
    }
   },
   "outputs": [
    {
     "data": {
      "text/html": [
       "<div>\n",
       "<style scoped>\n",
       "    .dataframe tbody tr th:only-of-type {\n",
       "        vertical-align: middle;\n",
       "    }\n",
       "\n",
       "    .dataframe tbody tr th {\n",
       "        vertical-align: top;\n",
       "    }\n",
       "\n",
       "    .dataframe thead th {\n",
       "        text-align: right;\n",
       "    }\n",
       "</style>\n",
       "<table border=\"1\" class=\"dataframe\">\n",
       "  <thead>\n",
       "    <tr style=\"text-align: right;\">\n",
       "      <th></th>\n",
       "      <th></th>\n",
       "      <th>technology</th>\n",
       "      <th>metric_type</th>\n",
       "      <th>unit</th>\n",
       "      <th>value</th>\n",
       "      <th>year</th>\n",
       "      <th>country_code</th>\n",
       "      <th>cost</th>\n",
       "    </tr>\n",
       "    <tr>\n",
       "      <th>material_category</th>\n",
       "      <th>index</th>\n",
       "      <th></th>\n",
       "      <th></th>\n",
       "      <th></th>\n",
       "      <th></th>\n",
       "      <th></th>\n",
       "      <th></th>\n",
       "      <th></th>\n",
       "    </tr>\n",
       "  </thead>\n",
       "  <tbody>\n",
       "    <tr>\n",
       "      <th>Electricity</th>\n",
       "      <th>1010723</th>\n",
       "      <td>DRI-Melt-BOF+CCUS</td>\n",
       "      <td>Purchased energy</td>\n",
       "      <td>GJ/t steel</td>\n",
       "      <td>3.50132</td>\n",
       "      <td>2050</td>\n",
       "      <td>USA</td>\n",
       "      <td>59.091243</td>\n",
       "    </tr>\n",
       "  </tbody>\n",
       "</table>\n",
       "</div>"
      ],
      "text/plain": [
       "                                  technology       metric_type        unit  \\\n",
       "material_category index                                                      \n",
       "Electricity       1010723  DRI-Melt-BOF+CCUS  Purchased energy  GJ/t steel   \n",
       "\n",
       "                             value  year country_code       cost  \n",
       "material_category index                                           \n",
       "Electricity       1010723  3.50132  2050          USA  59.091243  "
      ]
     },
     "execution_count": 208,
     "metadata": {},
     "output_type": "execute_result"
    }
   ],
   "source": [
    "query_str = \"material_category == 'Electricity' and technology == 'DRI-Melt-BOF+CCUS' and year == 2050 and country_code == 'USA'\"\n",
    "df.query(query_str)"
   ]
  },
  {
   "cell_type": "code",
   "execution_count": 72,
   "id": "9e6ca478-2b89-49cd-af93-0a1396d6b242",
   "metadata": {
    "pycharm": {
     "name": "#%%\n"
    }
   },
   "outputs": [],
   "source": [
    "dg = df.set_index(\"material_category\")"
   ]
  },
  {
   "cell_type": "code",
   "execution_count": 75,
   "id": "6b7062d0-ff86-45f2-a89e-be767760a7ed",
   "metadata": {
    "pycharm": {
     "name": "#%%\n"
    }
   },
   "outputs": [
    {
     "data": {
      "text/plain": [
       "(51832, 7)"
      ]
     },
     "execution_count": 75,
     "metadata": {},
     "output_type": "execute_result"
    }
   ],
   "source": [
    "dg.loc[\"Electricity\"].shape"
   ]
  },
  {
   "cell_type": "code",
   "execution_count": 78,
   "id": "df150a9e-de40-4d66-86f6-9a63f3247cc0",
   "metadata": {
    "pycharm": {
     "name": "#%%\n"
    }
   },
   "outputs": [
    {
     "ename": "KeyError",
     "evalue": "\"None of [('index', 'material_category')] are in the columns\"",
     "output_type": "error",
     "traceback": [
      "\u001B[0;31m---------------------------------------------------------------------------\u001B[0m",
      "\u001B[0;31mKeyError\u001B[0m                                  Traceback (most recent call last)",
      "Input \u001B[0;32mIn [78]\u001B[0m, in \u001B[0;36m<cell line: 1>\u001B[0;34m()\u001B[0m\n\u001B[0;32m----> 1\u001B[0m \u001B[43mdf\u001B[49m\u001B[38;5;241;43m.\u001B[39;49m\u001B[43mreset_index\u001B[49m\u001B[43m(\u001B[49m\u001B[43m)\u001B[49m\u001B[38;5;241;43m.\u001B[39;49m\u001B[43mset_index\u001B[49m\u001B[43m(\u001B[49m\u001B[43m(\u001B[49m\u001B[38;5;124;43m\"\u001B[39;49m\u001B[38;5;124;43mindex\u001B[39;49m\u001B[38;5;124;43m\"\u001B[39;49m\u001B[43m,\u001B[49m\u001B[43m \u001B[49m\u001B[38;5;124;43m\"\u001B[39;49m\u001B[38;5;124;43mmaterial_category\u001B[39;49m\u001B[38;5;124;43m\"\u001B[39;49m\u001B[43m)\u001B[49m\u001B[43m)\u001B[49m\n",
      "File \u001B[0;32m~/.virtualenvs/mppsteel/lib/python3.10/site-packages/pandas/util/_decorators.py:311\u001B[0m, in \u001B[0;36mdeprecate_nonkeyword_arguments.<locals>.decorate.<locals>.wrapper\u001B[0;34m(*args, **kwargs)\u001B[0m\n\u001B[1;32m    305\u001B[0m \u001B[38;5;28;01mif\u001B[39;00m \u001B[38;5;28mlen\u001B[39m(args) \u001B[38;5;241m>\u001B[39m num_allow_args:\n\u001B[1;32m    306\u001B[0m     warnings\u001B[38;5;241m.\u001B[39mwarn(\n\u001B[1;32m    307\u001B[0m         msg\u001B[38;5;241m.\u001B[39mformat(arguments\u001B[38;5;241m=\u001B[39marguments),\n\u001B[1;32m    308\u001B[0m         \u001B[38;5;167;01mFutureWarning\u001B[39;00m,\n\u001B[1;32m    309\u001B[0m         stacklevel\u001B[38;5;241m=\u001B[39mstacklevel,\n\u001B[1;32m    310\u001B[0m     )\n\u001B[0;32m--> 311\u001B[0m \u001B[38;5;28;01mreturn\u001B[39;00m \u001B[43mfunc\u001B[49m\u001B[43m(\u001B[49m\u001B[38;5;241;43m*\u001B[39;49m\u001B[43margs\u001B[49m\u001B[43m,\u001B[49m\u001B[43m \u001B[49m\u001B[38;5;241;43m*\u001B[39;49m\u001B[38;5;241;43m*\u001B[39;49m\u001B[43mkwargs\u001B[49m\u001B[43m)\u001B[49m\n",
      "File \u001B[0;32m~/.virtualenvs/mppsteel/lib/python3.10/site-packages/pandas/core/frame.py:5451\u001B[0m, in \u001B[0;36mDataFrame.set_index\u001B[0;34m(self, keys, drop, append, inplace, verify_integrity)\u001B[0m\n\u001B[1;32m   5448\u001B[0m                 missing\u001B[38;5;241m.\u001B[39mappend(col)\n\u001B[1;32m   5450\u001B[0m \u001B[38;5;28;01mif\u001B[39;00m missing:\n\u001B[0;32m-> 5451\u001B[0m     \u001B[38;5;28;01mraise\u001B[39;00m \u001B[38;5;167;01mKeyError\u001B[39;00m(\u001B[38;5;124mf\u001B[39m\u001B[38;5;124m\"\u001B[39m\u001B[38;5;124mNone of \u001B[39m\u001B[38;5;132;01m{\u001B[39;00mmissing\u001B[38;5;132;01m}\u001B[39;00m\u001B[38;5;124m are in the columns\u001B[39m\u001B[38;5;124m\"\u001B[39m)\n\u001B[1;32m   5453\u001B[0m \u001B[38;5;28;01mif\u001B[39;00m inplace:\n\u001B[1;32m   5454\u001B[0m     frame \u001B[38;5;241m=\u001B[39m \u001B[38;5;28mself\u001B[39m\n",
      "\u001B[0;31mKeyError\u001B[0m: \"None of [('index', 'material_category')] are in the columns\""
     ]
    }
   ],
   "source": [
    "df.reset_index().set_index((\"index\", \"material_category\"))"
   ]
  },
  {
   "cell_type": "code",
   "execution_count": 85,
   "id": "e62b3e47-4717-47db-8410-672b07223c16",
   "metadata": {
    "pycharm": {
     "name": "#%%\n"
    }
   },
   "outputs": [],
   "source": [
    "dg = df.reset_index().set_index([\"material_category\", \"index\"])"
   ]
  },
  {
   "cell_type": "code",
   "execution_count": 86,
   "id": "7c487f10-71ea-415b-b78b-16a12fe35789",
   "metadata": {
    "pycharm": {
     "name": "#%%\n"
    }
   },
   "outputs": [
    {
     "data": {
      "text/html": [
       "<div>\n",
       "<style scoped>\n",
       "    .dataframe tbody tr th:only-of-type {\n",
       "        vertical-align: middle;\n",
       "    }\n",
       "\n",
       "    .dataframe tbody tr th {\n",
       "        vertical-align: top;\n",
       "    }\n",
       "\n",
       "    .dataframe thead th {\n",
       "        text-align: right;\n",
       "    }\n",
       "</style>\n",
       "<table border=\"1\" class=\"dataframe\">\n",
       "  <thead>\n",
       "    <tr style=\"text-align: right;\">\n",
       "      <th></th>\n",
       "      <th></th>\n",
       "      <th>technology</th>\n",
       "      <th>metric_type</th>\n",
       "      <th>unit</th>\n",
       "      <th>value</th>\n",
       "      <th>year</th>\n",
       "      <th>country_code</th>\n",
       "      <th>cost</th>\n",
       "    </tr>\n",
       "    <tr>\n",
       "      <th>material_category</th>\n",
       "      <th>index</th>\n",
       "      <th></th>\n",
       "      <th></th>\n",
       "      <th></th>\n",
       "      <th></th>\n",
       "      <th></th>\n",
       "      <th></th>\n",
       "      <th></th>\n",
       "    </tr>\n",
       "  </thead>\n",
       "  <tbody>\n",
       "    <tr>\n",
       "      <th rowspan=\"5\" valign=\"top\">Iron ore</th>\n",
       "      <th>0</th>\n",
       "      <td>Avg BF-BOF</td>\n",
       "      <td>Feedstock</td>\n",
       "      <td>t/t steel</td>\n",
       "      <td>1.367188</td>\n",
       "      <td>2020</td>\n",
       "      <td>DZA</td>\n",
       "      <td>NaN</td>\n",
       "    </tr>\n",
       "    <tr>\n",
       "      <th>1</th>\n",
       "      <td>Avg BF-BOF</td>\n",
       "      <td>Feedstock</td>\n",
       "      <td>t/t steel</td>\n",
       "      <td>1.367188</td>\n",
       "      <td>2020</td>\n",
       "      <td>AGO</td>\n",
       "      <td>NaN</td>\n",
       "    </tr>\n",
       "    <tr>\n",
       "      <th>2</th>\n",
       "      <td>Avg BF-BOF</td>\n",
       "      <td>Feedstock</td>\n",
       "      <td>t/t steel</td>\n",
       "      <td>1.367188</td>\n",
       "      <td>2020</td>\n",
       "      <td>EGY</td>\n",
       "      <td>NaN</td>\n",
       "    </tr>\n",
       "    <tr>\n",
       "      <th>3</th>\n",
       "      <td>Avg BF-BOF</td>\n",
       "      <td>Feedstock</td>\n",
       "      <td>t/t steel</td>\n",
       "      <td>1.367188</td>\n",
       "      <td>2020</td>\n",
       "      <td>LBY</td>\n",
       "      <td>NaN</td>\n",
       "    </tr>\n",
       "    <tr>\n",
       "      <th>4</th>\n",
       "      <td>Avg BF-BOF</td>\n",
       "      <td>Feedstock</td>\n",
       "      <td>t/t steel</td>\n",
       "      <td>1.367188</td>\n",
       "      <td>2020</td>\n",
       "      <td>MAR</td>\n",
       "      <td>NaN</td>\n",
       "    </tr>\n",
       "    <tr>\n",
       "      <th>...</th>\n",
       "      <th>...</th>\n",
       "      <td>...</td>\n",
       "      <td>...</td>\n",
       "      <td>...</td>\n",
       "      <td>...</td>\n",
       "      <td>...</td>\n",
       "      <td>...</td>\n",
       "      <td>...</td>\n",
       "    </tr>\n",
       "    <tr>\n",
       "      <th rowspan=\"5\" valign=\"top\">Emissivity</th>\n",
       "      <th>1192131</th>\n",
       "      <td>BAT BF-BOF+BECCUS</td>\n",
       "      <td>Other</td>\n",
       "      <td>tCO2/t steel</td>\n",
       "      <td>-0.404088</td>\n",
       "      <td>2050</td>\n",
       "      <td>SAU</td>\n",
       "      <td>NaN</td>\n",
       "    </tr>\n",
       "    <tr>\n",
       "      <th>1192132</th>\n",
       "      <td>BAT BF-BOF+BECCUS</td>\n",
       "      <td>Other</td>\n",
       "      <td>tCO2/t steel</td>\n",
       "      <td>-0.404088</td>\n",
       "      <td>2050</td>\n",
       "      <td>SYR</td>\n",
       "      <td>NaN</td>\n",
       "    </tr>\n",
       "    <tr>\n",
       "      <th>1192133</th>\n",
       "      <td>BAT BF-BOF+BECCUS</td>\n",
       "      <td>Other</td>\n",
       "      <td>tCO2/t steel</td>\n",
       "      <td>-0.404088</td>\n",
       "      <td>2050</td>\n",
       "      <td>CAN</td>\n",
       "      <td>NaN</td>\n",
       "    </tr>\n",
       "    <tr>\n",
       "      <th>1192134</th>\n",
       "      <td>BAT BF-BOF+BECCUS</td>\n",
       "      <td>Other</td>\n",
       "      <td>tCO2/t steel</td>\n",
       "      <td>-0.404088</td>\n",
       "      <td>2050</td>\n",
       "      <td>MEX</td>\n",
       "      <td>NaN</td>\n",
       "    </tr>\n",
       "    <tr>\n",
       "      <th>1192135</th>\n",
       "      <td>BAT BF-BOF+BECCUS</td>\n",
       "      <td>Other</td>\n",
       "      <td>tCO2/t steel</td>\n",
       "      <td>-0.404088</td>\n",
       "      <td>2050</td>\n",
       "      <td>USA</td>\n",
       "      <td>NaN</td>\n",
       "    </tr>\n",
       "  </tbody>\n",
       "</table>\n",
       "<p>1192136 rows × 7 columns</p>\n",
       "</div>"
      ],
      "text/plain": [
       "                                  technology metric_type          unit  \\\n",
       "material_category index                                                  \n",
       "Iron ore          0               Avg BF-BOF   Feedstock     t/t steel   \n",
       "                  1               Avg BF-BOF   Feedstock     t/t steel   \n",
       "                  2               Avg BF-BOF   Feedstock     t/t steel   \n",
       "                  3               Avg BF-BOF   Feedstock     t/t steel   \n",
       "                  4               Avg BF-BOF   Feedstock     t/t steel   \n",
       "...                                      ...         ...           ...   \n",
       "Emissivity        1192131  BAT BF-BOF+BECCUS       Other  tCO2/t steel   \n",
       "                  1192132  BAT BF-BOF+BECCUS       Other  tCO2/t steel   \n",
       "                  1192133  BAT BF-BOF+BECCUS       Other  tCO2/t steel   \n",
       "                  1192134  BAT BF-BOF+BECCUS       Other  tCO2/t steel   \n",
       "                  1192135  BAT BF-BOF+BECCUS       Other  tCO2/t steel   \n",
       "\n",
       "                              value  year country_code  cost  \n",
       "material_category index                                       \n",
       "Iron ore          0        1.367188  2020          DZA   NaN  \n",
       "                  1        1.367188  2020          AGO   NaN  \n",
       "                  2        1.367188  2020          EGY   NaN  \n",
       "                  3        1.367188  2020          LBY   NaN  \n",
       "                  4        1.367188  2020          MAR   NaN  \n",
       "...                             ...   ...          ...   ...  \n",
       "Emissivity        1192131 -0.404088  2050          SAU   NaN  \n",
       "                  1192132 -0.404088  2050          SYR   NaN  \n",
       "                  1192133 -0.404088  2050          CAN   NaN  \n",
       "                  1192134 -0.404088  2050          MEX   NaN  \n",
       "                  1192135 -0.404088  2050          USA   NaN  \n",
       "\n",
       "[1192136 rows x 7 columns]"
      ]
     },
     "execution_count": 86,
     "metadata": {},
     "output_type": "execute_result"
    }
   ],
   "source": [
    "dg"
   ]
  },
  {
   "cell_type": "code",
   "execution_count": 87,
   "id": "cb8aa615-ce14-4dad-a3aa-117a4175dff7",
   "metadata": {
    "pycharm": {
     "name": "#%%\n"
    }
   },
   "outputs": [
    {
     "data": {
      "text/html": [
       "<div>\n",
       "<style scoped>\n",
       "    .dataframe tbody tr th:only-of-type {\n",
       "        vertical-align: middle;\n",
       "    }\n",
       "\n",
       "    .dataframe tbody tr th {\n",
       "        vertical-align: top;\n",
       "    }\n",
       "\n",
       "    .dataframe thead th {\n",
       "        text-align: right;\n",
       "    }\n",
       "</style>\n",
       "<table border=\"1\" class=\"dataframe\">\n",
       "  <thead>\n",
       "    <tr style=\"text-align: right;\">\n",
       "      <th></th>\n",
       "      <th>technology</th>\n",
       "      <th>metric_type</th>\n",
       "      <th>unit</th>\n",
       "      <th>value</th>\n",
       "      <th>year</th>\n",
       "      <th>country_code</th>\n",
       "      <th>cost</th>\n",
       "    </tr>\n",
       "    <tr>\n",
       "      <th>index</th>\n",
       "      <th></th>\n",
       "      <th></th>\n",
       "      <th></th>\n",
       "      <th></th>\n",
       "      <th></th>\n",
       "      <th></th>\n",
       "      <th></th>\n",
       "    </tr>\n",
       "  </thead>\n",
       "  <tbody>\n",
       "    <tr>\n",
       "      <th>32984</th>\n",
       "      <td>Avg BF-BOF</td>\n",
       "      <td>Purchased energy</td>\n",
       "      <td>GJ/t steel</td>\n",
       "      <td>0.197855</td>\n",
       "      <td>2020</td>\n",
       "      <td>DZA</td>\n",
       "      <td>4.498158</td>\n",
       "    </tr>\n",
       "    <tr>\n",
       "      <th>32985</th>\n",
       "      <td>Avg BF-BOF</td>\n",
       "      <td>Purchased energy</td>\n",
       "      <td>GJ/t steel</td>\n",
       "      <td>0.197855</td>\n",
       "      <td>2020</td>\n",
       "      <td>AGO</td>\n",
       "      <td>4.498158</td>\n",
       "    </tr>\n",
       "    <tr>\n",
       "      <th>32986</th>\n",
       "      <td>Avg BF-BOF</td>\n",
       "      <td>Purchased energy</td>\n",
       "      <td>GJ/t steel</td>\n",
       "      <td>0.197855</td>\n",
       "      <td>2020</td>\n",
       "      <td>EGY</td>\n",
       "      <td>4.498158</td>\n",
       "    </tr>\n",
       "    <tr>\n",
       "      <th>32987</th>\n",
       "      <td>Avg BF-BOF</td>\n",
       "      <td>Purchased energy</td>\n",
       "      <td>GJ/t steel</td>\n",
       "      <td>0.197855</td>\n",
       "      <td>2020</td>\n",
       "      <td>LBY</td>\n",
       "      <td>4.498158</td>\n",
       "    </tr>\n",
       "    <tr>\n",
       "      <th>32988</th>\n",
       "      <td>Avg BF-BOF</td>\n",
       "      <td>Purchased energy</td>\n",
       "      <td>GJ/t steel</td>\n",
       "      <td>0.197855</td>\n",
       "      <td>2020</td>\n",
       "      <td>MAR</td>\n",
       "      <td>4.498158</td>\n",
       "    </tr>\n",
       "    <tr>\n",
       "      <th>...</th>\n",
       "      <td>...</td>\n",
       "      <td>...</td>\n",
       "      <td>...</td>\n",
       "      <td>...</td>\n",
       "      <td>...</td>\n",
       "      <td>...</td>\n",
       "      <td>...</td>\n",
       "    </tr>\n",
       "    <tr>\n",
       "      <th>1173283</th>\n",
       "      <td>BAT BF-BOF+BECCUS</td>\n",
       "      <td>Purchased energy</td>\n",
       "      <td>GJ/t steel</td>\n",
       "      <td>7.213562</td>\n",
       "      <td>2050</td>\n",
       "      <td>SAU</td>\n",
       "      <td>173.616410</td>\n",
       "    </tr>\n",
       "    <tr>\n",
       "      <th>1173284</th>\n",
       "      <td>BAT BF-BOF+BECCUS</td>\n",
       "      <td>Purchased energy</td>\n",
       "      <td>GJ/t steel</td>\n",
       "      <td>7.213562</td>\n",
       "      <td>2050</td>\n",
       "      <td>SYR</td>\n",
       "      <td>173.616410</td>\n",
       "    </tr>\n",
       "    <tr>\n",
       "      <th>1173285</th>\n",
       "      <td>BAT BF-BOF+BECCUS</td>\n",
       "      <td>Purchased energy</td>\n",
       "      <td>GJ/t steel</td>\n",
       "      <td>7.213562</td>\n",
       "      <td>2050</td>\n",
       "      <td>CAN</td>\n",
       "      <td>121.742207</td>\n",
       "    </tr>\n",
       "    <tr>\n",
       "      <th>1173286</th>\n",
       "      <td>BAT BF-BOF+BECCUS</td>\n",
       "      <td>Purchased energy</td>\n",
       "      <td>GJ/t steel</td>\n",
       "      <td>7.213562</td>\n",
       "      <td>2050</td>\n",
       "      <td>MEX</td>\n",
       "      <td>121.742207</td>\n",
       "    </tr>\n",
       "    <tr>\n",
       "      <th>1173287</th>\n",
       "      <td>BAT BF-BOF+BECCUS</td>\n",
       "      <td>Purchased energy</td>\n",
       "      <td>GJ/t steel</td>\n",
       "      <td>7.213562</td>\n",
       "      <td>2050</td>\n",
       "      <td>USA</td>\n",
       "      <td>121.742207</td>\n",
       "    </tr>\n",
       "  </tbody>\n",
       "</table>\n",
       "<p>51832 rows × 7 columns</p>\n",
       "</div>"
      ],
      "text/plain": [
       "                technology       metric_type        unit     value  year  \\\n",
       "index                                                                      \n",
       "32984           Avg BF-BOF  Purchased energy  GJ/t steel  0.197855  2020   \n",
       "32985           Avg BF-BOF  Purchased energy  GJ/t steel  0.197855  2020   \n",
       "32986           Avg BF-BOF  Purchased energy  GJ/t steel  0.197855  2020   \n",
       "32987           Avg BF-BOF  Purchased energy  GJ/t steel  0.197855  2020   \n",
       "32988           Avg BF-BOF  Purchased energy  GJ/t steel  0.197855  2020   \n",
       "...                    ...               ...         ...       ...   ...   \n",
       "1173283  BAT BF-BOF+BECCUS  Purchased energy  GJ/t steel  7.213562  2050   \n",
       "1173284  BAT BF-BOF+BECCUS  Purchased energy  GJ/t steel  7.213562  2050   \n",
       "1173285  BAT BF-BOF+BECCUS  Purchased energy  GJ/t steel  7.213562  2050   \n",
       "1173286  BAT BF-BOF+BECCUS  Purchased energy  GJ/t steel  7.213562  2050   \n",
       "1173287  BAT BF-BOF+BECCUS  Purchased energy  GJ/t steel  7.213562  2050   \n",
       "\n",
       "        country_code        cost  \n",
       "index                             \n",
       "32984            DZA    4.498158  \n",
       "32985            AGO    4.498158  \n",
       "32986            EGY    4.498158  \n",
       "32987            LBY    4.498158  \n",
       "32988            MAR    4.498158  \n",
       "...              ...         ...  \n",
       "1173283          SAU  173.616410  \n",
       "1173284          SYR  173.616410  \n",
       "1173285          CAN  121.742207  \n",
       "1173286          MEX  121.742207  \n",
       "1173287          USA  121.742207  \n",
       "\n",
       "[51832 rows x 7 columns]"
      ]
     },
     "execution_count": 87,
     "metadata": {},
     "output_type": "execute_result"
    }
   ],
   "source": [
    "dg.loc[\"Electricity\"]"
   ]
  },
  {
   "cell_type": "code",
   "execution_count": 98,
   "id": "91ad1965-3dc4-4103-bbb7-4e4e2edd9901",
   "metadata": {
    "pycharm": {
     "name": "#%%\n"
    }
   },
   "outputs": [
    {
     "data": {
      "text/html": [
       "<div>\n",
       "<style scoped>\n",
       "    .dataframe tbody tr th:only-of-type {\n",
       "        vertical-align: middle;\n",
       "    }\n",
       "\n",
       "    .dataframe tbody tr th {\n",
       "        vertical-align: top;\n",
       "    }\n",
       "\n",
       "    .dataframe thead th {\n",
       "        text-align: right;\n",
       "    }\n",
       "</style>\n",
       "<table border=\"1\" class=\"dataframe\">\n",
       "  <thead>\n",
       "    <tr style=\"text-align: right;\">\n",
       "      <th></th>\n",
       "      <th></th>\n",
       "      <th>technology</th>\n",
       "      <th>metric_type</th>\n",
       "      <th>unit</th>\n",
       "      <th>value</th>\n",
       "      <th>year</th>\n",
       "      <th>country_code</th>\n",
       "      <th>cost</th>\n",
       "    </tr>\n",
       "    <tr>\n",
       "      <th>material_category</th>\n",
       "      <th>index</th>\n",
       "      <th></th>\n",
       "      <th></th>\n",
       "      <th></th>\n",
       "      <th></th>\n",
       "      <th></th>\n",
       "      <th></th>\n",
       "      <th></th>\n",
       "    </tr>\n",
       "  </thead>\n",
       "  <tbody>\n",
       "    <tr>\n",
       "      <th rowspan=\"5\" valign=\"top\">Iron ore</th>\n",
       "      <th>0</th>\n",
       "      <td>Avg BF-BOF</td>\n",
       "      <td>Feedstock</td>\n",
       "      <td>t/t steel</td>\n",
       "      <td>1.367188</td>\n",
       "      <td>2020</td>\n",
       "      <td>DZA</td>\n",
       "      <td>0.0</td>\n",
       "    </tr>\n",
       "    <tr>\n",
       "      <th>1</th>\n",
       "      <td>Avg BF-BOF</td>\n",
       "      <td>Feedstock</td>\n",
       "      <td>t/t steel</td>\n",
       "      <td>1.367188</td>\n",
       "      <td>2020</td>\n",
       "      <td>AGO</td>\n",
       "      <td>0.0</td>\n",
       "    </tr>\n",
       "    <tr>\n",
       "      <th>2</th>\n",
       "      <td>Avg BF-BOF</td>\n",
       "      <td>Feedstock</td>\n",
       "      <td>t/t steel</td>\n",
       "      <td>1.367188</td>\n",
       "      <td>2020</td>\n",
       "      <td>EGY</td>\n",
       "      <td>0.0</td>\n",
       "    </tr>\n",
       "    <tr>\n",
       "      <th>3</th>\n",
       "      <td>Avg BF-BOF</td>\n",
       "      <td>Feedstock</td>\n",
       "      <td>t/t steel</td>\n",
       "      <td>1.367188</td>\n",
       "      <td>2020</td>\n",
       "      <td>LBY</td>\n",
       "      <td>0.0</td>\n",
       "    </tr>\n",
       "    <tr>\n",
       "      <th>4</th>\n",
       "      <td>Avg BF-BOF</td>\n",
       "      <td>Feedstock</td>\n",
       "      <td>t/t steel</td>\n",
       "      <td>1.367188</td>\n",
       "      <td>2020</td>\n",
       "      <td>MAR</td>\n",
       "      <td>0.0</td>\n",
       "    </tr>\n",
       "    <tr>\n",
       "      <th>...</th>\n",
       "      <th>...</th>\n",
       "      <td>...</td>\n",
       "      <td>...</td>\n",
       "      <td>...</td>\n",
       "      <td>...</td>\n",
       "      <td>...</td>\n",
       "      <td>...</td>\n",
       "      <td>...</td>\n",
       "    </tr>\n",
       "    <tr>\n",
       "      <th rowspan=\"5\" valign=\"top\">Emissivity</th>\n",
       "      <th>1192131</th>\n",
       "      <td>BAT BF-BOF+BECCUS</td>\n",
       "      <td>Other</td>\n",
       "      <td>tCO2/t steel</td>\n",
       "      <td>-0.404088</td>\n",
       "      <td>2050</td>\n",
       "      <td>SAU</td>\n",
       "      <td>0.0</td>\n",
       "    </tr>\n",
       "    <tr>\n",
       "      <th>1192132</th>\n",
       "      <td>BAT BF-BOF+BECCUS</td>\n",
       "      <td>Other</td>\n",
       "      <td>tCO2/t steel</td>\n",
       "      <td>-0.404088</td>\n",
       "      <td>2050</td>\n",
       "      <td>SYR</td>\n",
       "      <td>0.0</td>\n",
       "    </tr>\n",
       "    <tr>\n",
       "      <th>1192133</th>\n",
       "      <td>BAT BF-BOF+BECCUS</td>\n",
       "      <td>Other</td>\n",
       "      <td>tCO2/t steel</td>\n",
       "      <td>-0.404088</td>\n",
       "      <td>2050</td>\n",
       "      <td>CAN</td>\n",
       "      <td>0.0</td>\n",
       "    </tr>\n",
       "    <tr>\n",
       "      <th>1192134</th>\n",
       "      <td>BAT BF-BOF+BECCUS</td>\n",
       "      <td>Other</td>\n",
       "      <td>tCO2/t steel</td>\n",
       "      <td>-0.404088</td>\n",
       "      <td>2050</td>\n",
       "      <td>MEX</td>\n",
       "      <td>0.0</td>\n",
       "    </tr>\n",
       "    <tr>\n",
       "      <th>1192135</th>\n",
       "      <td>BAT BF-BOF+BECCUS</td>\n",
       "      <td>Other</td>\n",
       "      <td>tCO2/t steel</td>\n",
       "      <td>-0.404088</td>\n",
       "      <td>2050</td>\n",
       "      <td>USA</td>\n",
       "      <td>0.0</td>\n",
       "    </tr>\n",
       "  </tbody>\n",
       "</table>\n",
       "<p>1192136 rows × 7 columns</p>\n",
       "</div>"
      ],
      "text/plain": [
       "                                  technology metric_type          unit  \\\n",
       "material_category index                                                  \n",
       "Iron ore          0               Avg BF-BOF   Feedstock     t/t steel   \n",
       "                  1               Avg BF-BOF   Feedstock     t/t steel   \n",
       "                  2               Avg BF-BOF   Feedstock     t/t steel   \n",
       "                  3               Avg BF-BOF   Feedstock     t/t steel   \n",
       "                  4               Avg BF-BOF   Feedstock     t/t steel   \n",
       "...                                      ...         ...           ...   \n",
       "Emissivity        1192131  BAT BF-BOF+BECCUS       Other  tCO2/t steel   \n",
       "                  1192132  BAT BF-BOF+BECCUS       Other  tCO2/t steel   \n",
       "                  1192133  BAT BF-BOF+BECCUS       Other  tCO2/t steel   \n",
       "                  1192134  BAT BF-BOF+BECCUS       Other  tCO2/t steel   \n",
       "                  1192135  BAT BF-BOF+BECCUS       Other  tCO2/t steel   \n",
       "\n",
       "                              value  year country_code  cost  \n",
       "material_category index                                       \n",
       "Iron ore          0        1.367188  2020          DZA   0.0  \n",
       "                  1        1.367188  2020          AGO   0.0  \n",
       "                  2        1.367188  2020          EGY   0.0  \n",
       "                  3        1.367188  2020          LBY   0.0  \n",
       "                  4        1.367188  2020          MAR   0.0  \n",
       "...                             ...   ...          ...   ...  \n",
       "Emissivity        1192131 -0.404088  2050          SAU   0.0  \n",
       "                  1192132 -0.404088  2050          SYR   0.0  \n",
       "                  1192133 -0.404088  2050          CAN   0.0  \n",
       "                  1192134 -0.404088  2050          MEX   0.0  \n",
       "                  1192135 -0.404088  2050          USA   0.0  \n",
       "\n",
       "[1192136 rows x 7 columns]"
      ]
     },
     "execution_count": 98,
     "metadata": {},
     "output_type": "execute_result"
    }
   ],
   "source": [
    "df"
   ]
  },
  {
   "cell_type": "code",
   "execution_count": 205,
   "id": "c13c0a33-9bd1-4827-a695-df0ae2ea2e29",
   "metadata": {
    "pycharm": {
     "name": "#%%\n"
    }
   },
   "outputs": [
    {
     "name": "stdout",
     "output_type": "stream",
     "text": [
      "CPU times: user 33 ms, sys: 5.23 ms, total: 38.2 ms\n",
      "Wall time: 36.8 ms\n"
     ]
    }
   ],
   "source": [
    "%%time\n",
    "de = df.loc[\"Electricity\" ]\n",
    "dm = de.reset_index().merge(df_pgp, on=(\"year\", \"country_code\"))\n",
    "dm[\"material_category\"] = \"Electricity\"\n",
    "dm[\"material_category\"] = dm[\"material_category\"].astype(\"category\")\n",
    "dm = dm.set_index([\"material_category\", \"index\"])\n",
    "dm[\"cost\"] = dm.value * dm.price"
   ]
  },
  {
   "cell_type": "code",
   "execution_count": 206,
   "id": "f4f5108f-84a1-461f-9db0-b749724fa0ee",
   "metadata": {
    "pycharm": {
     "name": "#%%\n"
    }
   },
   "outputs": [
    {
     "data": {
      "text/html": [
       "<div>\n",
       "<style scoped>\n",
       "    .dataframe tbody tr th:only-of-type {\n",
       "        vertical-align: middle;\n",
       "    }\n",
       "\n",
       "    .dataframe tbody tr th {\n",
       "        vertical-align: top;\n",
       "    }\n",
       "\n",
       "    .dataframe thead th {\n",
       "        text-align: right;\n",
       "    }\n",
       "</style>\n",
       "<table border=\"1\" class=\"dataframe\">\n",
       "  <thead>\n",
       "    <tr style=\"text-align: right;\">\n",
       "      <th></th>\n",
       "      <th></th>\n",
       "      <th>technology</th>\n",
       "      <th>metric_type</th>\n",
       "      <th>unit</th>\n",
       "      <th>value</th>\n",
       "      <th>year</th>\n",
       "      <th>country_code</th>\n",
       "      <th>cost</th>\n",
       "      <th>price</th>\n",
       "    </tr>\n",
       "    <tr>\n",
       "      <th>material_category</th>\n",
       "      <th>index</th>\n",
       "      <th></th>\n",
       "      <th></th>\n",
       "      <th></th>\n",
       "      <th></th>\n",
       "      <th></th>\n",
       "      <th></th>\n",
       "      <th></th>\n",
       "      <th></th>\n",
       "    </tr>\n",
       "  </thead>\n",
       "  <tbody>\n",
       "    <tr>\n",
       "      <th>Electricity</th>\n",
       "      <th>1010723</th>\n",
       "      <td>DRI-Melt-BOF+CCUS</td>\n",
       "      <td>Purchased energy</td>\n",
       "      <td>GJ/t steel</td>\n",
       "      <td>3.50132</td>\n",
       "      <td>2050</td>\n",
       "      <td>USA</td>\n",
       "      <td>59.091243</td>\n",
       "      <td>16.87685</td>\n",
       "    </tr>\n",
       "  </tbody>\n",
       "</table>\n",
       "</div>"
      ],
      "text/plain": [
       "                                  technology       metric_type        unit  \\\n",
       "material_category index                                                      \n",
       "Electricity       1010723  DRI-Melt-BOF+CCUS  Purchased energy  GJ/t steel   \n",
       "\n",
       "                             value  year country_code       cost     price  \n",
       "material_category index                                                     \n",
       "Electricity       1010723  3.50132  2050          USA  59.091243  16.87685  "
      ]
     },
     "execution_count": 206,
     "metadata": {},
     "output_type": "execute_result"
    }
   ],
   "source": [
    "query_str = (\n",
    "    \"technology == 'DRI-Melt-BOF+CCUS' and year == 2050 and country_code == 'USA'\"\n",
    ")\n",
    "dm.query(query_str)"
   ]
  },
  {
   "cell_type": "code",
   "execution_count": 207,
   "id": "d73d4204-ffad-4d98-8da1-22772dbda370",
   "metadata": {
    "pycharm": {
     "name": "#%%\n"
    }
   },
   "outputs": [],
   "source": [
    "df.loc[[\"Electricity\"], [\"cost\"]] = dm.cost"
   ]
  },
  {
   "cell_type": "code",
   "execution_count": 200,
   "id": "940185d0-bf29-42e5-8eb7-aee56b977270",
   "metadata": {
    "pycharm": {
     "name": "#%%\n"
    }
   },
   "outputs": [],
   "source": [
    "dg = pd.DataFrame({\"material_category\": \"Electricity\", \"index\": [32984], \"cost\": 1.0})\n",
    "dg[\"material_category\"] = dg[\"material_category\"].astype(\"category\")\n",
    "dg = dg.set_index([\"material_category\", \"index\"])"
   ]
  },
  {
   "cell_type": "code",
   "execution_count": 201,
   "id": "1e67b08c-631f-4d62-8cf3-c58bb2eb379f",
   "metadata": {
    "pycharm": {
     "name": "#%%\n"
    }
   },
   "outputs": [
    {
     "data": {
      "text/html": [
       "<div>\n",
       "<style scoped>\n",
       "    .dataframe tbody tr th:only-of-type {\n",
       "        vertical-align: middle;\n",
       "    }\n",
       "\n",
       "    .dataframe tbody tr th {\n",
       "        vertical-align: top;\n",
       "    }\n",
       "\n",
       "    .dataframe thead th {\n",
       "        text-align: right;\n",
       "    }\n",
       "</style>\n",
       "<table border=\"1\" class=\"dataframe\">\n",
       "  <thead>\n",
       "    <tr style=\"text-align: right;\">\n",
       "      <th></th>\n",
       "      <th></th>\n",
       "      <th>cost</th>\n",
       "    </tr>\n",
       "    <tr>\n",
       "      <th>material_category</th>\n",
       "      <th>index</th>\n",
       "      <th></th>\n",
       "    </tr>\n",
       "  </thead>\n",
       "  <tbody>\n",
       "    <tr>\n",
       "      <th>Electricity</th>\n",
       "      <th>32984</th>\n",
       "      <td>1.0</td>\n",
       "    </tr>\n",
       "  </tbody>\n",
       "</table>\n",
       "</div>"
      ],
      "text/plain": [
       "                         cost\n",
       "material_category index      \n",
       "Electricity       32984   1.0"
      ]
     },
     "execution_count": 201,
     "metadata": {},
     "output_type": "execute_result"
    }
   ],
   "source": [
    "dg"
   ]
  },
  {
   "cell_type": "code",
   "execution_count": 187,
   "id": "7c619f03-fe9f-4776-9d99-5190964c51c2",
   "metadata": {
    "pycharm": {
     "name": "#%%\n"
    }
   },
   "outputs": [
    {
     "data": {
      "text/plain": [
       "index\n",
       "32984    123.0\n",
       "Name: cost, dtype: float64"
      ]
     },
     "execution_count": 187,
     "metadata": {},
     "output_type": "execute_result"
    }
   ],
   "source": [
    "dg.cost"
   ]
  },
  {
   "cell_type": "code",
   "execution_count": 202,
   "id": "a6100f7a-0e46-4fd7-b54c-2b19063eeeed",
   "metadata": {
    "pycharm": {
     "name": "#%%\n"
    }
   },
   "outputs": [
    {
     "name": "stdout",
     "output_type": "stream",
     "text": [
      "CPU times: user 1.31 s, sys: 70.4 ms, total: 1.38 s\n",
      "Wall time: 1.38 s\n"
     ]
    }
   ],
   "source": [
    "%%time\n",
    "df[\"cost\"] = dg.cost"
   ]
  },
  {
   "cell_type": "code",
   "execution_count": 203,
   "id": "74d52e6a-addd-4561-9afd-fe8256eca60c",
   "metadata": {
    "pycharm": {
     "name": "#%%\n"
    }
   },
   "outputs": [
    {
     "data": {
      "text/html": [
       "<div>\n",
       "<style scoped>\n",
       "    .dataframe tbody tr th:only-of-type {\n",
       "        vertical-align: middle;\n",
       "    }\n",
       "\n",
       "    .dataframe tbody tr th {\n",
       "        vertical-align: top;\n",
       "    }\n",
       "\n",
       "    .dataframe thead th {\n",
       "        text-align: right;\n",
       "    }\n",
       "</style>\n",
       "<table border=\"1\" class=\"dataframe\">\n",
       "  <thead>\n",
       "    <tr style=\"text-align: right;\">\n",
       "      <th></th>\n",
       "      <th></th>\n",
       "      <th>technology</th>\n",
       "      <th>metric_type</th>\n",
       "      <th>unit</th>\n",
       "      <th>value</th>\n",
       "      <th>year</th>\n",
       "      <th>country_code</th>\n",
       "      <th>cost</th>\n",
       "    </tr>\n",
       "    <tr>\n",
       "      <th>material_category</th>\n",
       "      <th>index</th>\n",
       "      <th></th>\n",
       "      <th></th>\n",
       "      <th></th>\n",
       "      <th></th>\n",
       "      <th></th>\n",
       "      <th></th>\n",
       "      <th></th>\n",
       "    </tr>\n",
       "  </thead>\n",
       "  <tbody>\n",
       "    <tr>\n",
       "      <th rowspan=\"5\" valign=\"top\">Iron ore</th>\n",
       "      <th>0</th>\n",
       "      <td>Avg BF-BOF</td>\n",
       "      <td>Feedstock</td>\n",
       "      <td>t/t steel</td>\n",
       "      <td>1.367188</td>\n",
       "      <td>2020</td>\n",
       "      <td>DZA</td>\n",
       "      <td>NaN</td>\n",
       "    </tr>\n",
       "    <tr>\n",
       "      <th>1</th>\n",
       "      <td>Avg BF-BOF</td>\n",
       "      <td>Feedstock</td>\n",
       "      <td>t/t steel</td>\n",
       "      <td>1.367188</td>\n",
       "      <td>2020</td>\n",
       "      <td>AGO</td>\n",
       "      <td>NaN</td>\n",
       "    </tr>\n",
       "    <tr>\n",
       "      <th>2</th>\n",
       "      <td>Avg BF-BOF</td>\n",
       "      <td>Feedstock</td>\n",
       "      <td>t/t steel</td>\n",
       "      <td>1.367188</td>\n",
       "      <td>2020</td>\n",
       "      <td>EGY</td>\n",
       "      <td>NaN</td>\n",
       "    </tr>\n",
       "    <tr>\n",
       "      <th>3</th>\n",
       "      <td>Avg BF-BOF</td>\n",
       "      <td>Feedstock</td>\n",
       "      <td>t/t steel</td>\n",
       "      <td>1.367188</td>\n",
       "      <td>2020</td>\n",
       "      <td>LBY</td>\n",
       "      <td>NaN</td>\n",
       "    </tr>\n",
       "    <tr>\n",
       "      <th>4</th>\n",
       "      <td>Avg BF-BOF</td>\n",
       "      <td>Feedstock</td>\n",
       "      <td>t/t steel</td>\n",
       "      <td>1.367188</td>\n",
       "      <td>2020</td>\n",
       "      <td>MAR</td>\n",
       "      <td>NaN</td>\n",
       "    </tr>\n",
       "    <tr>\n",
       "      <th>...</th>\n",
       "      <th>...</th>\n",
       "      <td>...</td>\n",
       "      <td>...</td>\n",
       "      <td>...</td>\n",
       "      <td>...</td>\n",
       "      <td>...</td>\n",
       "      <td>...</td>\n",
       "      <td>...</td>\n",
       "    </tr>\n",
       "    <tr>\n",
       "      <th rowspan=\"5\" valign=\"top\">Emissivity</th>\n",
       "      <th>1192131</th>\n",
       "      <td>BAT BF-BOF+BECCUS</td>\n",
       "      <td>Other</td>\n",
       "      <td>tCO2/t steel</td>\n",
       "      <td>-0.404088</td>\n",
       "      <td>2050</td>\n",
       "      <td>SAU</td>\n",
       "      <td>NaN</td>\n",
       "    </tr>\n",
       "    <tr>\n",
       "      <th>1192132</th>\n",
       "      <td>BAT BF-BOF+BECCUS</td>\n",
       "      <td>Other</td>\n",
       "      <td>tCO2/t steel</td>\n",
       "      <td>-0.404088</td>\n",
       "      <td>2050</td>\n",
       "      <td>SYR</td>\n",
       "      <td>NaN</td>\n",
       "    </tr>\n",
       "    <tr>\n",
       "      <th>1192133</th>\n",
       "      <td>BAT BF-BOF+BECCUS</td>\n",
       "      <td>Other</td>\n",
       "      <td>tCO2/t steel</td>\n",
       "      <td>-0.404088</td>\n",
       "      <td>2050</td>\n",
       "      <td>CAN</td>\n",
       "      <td>NaN</td>\n",
       "    </tr>\n",
       "    <tr>\n",
       "      <th>1192134</th>\n",
       "      <td>BAT BF-BOF+BECCUS</td>\n",
       "      <td>Other</td>\n",
       "      <td>tCO2/t steel</td>\n",
       "      <td>-0.404088</td>\n",
       "      <td>2050</td>\n",
       "      <td>MEX</td>\n",
       "      <td>NaN</td>\n",
       "    </tr>\n",
       "    <tr>\n",
       "      <th>1192135</th>\n",
       "      <td>BAT BF-BOF+BECCUS</td>\n",
       "      <td>Other</td>\n",
       "      <td>tCO2/t steel</td>\n",
       "      <td>-0.404088</td>\n",
       "      <td>2050</td>\n",
       "      <td>USA</td>\n",
       "      <td>NaN</td>\n",
       "    </tr>\n",
       "  </tbody>\n",
       "</table>\n",
       "<p>1192136 rows × 7 columns</p>\n",
       "</div>"
      ],
      "text/plain": [
       "                                  technology metric_type          unit  \\\n",
       "material_category index                                                  \n",
       "Iron ore          0               Avg BF-BOF   Feedstock     t/t steel   \n",
       "                  1               Avg BF-BOF   Feedstock     t/t steel   \n",
       "                  2               Avg BF-BOF   Feedstock     t/t steel   \n",
       "                  3               Avg BF-BOF   Feedstock     t/t steel   \n",
       "                  4               Avg BF-BOF   Feedstock     t/t steel   \n",
       "...                                      ...         ...           ...   \n",
       "Emissivity        1192131  BAT BF-BOF+BECCUS       Other  tCO2/t steel   \n",
       "                  1192132  BAT BF-BOF+BECCUS       Other  tCO2/t steel   \n",
       "                  1192133  BAT BF-BOF+BECCUS       Other  tCO2/t steel   \n",
       "                  1192134  BAT BF-BOF+BECCUS       Other  tCO2/t steel   \n",
       "                  1192135  BAT BF-BOF+BECCUS       Other  tCO2/t steel   \n",
       "\n",
       "                              value  year country_code  cost  \n",
       "material_category index                                       \n",
       "Iron ore          0        1.367188  2020          DZA   NaN  \n",
       "                  1        1.367188  2020          AGO   NaN  \n",
       "                  2        1.367188  2020          EGY   NaN  \n",
       "                  3        1.367188  2020          LBY   NaN  \n",
       "                  4        1.367188  2020          MAR   NaN  \n",
       "...                             ...   ...          ...   ...  \n",
       "Emissivity        1192131 -0.404088  2050          SAU   NaN  \n",
       "                  1192132 -0.404088  2050          SYR   NaN  \n",
       "                  1192133 -0.404088  2050          CAN   NaN  \n",
       "                  1192134 -0.404088  2050          MEX   NaN  \n",
       "                  1192135 -0.404088  2050          USA   NaN  \n",
       "\n",
       "[1192136 rows x 7 columns]"
      ]
     },
     "execution_count": 203,
     "metadata": {},
     "output_type": "execute_result"
    }
   ],
   "source": [
    "df"
   ]
  },
  {
   "cell_type": "code",
   "execution_count": 191,
   "id": "6dec1af1-feb4-43ab-96c6-32fba5a0408d",
   "metadata": {
    "pycharm": {
     "name": "#%%\n"
    }
   },
   "outputs": [],
   "source": [
    "df.loc[\"Electricity\", [\"cost\"]] = dg.cost"
   ]
  },
  {
   "cell_type": "code",
   "execution_count": 196,
   "id": "a870ab4a-0196-4613-8a0e-5f7ef87d3da4",
   "metadata": {
    "pycharm": {
     "name": "#%%\n"
    }
   },
   "outputs": [
    {
     "data": {
      "text/html": [
       "<div>\n",
       "<style scoped>\n",
       "    .dataframe tbody tr th:only-of-type {\n",
       "        vertical-align: middle;\n",
       "    }\n",
       "\n",
       "    .dataframe tbody tr th {\n",
       "        vertical-align: top;\n",
       "    }\n",
       "\n",
       "    .dataframe thead th {\n",
       "        text-align: right;\n",
       "    }\n",
       "</style>\n",
       "<table border=\"1\" class=\"dataframe\">\n",
       "  <thead>\n",
       "    <tr style=\"text-align: right;\">\n",
       "      <th></th>\n",
       "      <th>cost</th>\n",
       "    </tr>\n",
       "    <tr>\n",
       "      <th>index</th>\n",
       "      <th></th>\n",
       "    </tr>\n",
       "  </thead>\n",
       "  <tbody>\n",
       "    <tr>\n",
       "      <th>32984</th>\n",
       "      <td>1.0</td>\n",
       "    </tr>\n",
       "    <tr>\n",
       "      <th>32985</th>\n",
       "      <td>NaN</td>\n",
       "    </tr>\n",
       "    <tr>\n",
       "      <th>32986</th>\n",
       "      <td>NaN</td>\n",
       "    </tr>\n",
       "    <tr>\n",
       "      <th>32987</th>\n",
       "      <td>NaN</td>\n",
       "    </tr>\n",
       "    <tr>\n",
       "      <th>32988</th>\n",
       "      <td>NaN</td>\n",
       "    </tr>\n",
       "    <tr>\n",
       "      <th>...</th>\n",
       "      <td>...</td>\n",
       "    </tr>\n",
       "    <tr>\n",
       "      <th>1173283</th>\n",
       "      <td>NaN</td>\n",
       "    </tr>\n",
       "    <tr>\n",
       "      <th>1173284</th>\n",
       "      <td>NaN</td>\n",
       "    </tr>\n",
       "    <tr>\n",
       "      <th>1173285</th>\n",
       "      <td>NaN</td>\n",
       "    </tr>\n",
       "    <tr>\n",
       "      <th>1173286</th>\n",
       "      <td>NaN</td>\n",
       "    </tr>\n",
       "    <tr>\n",
       "      <th>1173287</th>\n",
       "      <td>NaN</td>\n",
       "    </tr>\n",
       "  </tbody>\n",
       "</table>\n",
       "<p>51832 rows × 1 columns</p>\n",
       "</div>"
      ],
      "text/plain": [
       "         cost\n",
       "index        \n",
       "32984     1.0\n",
       "32985     NaN\n",
       "32986     NaN\n",
       "32987     NaN\n",
       "32988     NaN\n",
       "...       ...\n",
       "1173283   NaN\n",
       "1173284   NaN\n",
       "1173285   NaN\n",
       "1173286   NaN\n",
       "1173287   NaN\n",
       "\n",
       "[51832 rows x 1 columns]"
      ]
     },
     "execution_count": 196,
     "metadata": {},
     "output_type": "execute_result"
    }
   ],
   "source": [
    "df.loc[\"Electricity\", [\"cost\"]]"
   ]
  },
  {
   "cell_type": "code",
   "execution_count": 168,
   "id": "e34de1c3-caaa-45ac-b47e-85fc83fb04c2",
   "metadata": {
    "pycharm": {
     "name": "#%%\n"
    }
   },
   "outputs": [
    {
     "data": {
      "text/plain": [
       "index\n",
       "32984     NaN\n",
       "32985     NaN\n",
       "32986     NaN\n",
       "32987     NaN\n",
       "32988     NaN\n",
       "           ..\n",
       "1173283   NaN\n",
       "1173284   NaN\n",
       "1173285   NaN\n",
       "1173286   NaN\n",
       "1173287   NaN\n",
       "Name: cost, Length: 51832, dtype: float64"
      ]
     },
     "execution_count": 168,
     "metadata": {},
     "output_type": "execute_result"
    }
   ],
   "source": [
    "df.loc[\"Electricity\"].cost"
   ]
  },
  {
   "cell_type": "code",
   "execution_count": 153,
   "id": "8577ad6d-96f4-4a04-b607-c4196d842c73",
   "metadata": {
    "pycharm": {
     "name": "#%%\n"
    }
   },
   "outputs": [
    {
     "ename": "ValueError",
     "evalue": "Must have equal len keys and value when setting with an iterable",
     "output_type": "error",
     "traceback": [
      "\u001B[0;31m---------------------------------------------------------------------------\u001B[0m",
      "\u001B[0;31mValueError\u001B[0m                                Traceback (most recent call last)",
      "Input \u001B[0;32mIn [153]\u001B[0m, in \u001B[0;36m<cell line: 1>\u001B[0;34m()\u001B[0m\n\u001B[0;32m----> 1\u001B[0m df\u001B[38;5;241m.\u001B[39mloc[\u001B[38;5;124m\"\u001B[39m\u001B[38;5;124mElectricity\u001B[39m\u001B[38;5;124m\"\u001B[39m] \u001B[38;5;241m=\u001B[39m dm\u001B[38;5;241m.\u001B[39mcost\n",
      "File \u001B[0;32m~/.virtualenvs/mppsteel/lib/python3.10/site-packages/pandas/core/indexing.py:723\u001B[0m, in \u001B[0;36m_LocationIndexer.__setitem__\u001B[0;34m(self, key, value)\u001B[0m\n\u001B[1;32m    720\u001B[0m \u001B[38;5;28mself\u001B[39m\u001B[38;5;241m.\u001B[39m_has_valid_setitem_indexer(key)\n\u001B[1;32m    722\u001B[0m iloc \u001B[38;5;241m=\u001B[39m \u001B[38;5;28mself\u001B[39m \u001B[38;5;28;01mif\u001B[39;00m \u001B[38;5;28mself\u001B[39m\u001B[38;5;241m.\u001B[39mname \u001B[38;5;241m==\u001B[39m \u001B[38;5;124m\"\u001B[39m\u001B[38;5;124miloc\u001B[39m\u001B[38;5;124m\"\u001B[39m \u001B[38;5;28;01melse\u001B[39;00m \u001B[38;5;28mself\u001B[39m\u001B[38;5;241m.\u001B[39mobj\u001B[38;5;241m.\u001B[39miloc\n\u001B[0;32m--> 723\u001B[0m \u001B[43miloc\u001B[49m\u001B[38;5;241;43m.\u001B[39;49m\u001B[43m_setitem_with_indexer\u001B[49m\u001B[43m(\u001B[49m\u001B[43mindexer\u001B[49m\u001B[43m,\u001B[49m\u001B[43m \u001B[49m\u001B[43mvalue\u001B[49m\u001B[43m,\u001B[49m\u001B[43m \u001B[49m\u001B[38;5;28;43mself\u001B[39;49m\u001B[38;5;241;43m.\u001B[39;49m\u001B[43mname\u001B[49m\u001B[43m)\u001B[49m\n",
      "File \u001B[0;32m~/.virtualenvs/mppsteel/lib/python3.10/site-packages/pandas/core/indexing.py:1730\u001B[0m, in \u001B[0;36m_iLocIndexer._setitem_with_indexer\u001B[0;34m(self, indexer, value, name)\u001B[0m\n\u001B[1;32m   1727\u001B[0m \u001B[38;5;66;03m# align and set the values\u001B[39;00m\n\u001B[1;32m   1728\u001B[0m \u001B[38;5;28;01mif\u001B[39;00m take_split_path:\n\u001B[1;32m   1729\u001B[0m     \u001B[38;5;66;03m# We have to operate column-wise\u001B[39;00m\n\u001B[0;32m-> 1730\u001B[0m     \u001B[38;5;28;43mself\u001B[39;49m\u001B[38;5;241;43m.\u001B[39;49m\u001B[43m_setitem_with_indexer_split_path\u001B[49m\u001B[43m(\u001B[49m\u001B[43mindexer\u001B[49m\u001B[43m,\u001B[49m\u001B[43m \u001B[49m\u001B[43mvalue\u001B[49m\u001B[43m,\u001B[49m\u001B[43m \u001B[49m\u001B[43mname\u001B[49m\u001B[43m)\u001B[49m\n\u001B[1;32m   1731\u001B[0m \u001B[38;5;28;01melse\u001B[39;00m:\n\u001B[1;32m   1732\u001B[0m     \u001B[38;5;28mself\u001B[39m\u001B[38;5;241m.\u001B[39m_setitem_single_block(indexer, value, name)\n",
      "File \u001B[0;32m~/.virtualenvs/mppsteel/lib/python3.10/site-packages/pandas/core/indexing.py:1808\u001B[0m, in \u001B[0;36m_iLocIndexer._setitem_with_indexer_split_path\u001B[0;34m(self, indexer, value, name)\u001B[0m\n\u001B[1;32m   1805\u001B[0m         \u001B[38;5;28mself\u001B[39m\u001B[38;5;241m.\u001B[39m_setitem_single_column(ilocs[\u001B[38;5;241m0\u001B[39m], value, pi)\n\u001B[1;32m   1807\u001B[0m     \u001B[38;5;28;01melse\u001B[39;00m:\n\u001B[0;32m-> 1808\u001B[0m         \u001B[38;5;28;01mraise\u001B[39;00m \u001B[38;5;167;01mValueError\u001B[39;00m(\n\u001B[1;32m   1809\u001B[0m             \u001B[38;5;124m\"\u001B[39m\u001B[38;5;124mMust have equal len keys and value \u001B[39m\u001B[38;5;124m\"\u001B[39m\n\u001B[1;32m   1810\u001B[0m             \u001B[38;5;124m\"\u001B[39m\u001B[38;5;124mwhen setting with an iterable\u001B[39m\u001B[38;5;124m\"\u001B[39m\n\u001B[1;32m   1811\u001B[0m         )\n\u001B[1;32m   1813\u001B[0m \u001B[38;5;28;01melse\u001B[39;00m:\n\u001B[1;32m   1814\u001B[0m \n\u001B[1;32m   1815\u001B[0m     \u001B[38;5;66;03m# scalar value\u001B[39;00m\n\u001B[1;32m   1816\u001B[0m     \u001B[38;5;28;01mfor\u001B[39;00m loc \u001B[38;5;129;01min\u001B[39;00m ilocs:\n",
      "\u001B[0;31mValueError\u001B[0m: Must have equal len keys and value when setting with an iterable"
     ]
    }
   ],
   "source": [
    "df.loc[\"Electricity\"] = dm.cost"
   ]
  },
  {
   "cell_type": "code",
   "execution_count": 151,
   "id": "65e18a00-915d-4042-b4e6-87ba1a6503b3",
   "metadata": {
    "pycharm": {
     "name": "#%%\n"
    }
   },
   "outputs": [
    {
     "ename": "KeyError",
     "evalue": "'index'",
     "output_type": "error",
     "traceback": [
      "\u001B[0;31m---------------------------------------------------------------------------\u001B[0m",
      "\u001B[0;31mKeyError\u001B[0m                                  Traceback (most recent call last)",
      "File \u001B[0;32m~/.virtualenvs/mppsteel/lib/python3.10/site-packages/pandas/core/indexes/base.py:3361\u001B[0m, in \u001B[0;36mIndex.get_loc\u001B[0;34m(self, key, method, tolerance)\u001B[0m\n\u001B[1;32m   3360\u001B[0m \u001B[38;5;28;01mtry\u001B[39;00m:\n\u001B[0;32m-> 3361\u001B[0m     \u001B[38;5;28;01mreturn\u001B[39;00m \u001B[38;5;28;43mself\u001B[39;49m\u001B[38;5;241;43m.\u001B[39;49m\u001B[43m_engine\u001B[49m\u001B[38;5;241;43m.\u001B[39;49m\u001B[43mget_loc\u001B[49m\u001B[43m(\u001B[49m\u001B[43mcasted_key\u001B[49m\u001B[43m)\u001B[49m\n\u001B[1;32m   3362\u001B[0m \u001B[38;5;28;01mexcept\u001B[39;00m \u001B[38;5;167;01mKeyError\u001B[39;00m \u001B[38;5;28;01mas\u001B[39;00m err:\n",
      "File \u001B[0;32m~/.virtualenvs/mppsteel/lib/python3.10/site-packages/pandas/_libs/index.pyx:76\u001B[0m, in \u001B[0;36mpandas._libs.index.IndexEngine.get_loc\u001B[0;34m()\u001B[0m\n",
      "File \u001B[0;32m~/.virtualenvs/mppsteel/lib/python3.10/site-packages/pandas/_libs/index.pyx:108\u001B[0m, in \u001B[0;36mpandas._libs.index.IndexEngine.get_loc\u001B[0;34m()\u001B[0m\n",
      "File \u001B[0;32mpandas/_libs/hashtable_class_helper.pxi:5198\u001B[0m, in \u001B[0;36mpandas._libs.hashtable.PyObjectHashTable.get_item\u001B[0;34m()\u001B[0m\n",
      "File \u001B[0;32mpandas/_libs/hashtable_class_helper.pxi:5206\u001B[0m, in \u001B[0;36mpandas._libs.hashtable.PyObjectHashTable.get_item\u001B[0;34m()\u001B[0m\n",
      "\u001B[0;31mKeyError\u001B[0m: 'index'",
      "\nThe above exception was the direct cause of the following exception:\n",
      "\u001B[0;31mKeyError\u001B[0m                                  Traceback (most recent call last)",
      "Input \u001B[0;32mIn [151]\u001B[0m, in \u001B[0;36m<cell line: 1>\u001B[0;34m()\u001B[0m\n\u001B[0;32m----> 1\u001B[0m \u001B[43mdf\u001B[49m\u001B[38;5;241;43m.\u001B[39;49m\u001B[43mloc\u001B[49m\u001B[43m[\u001B[49m\u001B[38;5;124;43m\"\u001B[39;49m\u001B[38;5;124;43mindex\u001B[39;49m\u001B[38;5;124;43m\"\u001B[39;49m\u001B[43m]\u001B[49m\n",
      "File \u001B[0;32m~/.virtualenvs/mppsteel/lib/python3.10/site-packages/pandas/core/indexing.py:931\u001B[0m, in \u001B[0;36m_LocationIndexer.__getitem__\u001B[0;34m(self, key)\u001B[0m\n\u001B[1;32m    928\u001B[0m axis \u001B[38;5;241m=\u001B[39m \u001B[38;5;28mself\u001B[39m\u001B[38;5;241m.\u001B[39maxis \u001B[38;5;129;01mor\u001B[39;00m \u001B[38;5;241m0\u001B[39m\n\u001B[1;32m    930\u001B[0m maybe_callable \u001B[38;5;241m=\u001B[39m com\u001B[38;5;241m.\u001B[39mapply_if_callable(key, \u001B[38;5;28mself\u001B[39m\u001B[38;5;241m.\u001B[39mobj)\n\u001B[0;32m--> 931\u001B[0m \u001B[38;5;28;01mreturn\u001B[39;00m \u001B[38;5;28;43mself\u001B[39;49m\u001B[38;5;241;43m.\u001B[39;49m\u001B[43m_getitem_axis\u001B[49m\u001B[43m(\u001B[49m\u001B[43mmaybe_callable\u001B[49m\u001B[43m,\u001B[49m\u001B[43m \u001B[49m\u001B[43maxis\u001B[49m\u001B[38;5;241;43m=\u001B[39;49m\u001B[43maxis\u001B[49m\u001B[43m)\u001B[49m\n",
      "File \u001B[0;32m~/.virtualenvs/mppsteel/lib/python3.10/site-packages/pandas/core/indexing.py:1164\u001B[0m, in \u001B[0;36m_LocIndexer._getitem_axis\u001B[0;34m(self, key, axis)\u001B[0m\n\u001B[1;32m   1162\u001B[0m \u001B[38;5;66;03m# fall thru to straight lookup\u001B[39;00m\n\u001B[1;32m   1163\u001B[0m \u001B[38;5;28mself\u001B[39m\u001B[38;5;241m.\u001B[39m_validate_key(key, axis)\n\u001B[0;32m-> 1164\u001B[0m \u001B[38;5;28;01mreturn\u001B[39;00m \u001B[38;5;28;43mself\u001B[39;49m\u001B[38;5;241;43m.\u001B[39;49m\u001B[43m_get_label\u001B[49m\u001B[43m(\u001B[49m\u001B[43mkey\u001B[49m\u001B[43m,\u001B[49m\u001B[43m \u001B[49m\u001B[43maxis\u001B[49m\u001B[38;5;241;43m=\u001B[39;49m\u001B[43maxis\u001B[49m\u001B[43m)\u001B[49m\n",
      "File \u001B[0;32m~/.virtualenvs/mppsteel/lib/python3.10/site-packages/pandas/core/indexing.py:1113\u001B[0m, in \u001B[0;36m_LocIndexer._get_label\u001B[0;34m(self, label, axis)\u001B[0m\n\u001B[1;32m   1111\u001B[0m \u001B[38;5;28;01mdef\u001B[39;00m \u001B[38;5;21m_get_label\u001B[39m(\u001B[38;5;28mself\u001B[39m, label, axis: \u001B[38;5;28mint\u001B[39m):\n\u001B[1;32m   1112\u001B[0m     \u001B[38;5;66;03m# GH#5667 this will fail if the label is not present in the axis.\u001B[39;00m\n\u001B[0;32m-> 1113\u001B[0m     \u001B[38;5;28;01mreturn\u001B[39;00m \u001B[38;5;28;43mself\u001B[39;49m\u001B[38;5;241;43m.\u001B[39;49m\u001B[43mobj\u001B[49m\u001B[38;5;241;43m.\u001B[39;49m\u001B[43mxs\u001B[49m\u001B[43m(\u001B[49m\u001B[43mlabel\u001B[49m\u001B[43m,\u001B[49m\u001B[43m \u001B[49m\u001B[43maxis\u001B[49m\u001B[38;5;241;43m=\u001B[39;49m\u001B[43maxis\u001B[49m\u001B[43m)\u001B[49m\n",
      "File \u001B[0;32m~/.virtualenvs/mppsteel/lib/python3.10/site-packages/pandas/core/generic.py:3770\u001B[0m, in \u001B[0;36mNDFrame.xs\u001B[0;34m(self, key, axis, level, drop_level)\u001B[0m\n\u001B[1;32m   3768\u001B[0m \u001B[38;5;28;01mif\u001B[39;00m \u001B[38;5;28misinstance\u001B[39m(index, MultiIndex):\n\u001B[1;32m   3769\u001B[0m     \u001B[38;5;28;01mtry\u001B[39;00m:\n\u001B[0;32m-> 3770\u001B[0m         loc, new_index \u001B[38;5;241m=\u001B[39m \u001B[43mindex\u001B[49m\u001B[38;5;241;43m.\u001B[39;49m\u001B[43m_get_loc_level\u001B[49m\u001B[43m(\u001B[49m\n\u001B[1;32m   3771\u001B[0m \u001B[43m            \u001B[49m\u001B[43mkey\u001B[49m\u001B[43m,\u001B[49m\u001B[43m \u001B[49m\u001B[43mlevel\u001B[49m\u001B[38;5;241;43m=\u001B[39;49m\u001B[38;5;241;43m0\u001B[39;49m\u001B[43m,\u001B[49m\u001B[43m \u001B[49m\u001B[43mdrop_level\u001B[49m\u001B[38;5;241;43m=\u001B[39;49m\u001B[43mdrop_level\u001B[49m\n\u001B[1;32m   3772\u001B[0m \u001B[43m        \u001B[49m\u001B[43m)\u001B[49m\n\u001B[1;32m   3773\u001B[0m     \u001B[38;5;28;01mexcept\u001B[39;00m \u001B[38;5;167;01mTypeError\u001B[39;00m \u001B[38;5;28;01mas\u001B[39;00m e:\n\u001B[1;32m   3774\u001B[0m         \u001B[38;5;28;01mraise\u001B[39;00m \u001B[38;5;167;01mTypeError\u001B[39;00m(\u001B[38;5;124mf\u001B[39m\u001B[38;5;124m\"\u001B[39m\u001B[38;5;124mExpected label or tuple of labels, got \u001B[39m\u001B[38;5;132;01m{\u001B[39;00mkey\u001B[38;5;132;01m}\u001B[39;00m\u001B[38;5;124m\"\u001B[39m) \u001B[38;5;28;01mfrom\u001B[39;00m \u001B[38;5;21;01me\u001B[39;00m\n",
      "File \u001B[0;32m~/.virtualenvs/mppsteel/lib/python3.10/site-packages/pandas/core/indexes/multi.py:3112\u001B[0m, in \u001B[0;36mMultiIndex._get_loc_level\u001B[0;34m(self, key, level, drop_level)\u001B[0m\n\u001B[1;32m   3110\u001B[0m         \u001B[38;5;28;01mreturn\u001B[39;00m indexer, maybe_mi_droplevels(indexer, ilevels, drop_level)\n\u001B[1;32m   3111\u001B[0m \u001B[38;5;28;01melse\u001B[39;00m:\n\u001B[0;32m-> 3112\u001B[0m     indexer \u001B[38;5;241m=\u001B[39m \u001B[38;5;28;43mself\u001B[39;49m\u001B[38;5;241;43m.\u001B[39;49m\u001B[43m_get_level_indexer\u001B[49m\u001B[43m(\u001B[49m\u001B[43mkey\u001B[49m\u001B[43m,\u001B[49m\u001B[43m \u001B[49m\u001B[43mlevel\u001B[49m\u001B[38;5;241;43m=\u001B[39;49m\u001B[43mlevel\u001B[49m\u001B[43m)\u001B[49m\n\u001B[1;32m   3113\u001B[0m     \u001B[38;5;28;01mreturn\u001B[39;00m indexer, maybe_mi_droplevels(indexer, [level], drop_level)\n",
      "File \u001B[0;32m~/.virtualenvs/mppsteel/lib/python3.10/site-packages/pandas/core/indexes/multi.py:3204\u001B[0m, in \u001B[0;36mMultiIndex._get_level_indexer\u001B[0;34m(self, key, level, indexer)\u001B[0m\n\u001B[1;32m   3200\u001B[0m         \u001B[38;5;28;01mreturn\u001B[39;00m \u001B[38;5;28mslice\u001B[39m(i, j, step)\n\u001B[1;32m   3202\u001B[0m \u001B[38;5;28;01melse\u001B[39;00m:\n\u001B[0;32m-> 3204\u001B[0m     idx \u001B[38;5;241m=\u001B[39m \u001B[38;5;28;43mself\u001B[39;49m\u001B[38;5;241;43m.\u001B[39;49m\u001B[43m_get_loc_single_level_index\u001B[49m\u001B[43m(\u001B[49m\u001B[43mlevel_index\u001B[49m\u001B[43m,\u001B[49m\u001B[43m \u001B[49m\u001B[43mkey\u001B[49m\u001B[43m)\u001B[49m\n\u001B[1;32m   3206\u001B[0m     \u001B[38;5;28;01mif\u001B[39;00m level \u001B[38;5;241m>\u001B[39m \u001B[38;5;241m0\u001B[39m \u001B[38;5;129;01mor\u001B[39;00m \u001B[38;5;28mself\u001B[39m\u001B[38;5;241m.\u001B[39m_lexsort_depth \u001B[38;5;241m==\u001B[39m \u001B[38;5;241m0\u001B[39m:\n\u001B[1;32m   3207\u001B[0m         \u001B[38;5;66;03m# Desired level is not sorted\u001B[39;00m\n\u001B[1;32m   3208\u001B[0m         locs \u001B[38;5;241m=\u001B[39m np\u001B[38;5;241m.\u001B[39marray(level_codes \u001B[38;5;241m==\u001B[39m idx, dtype\u001B[38;5;241m=\u001B[39m\u001B[38;5;28mbool\u001B[39m, copy\u001B[38;5;241m=\u001B[39m\u001B[38;5;28;01mFalse\u001B[39;00m)\n",
      "File \u001B[0;32m~/.virtualenvs/mppsteel/lib/python3.10/site-packages/pandas/core/indexes/multi.py:2855\u001B[0m, in \u001B[0;36mMultiIndex._get_loc_single_level_index\u001B[0;34m(self, level_index, key)\u001B[0m\n\u001B[1;32m   2853\u001B[0m     \u001B[38;5;28;01mreturn\u001B[39;00m \u001B[38;5;241m-\u001B[39m\u001B[38;5;241m1\u001B[39m\n\u001B[1;32m   2854\u001B[0m \u001B[38;5;28;01melse\u001B[39;00m:\n\u001B[0;32m-> 2855\u001B[0m     \u001B[38;5;28;01mreturn\u001B[39;00m \u001B[43mlevel_index\u001B[49m\u001B[38;5;241;43m.\u001B[39;49m\u001B[43mget_loc\u001B[49m\u001B[43m(\u001B[49m\u001B[43mkey\u001B[49m\u001B[43m)\u001B[49m\n",
      "File \u001B[0;32m~/.virtualenvs/mppsteel/lib/python3.10/site-packages/pandas/core/indexes/base.py:3359\u001B[0m, in \u001B[0;36mIndex.get_loc\u001B[0;34m(self, key, method, tolerance)\u001B[0m\n\u001B[1;32m   3354\u001B[0m \u001B[38;5;28;01mif\u001B[39;00m tolerance \u001B[38;5;129;01mis\u001B[39;00m \u001B[38;5;129;01mnot\u001B[39;00m \u001B[38;5;28;01mNone\u001B[39;00m:\n\u001B[1;32m   3355\u001B[0m     \u001B[38;5;28;01mraise\u001B[39;00m \u001B[38;5;167;01mValueError\u001B[39;00m(\n\u001B[1;32m   3356\u001B[0m         \u001B[38;5;124m\"\u001B[39m\u001B[38;5;124mtolerance argument only valid if using pad, \u001B[39m\u001B[38;5;124m\"\u001B[39m\n\u001B[1;32m   3357\u001B[0m         \u001B[38;5;124m\"\u001B[39m\u001B[38;5;124mbackfill or nearest lookups\u001B[39m\u001B[38;5;124m\"\u001B[39m\n\u001B[1;32m   3358\u001B[0m     )\n\u001B[0;32m-> 3359\u001B[0m casted_key \u001B[38;5;241m=\u001B[39m \u001B[38;5;28;43mself\u001B[39;49m\u001B[38;5;241;43m.\u001B[39;49m\u001B[43m_maybe_cast_indexer\u001B[49m\u001B[43m(\u001B[49m\u001B[43mkey\u001B[49m\u001B[43m)\u001B[49m\n\u001B[1;32m   3360\u001B[0m \u001B[38;5;28;01mtry\u001B[39;00m:\n\u001B[1;32m   3361\u001B[0m     \u001B[38;5;28;01mreturn\u001B[39;00m \u001B[38;5;28mself\u001B[39m\u001B[38;5;241m.\u001B[39m_engine\u001B[38;5;241m.\u001B[39mget_loc(casted_key)\n",
      "File \u001B[0;32m~/.virtualenvs/mppsteel/lib/python3.10/site-packages/pandas/core/indexes/category.py:484\u001B[0m, in \u001B[0;36mCategoricalIndex._maybe_cast_indexer\u001B[0;34m(self, key)\u001B[0m\n\u001B[1;32m    480\u001B[0m \u001B[38;5;28;01mdef\u001B[39;00m \u001B[38;5;21m_maybe_cast_indexer\u001B[39m(\u001B[38;5;28mself\u001B[39m, key) \u001B[38;5;241m-\u001B[39m\u001B[38;5;241m>\u001B[39m \u001B[38;5;28mint\u001B[39m:\n\u001B[1;32m    481\u001B[0m     \u001B[38;5;66;03m# GH#41933: we have to do this instead of self._data._validate_scalar\u001B[39;00m\n\u001B[1;32m    482\u001B[0m     \u001B[38;5;66;03m#  because this will correctly get partial-indexing on Interval categories\u001B[39;00m\n\u001B[1;32m    483\u001B[0m     \u001B[38;5;28;01mtry\u001B[39;00m:\n\u001B[0;32m--> 484\u001B[0m         \u001B[38;5;28;01mreturn\u001B[39;00m \u001B[38;5;28;43mself\u001B[39;49m\u001B[38;5;241;43m.\u001B[39;49m\u001B[43m_data\u001B[49m\u001B[38;5;241;43m.\u001B[39;49m\u001B[43m_unbox_scalar\u001B[49m\u001B[43m(\u001B[49m\u001B[43mkey\u001B[49m\u001B[43m)\u001B[49m\n\u001B[1;32m    485\u001B[0m     \u001B[38;5;28;01mexcept\u001B[39;00m \u001B[38;5;167;01mKeyError\u001B[39;00m:\n\u001B[1;32m    486\u001B[0m         \u001B[38;5;28;01mif\u001B[39;00m is_valid_na_for_dtype(key, \u001B[38;5;28mself\u001B[39m\u001B[38;5;241m.\u001B[39mcategories\u001B[38;5;241m.\u001B[39mdtype):\n",
      "File \u001B[0;32m~/.virtualenvs/mppsteel/lib/python3.10/site-packages/pandas/core/arrays/categorical.py:1871\u001B[0m, in \u001B[0;36mCategorical._unbox_scalar\u001B[0;34m(self, key)\u001B[0m\n\u001B[1;32m   1868\u001B[0m \u001B[38;5;28;01mdef\u001B[39;00m \u001B[38;5;21m_unbox_scalar\u001B[39m(\u001B[38;5;28mself\u001B[39m, key) \u001B[38;5;241m-\u001B[39m\u001B[38;5;241m>\u001B[39m \u001B[38;5;28mint\u001B[39m:\n\u001B[1;32m   1869\u001B[0m     \u001B[38;5;66;03m# searchsorted is very performance sensitive. By converting codes\u001B[39;00m\n\u001B[1;32m   1870\u001B[0m     \u001B[38;5;66;03m# to same dtype as self.codes, we get much faster performance.\u001B[39;00m\n\u001B[0;32m-> 1871\u001B[0m     code \u001B[38;5;241m=\u001B[39m \u001B[38;5;28;43mself\u001B[39;49m\u001B[38;5;241;43m.\u001B[39;49m\u001B[43mcategories\u001B[49m\u001B[38;5;241;43m.\u001B[39;49m\u001B[43mget_loc\u001B[49m\u001B[43m(\u001B[49m\u001B[43mkey\u001B[49m\u001B[43m)\u001B[49m\n\u001B[1;32m   1872\u001B[0m     code \u001B[38;5;241m=\u001B[39m \u001B[38;5;28mself\u001B[39m\u001B[38;5;241m.\u001B[39m_ndarray\u001B[38;5;241m.\u001B[39mdtype\u001B[38;5;241m.\u001B[39mtype(code)\n\u001B[1;32m   1873\u001B[0m     \u001B[38;5;28;01mreturn\u001B[39;00m code\n",
      "File \u001B[0;32m~/.virtualenvs/mppsteel/lib/python3.10/site-packages/pandas/core/indexes/base.py:3363\u001B[0m, in \u001B[0;36mIndex.get_loc\u001B[0;34m(self, key, method, tolerance)\u001B[0m\n\u001B[1;32m   3361\u001B[0m         \u001B[38;5;28;01mreturn\u001B[39;00m \u001B[38;5;28mself\u001B[39m\u001B[38;5;241m.\u001B[39m_engine\u001B[38;5;241m.\u001B[39mget_loc(casted_key)\n\u001B[1;32m   3362\u001B[0m     \u001B[38;5;28;01mexcept\u001B[39;00m \u001B[38;5;167;01mKeyError\u001B[39;00m \u001B[38;5;28;01mas\u001B[39;00m err:\n\u001B[0;32m-> 3363\u001B[0m         \u001B[38;5;28;01mraise\u001B[39;00m \u001B[38;5;167;01mKeyError\u001B[39;00m(key) \u001B[38;5;28;01mfrom\u001B[39;00m \u001B[38;5;21;01merr\u001B[39;00m\n\u001B[1;32m   3365\u001B[0m \u001B[38;5;28;01mif\u001B[39;00m is_scalar(key) \u001B[38;5;129;01mand\u001B[39;00m isna(key) \u001B[38;5;129;01mand\u001B[39;00m \u001B[38;5;129;01mnot\u001B[39;00m \u001B[38;5;28mself\u001B[39m\u001B[38;5;241m.\u001B[39mhasnans:\n\u001B[1;32m   3366\u001B[0m     \u001B[38;5;28;01mraise\u001B[39;00m \u001B[38;5;167;01mKeyError\u001B[39;00m(key)\n",
      "\u001B[0;31mKeyError\u001B[0m: 'index'"
     ]
    }
   ],
   "source": [
    "df.loc[\"index\"]"
   ]
  },
  {
   "cell_type": "code",
   "execution_count": 149,
   "id": "94940a2f-9046-4f68-aaf1-ef100d7327bd",
   "metadata": {
    "pycharm": {
     "name": "#%%\n"
    }
   },
   "outputs": [
    {
     "data": {
      "text/html": [
       "<div>\n",
       "<style scoped>\n",
       "    .dataframe tbody tr th:only-of-type {\n",
       "        vertical-align: middle;\n",
       "    }\n",
       "\n",
       "    .dataframe tbody tr th {\n",
       "        vertical-align: top;\n",
       "    }\n",
       "\n",
       "    .dataframe thead th {\n",
       "        text-align: right;\n",
       "    }\n",
       "</style>\n",
       "<table border=\"1\" class=\"dataframe\">\n",
       "  <thead>\n",
       "    <tr style=\"text-align: right;\">\n",
       "      <th></th>\n",
       "      <th>technology</th>\n",
       "      <th>metric_type</th>\n",
       "      <th>unit</th>\n",
       "      <th>value</th>\n",
       "      <th>year</th>\n",
       "      <th>country_code</th>\n",
       "      <th>cost</th>\n",
       "      <th>index</th>\n",
       "    </tr>\n",
       "    <tr>\n",
       "      <th>index</th>\n",
       "      <th></th>\n",
       "      <th></th>\n",
       "      <th></th>\n",
       "      <th></th>\n",
       "      <th></th>\n",
       "      <th></th>\n",
       "      <th></th>\n",
       "      <th></th>\n",
       "    </tr>\n",
       "  </thead>\n",
       "  <tbody>\n",
       "    <tr>\n",
       "      <th>32984</th>\n",
       "      <td>Avg BF-BOF</td>\n",
       "      <td>Purchased energy</td>\n",
       "      <td>GJ/t steel</td>\n",
       "      <td>0.197855</td>\n",
       "      <td>2020</td>\n",
       "      <td>DZA</td>\n",
       "      <td>NaN</td>\n",
       "      <td>NaN</td>\n",
       "    </tr>\n",
       "    <tr>\n",
       "      <th>32985</th>\n",
       "      <td>Avg BF-BOF</td>\n",
       "      <td>Purchased energy</td>\n",
       "      <td>GJ/t steel</td>\n",
       "      <td>0.197855</td>\n",
       "      <td>2020</td>\n",
       "      <td>AGO</td>\n",
       "      <td>NaN</td>\n",
       "      <td>NaN</td>\n",
       "    </tr>\n",
       "    <tr>\n",
       "      <th>32986</th>\n",
       "      <td>Avg BF-BOF</td>\n",
       "      <td>Purchased energy</td>\n",
       "      <td>GJ/t steel</td>\n",
       "      <td>0.197855</td>\n",
       "      <td>2020</td>\n",
       "      <td>EGY</td>\n",
       "      <td>NaN</td>\n",
       "      <td>NaN</td>\n",
       "    </tr>\n",
       "    <tr>\n",
       "      <th>32987</th>\n",
       "      <td>Avg BF-BOF</td>\n",
       "      <td>Purchased energy</td>\n",
       "      <td>GJ/t steel</td>\n",
       "      <td>0.197855</td>\n",
       "      <td>2020</td>\n",
       "      <td>LBY</td>\n",
       "      <td>NaN</td>\n",
       "      <td>NaN</td>\n",
       "    </tr>\n",
       "    <tr>\n",
       "      <th>32988</th>\n",
       "      <td>Avg BF-BOF</td>\n",
       "      <td>Purchased energy</td>\n",
       "      <td>GJ/t steel</td>\n",
       "      <td>0.197855</td>\n",
       "      <td>2020</td>\n",
       "      <td>MAR</td>\n",
       "      <td>NaN</td>\n",
       "      <td>NaN</td>\n",
       "    </tr>\n",
       "    <tr>\n",
       "      <th>...</th>\n",
       "      <td>...</td>\n",
       "      <td>...</td>\n",
       "      <td>...</td>\n",
       "      <td>...</td>\n",
       "      <td>...</td>\n",
       "      <td>...</td>\n",
       "      <td>...</td>\n",
       "      <td>...</td>\n",
       "    </tr>\n",
       "    <tr>\n",
       "      <th>1173283</th>\n",
       "      <td>BAT BF-BOF+BECCUS</td>\n",
       "      <td>Purchased energy</td>\n",
       "      <td>GJ/t steel</td>\n",
       "      <td>7.213562</td>\n",
       "      <td>2050</td>\n",
       "      <td>SAU</td>\n",
       "      <td>NaN</td>\n",
       "      <td>NaN</td>\n",
       "    </tr>\n",
       "    <tr>\n",
       "      <th>1173284</th>\n",
       "      <td>BAT BF-BOF+BECCUS</td>\n",
       "      <td>Purchased energy</td>\n",
       "      <td>GJ/t steel</td>\n",
       "      <td>7.213562</td>\n",
       "      <td>2050</td>\n",
       "      <td>SYR</td>\n",
       "      <td>NaN</td>\n",
       "      <td>NaN</td>\n",
       "    </tr>\n",
       "    <tr>\n",
       "      <th>1173285</th>\n",
       "      <td>BAT BF-BOF+BECCUS</td>\n",
       "      <td>Purchased energy</td>\n",
       "      <td>GJ/t steel</td>\n",
       "      <td>7.213562</td>\n",
       "      <td>2050</td>\n",
       "      <td>CAN</td>\n",
       "      <td>NaN</td>\n",
       "      <td>NaN</td>\n",
       "    </tr>\n",
       "    <tr>\n",
       "      <th>1173286</th>\n",
       "      <td>BAT BF-BOF+BECCUS</td>\n",
       "      <td>Purchased energy</td>\n",
       "      <td>GJ/t steel</td>\n",
       "      <td>7.213562</td>\n",
       "      <td>2050</td>\n",
       "      <td>MEX</td>\n",
       "      <td>NaN</td>\n",
       "      <td>NaN</td>\n",
       "    </tr>\n",
       "    <tr>\n",
       "      <th>1173287</th>\n",
       "      <td>BAT BF-BOF+BECCUS</td>\n",
       "      <td>Purchased energy</td>\n",
       "      <td>GJ/t steel</td>\n",
       "      <td>7.213562</td>\n",
       "      <td>2050</td>\n",
       "      <td>USA</td>\n",
       "      <td>NaN</td>\n",
       "      <td>NaN</td>\n",
       "    </tr>\n",
       "  </tbody>\n",
       "</table>\n",
       "<p>51832 rows × 8 columns</p>\n",
       "</div>"
      ],
      "text/plain": [
       "                technology       metric_type        unit     value  year  \\\n",
       "index                                                                      \n",
       "32984           Avg BF-BOF  Purchased energy  GJ/t steel  0.197855  2020   \n",
       "32985           Avg BF-BOF  Purchased energy  GJ/t steel  0.197855  2020   \n",
       "32986           Avg BF-BOF  Purchased energy  GJ/t steel  0.197855  2020   \n",
       "32987           Avg BF-BOF  Purchased energy  GJ/t steel  0.197855  2020   \n",
       "32988           Avg BF-BOF  Purchased energy  GJ/t steel  0.197855  2020   \n",
       "...                    ...               ...         ...       ...   ...   \n",
       "1173283  BAT BF-BOF+BECCUS  Purchased energy  GJ/t steel  7.213562  2050   \n",
       "1173284  BAT BF-BOF+BECCUS  Purchased energy  GJ/t steel  7.213562  2050   \n",
       "1173285  BAT BF-BOF+BECCUS  Purchased energy  GJ/t steel  7.213562  2050   \n",
       "1173286  BAT BF-BOF+BECCUS  Purchased energy  GJ/t steel  7.213562  2050   \n",
       "1173287  BAT BF-BOF+BECCUS  Purchased energy  GJ/t steel  7.213562  2050   \n",
       "\n",
       "        country_code  cost  index  \n",
       "index                              \n",
       "32984            DZA   NaN    NaN  \n",
       "32985            AGO   NaN    NaN  \n",
       "32986            EGY   NaN    NaN  \n",
       "32987            LBY   NaN    NaN  \n",
       "32988            MAR   NaN    NaN  \n",
       "...              ...   ...    ...  \n",
       "1173283          SAU   NaN    NaN  \n",
       "1173284          SYR   NaN    NaN  \n",
       "1173285          CAN   NaN    NaN  \n",
       "1173286          MEX   NaN    NaN  \n",
       "1173287          USA   NaN    NaN  \n",
       "\n",
       "[51832 rows x 8 columns]"
      ]
     },
     "execution_count": 149,
     "metadata": {},
     "output_type": "execute_result"
    }
   ],
   "source": [
    "df.loc[\"Electricity\"]"
   ]
  },
  {
   "cell_type": "code",
   "execution_count": 154,
   "id": "23ae6fd2-4651-4694-89a0-a42496e79150",
   "metadata": {
    "pycharm": {
     "name": "#%%\n"
    }
   },
   "outputs": [],
   "source": [
    "df = pd.DataFrame(\n",
    "    [[1, 2], [4, 5], [7, 8]],\n",
    "    index=[\"cobra\", \"viper\", \"sidewinder\"],\n",
    "    columns=[\"max_speed\", \"shield\"],\n",
    ")"
   ]
  },
  {
   "cell_type": "code",
   "execution_count": 155,
   "id": "c0928008-f034-4d8c-acf2-98e20520f78c",
   "metadata": {
    "pycharm": {
     "name": "#%%\n"
    }
   },
   "outputs": [
    {
     "data": {
      "text/html": [
       "<div>\n",
       "<style scoped>\n",
       "    .dataframe tbody tr th:only-of-type {\n",
       "        vertical-align: middle;\n",
       "    }\n",
       "\n",
       "    .dataframe tbody tr th {\n",
       "        vertical-align: top;\n",
       "    }\n",
       "\n",
       "    .dataframe thead th {\n",
       "        text-align: right;\n",
       "    }\n",
       "</style>\n",
       "<table border=\"1\" class=\"dataframe\">\n",
       "  <thead>\n",
       "    <tr style=\"text-align: right;\">\n",
       "      <th></th>\n",
       "      <th>max_speed</th>\n",
       "      <th>shield</th>\n",
       "    </tr>\n",
       "  </thead>\n",
       "  <tbody>\n",
       "    <tr>\n",
       "      <th>cobra</th>\n",
       "      <td>1</td>\n",
       "      <td>2</td>\n",
       "    </tr>\n",
       "    <tr>\n",
       "      <th>viper</th>\n",
       "      <td>4</td>\n",
       "      <td>5</td>\n",
       "    </tr>\n",
       "    <tr>\n",
       "      <th>sidewinder</th>\n",
       "      <td>7</td>\n",
       "      <td>8</td>\n",
       "    </tr>\n",
       "  </tbody>\n",
       "</table>\n",
       "</div>"
      ],
      "text/plain": [
       "            max_speed  shield\n",
       "cobra               1       2\n",
       "viper               4       5\n",
       "sidewinder          7       8"
      ]
     },
     "execution_count": 155,
     "metadata": {},
     "output_type": "execute_result"
    }
   ],
   "source": [
    "df"
   ]
  },
  {
   "cell_type": "code",
   "execution_count": 156,
   "id": "4f695d5e-ad41-4b01-8c1e-44423b4ce5cb",
   "metadata": {
    "pycharm": {
     "name": "#%%\n"
    }
   },
   "outputs": [
    {
     "data": {
      "text/plain": [
       "max_speed    4\n",
       "shield       5\n",
       "Name: viper, dtype: int64"
      ]
     },
     "execution_count": 156,
     "metadata": {},
     "output_type": "execute_result"
    }
   ],
   "source": [
    "df.loc[\"viper\"]"
   ]
  },
  {
   "cell_type": "code",
   "execution_count": 157,
   "id": "f045496d-6e19-4ee5-b4c5-f7415a5dd374",
   "metadata": {
    "pycharm": {
     "name": "#%%\n"
    }
   },
   "outputs": [
    {
     "data": {
      "text/html": [
       "<div>\n",
       "<style scoped>\n",
       "    .dataframe tbody tr th:only-of-type {\n",
       "        vertical-align: middle;\n",
       "    }\n",
       "\n",
       "    .dataframe tbody tr th {\n",
       "        vertical-align: top;\n",
       "    }\n",
       "\n",
       "    .dataframe thead th {\n",
       "        text-align: right;\n",
       "    }\n",
       "</style>\n",
       "<table border=\"1\" class=\"dataframe\">\n",
       "  <thead>\n",
       "    <tr style=\"text-align: right;\">\n",
       "      <th></th>\n",
       "      <th>max_speed</th>\n",
       "      <th>shield</th>\n",
       "    </tr>\n",
       "  </thead>\n",
       "  <tbody>\n",
       "    <tr>\n",
       "      <th>viper</th>\n",
       "      <td>4</td>\n",
       "      <td>5</td>\n",
       "    </tr>\n",
       "    <tr>\n",
       "      <th>sidewinder</th>\n",
       "      <td>7</td>\n",
       "      <td>8</td>\n",
       "    </tr>\n",
       "  </tbody>\n",
       "</table>\n",
       "</div>"
      ],
      "text/plain": [
       "            max_speed  shield\n",
       "viper               4       5\n",
       "sidewinder          7       8"
      ]
     },
     "execution_count": 157,
     "metadata": {},
     "output_type": "execute_result"
    }
   ],
   "source": [
    "df.loc[[\"viper\", \"sidewinder\"]]"
   ]
  },
  {
   "cell_type": "code",
   "execution_count": 158,
   "id": "910eb764-8f7f-471c-a1b7-b2aa4bcc1e86",
   "metadata": {
    "pycharm": {
     "name": "#%%\n"
    }
   },
   "outputs": [
    {
     "data": {
      "text/plain": [
       "2"
      ]
     },
     "execution_count": 158,
     "metadata": {},
     "output_type": "execute_result"
    }
   ],
   "source": [
    "df.loc[\"cobra\", \"shield\"]"
   ]
  },
  {
   "cell_type": "code",
   "execution_count": 159,
   "id": "ea4ef3b4-9050-42d4-aee6-feb130abf134",
   "metadata": {
    "pycharm": {
     "name": "#%%\n"
    }
   },
   "outputs": [],
   "source": [
    "df.loc[[\"viper\", \"sidewinder\"], [\"shield\"]] = 50"
   ]
  },
  {
   "cell_type": "code",
   "execution_count": 160,
   "id": "6b2a157c-3c96-4021-b70f-ca146bcfb8ad",
   "metadata": {
    "pycharm": {
     "name": "#%%\n"
    }
   },
   "outputs": [
    {
     "data": {
      "text/html": [
       "<div>\n",
       "<style scoped>\n",
       "    .dataframe tbody tr th:only-of-type {\n",
       "        vertical-align: middle;\n",
       "    }\n",
       "\n",
       "    .dataframe tbody tr th {\n",
       "        vertical-align: top;\n",
       "    }\n",
       "\n",
       "    .dataframe thead th {\n",
       "        text-align: right;\n",
       "    }\n",
       "</style>\n",
       "<table border=\"1\" class=\"dataframe\">\n",
       "  <thead>\n",
       "    <tr style=\"text-align: right;\">\n",
       "      <th></th>\n",
       "      <th>max_speed</th>\n",
       "      <th>shield</th>\n",
       "    </tr>\n",
       "  </thead>\n",
       "  <tbody>\n",
       "    <tr>\n",
       "      <th>cobra</th>\n",
       "      <td>1</td>\n",
       "      <td>2</td>\n",
       "    </tr>\n",
       "    <tr>\n",
       "      <th>viper</th>\n",
       "      <td>4</td>\n",
       "      <td>50</td>\n",
       "    </tr>\n",
       "    <tr>\n",
       "      <th>sidewinder</th>\n",
       "      <td>7</td>\n",
       "      <td>50</td>\n",
       "    </tr>\n",
       "  </tbody>\n",
       "</table>\n",
       "</div>"
      ],
      "text/plain": [
       "            max_speed  shield\n",
       "cobra               1       2\n",
       "viper               4      50\n",
       "sidewinder          7      50"
      ]
     },
     "execution_count": 160,
     "metadata": {},
     "output_type": "execute_result"
    }
   ],
   "source": [
    "df"
   ]
  },
  {
   "cell_type": "code",
   "execution_count": null,
   "id": "9c81af9e-c600-462e-9040-a98d0d229b4d",
   "metadata": {
    "pycharm": {
     "name": "#%%\n"
    }
   },
   "outputs": [],
   "source": []
  }
 ],
 "metadata": {
  "kernelspec": {
   "display_name": "Python 3 (ipykernel)",
   "language": "python",
   "name": "python3"
  },
  "language_info": {
   "codemirror_mode": {
    "name": "ipython",
    "version": 3
   },
   "file_extension": ".py",
   "mimetype": "text/x-python",
   "name": "python",
   "nbconvert_exporter": "python",
   "pygments_lexer": "ipython3",
   "version": "3.10.4"
  }
 },
 "nbformat": 4,
 "nbformat_minor": 5
}