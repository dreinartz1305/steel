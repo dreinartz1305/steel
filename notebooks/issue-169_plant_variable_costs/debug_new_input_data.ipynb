{
 "cells": [
  {
   "cell_type": "code",
   "execution_count": 1,
   "id": "1b5ca316-728e-4dcc-aefa-de339d09b9bf",
   "metadata": {},
   "outputs": [],
   "source": [
    "%load_ext lab_black"
   ]
  },
  {
   "cell_type": "code",
   "execution_count": 2,
   "id": "4af4ff69-e703-403e-8463-89bb17f642fe",
   "metadata": {},
   "outputs": [],
   "source": [
    "import pandas as pd"
   ]
  },
  {
   "cell_type": "code",
   "execution_count": 3,
   "id": "b38d49ce-41e8-4d4a-95db-bbfb2239b2fc",
   "metadata": {},
   "outputs": [],
   "source": [
    "from mppsteel.data_preprocessing.variable_plant_cost_archetypes import (\n",
    "    PlantVariableCostsInput,\n",
    ")"
   ]
  },
  {
   "cell_type": "code",
   "execution_count": 15,
   "id": "b74d3ce2-0f9f-423a-8d2b-e592c97def92",
   "metadata": {},
   "outputs": [],
   "source": [
    "pvci = PlantVariableCostsInput()"
   ]
  },
  {
   "cell_type": "code",
   "execution_count": 16,
   "id": "c49c5ac9-4844-4247-8045-2eca723a20f5",
   "metadata": {},
   "outputs": [
    {
     "data": {
      "text/html": [
       "<div>\n",
       "<style scoped>\n",
       "    .dataframe tbody tr th:only-of-type {\n",
       "        vertical-align: middle;\n",
       "    }\n",
       "\n",
       "    .dataframe tbody tr th {\n",
       "        vertical-align: top;\n",
       "    }\n",
       "\n",
       "    .dataframe thead th {\n",
       "        text-align: right;\n",
       "    }\n",
       "</style>\n",
       "<table border=\"1\" class=\"dataframe\">\n",
       "  <thead>\n",
       "    <tr style=\"text-align: right;\">\n",
       "      <th></th>\n",
       "      <th>technology</th>\n",
       "      <th>material_category</th>\n",
       "      <th>metric_type</th>\n",
       "      <th>unit</th>\n",
       "      <th>value</th>\n",
       "    </tr>\n",
       "  </thead>\n",
       "  <tbody>\n",
       "  </tbody>\n",
       "</table>\n",
       "</div>"
      ],
      "text/plain": [
       "Empty DataFrame\n",
       "Columns: [technology, material_category, metric_type, unit, value]\n",
       "Index: []"
      ]
     },
     "execution_count": 16,
     "metadata": {},
     "output_type": "execute_result"
    }
   ],
   "source": [
    "pvci.business_cases"
   ]
  },
  {
   "cell_type": "code",
   "execution_count": 14,
   "id": "6a7253b7-53d5-4192-9c0b-546167afb004",
   "metadata": {},
   "outputs": [],
   "source": [
    "# pvci.business_cases.iloc[-1] = [\"Avg BF-BOF\", \"Electricity\", \"Purchased energy\", \"GJ/t steel\", 1.0]"
   ]
  },
  {
   "cell_type": "code",
   "execution_count": 12,
   "id": "ebaa4f9c-9cb5-46dd-94da-beb4a7d8c2c3",
   "metadata": {},
   "outputs": [
    {
     "data": {
      "text/html": [
       "<div>\n",
       "<style scoped>\n",
       "    .dataframe tbody tr th:only-of-type {\n",
       "        vertical-align: middle;\n",
       "    }\n",
       "\n",
       "    .dataframe tbody tr th {\n",
       "        vertical-align: top;\n",
       "    }\n",
       "\n",
       "    .dataframe thead th {\n",
       "        text-align: right;\n",
       "    }\n",
       "</style>\n",
       "<table border=\"1\" class=\"dataframe\">\n",
       "  <thead>\n",
       "    <tr style=\"text-align: right;\">\n",
       "      <th></th>\n",
       "      <th>0</th>\n",
       "      <th>material_category</th>\n",
       "      <th>metric_type</th>\n",
       "      <th>technology</th>\n",
       "      <th>unit</th>\n",
       "      <th>value</th>\n",
       "    </tr>\n",
       "  </thead>\n",
       "  <tbody>\n",
       "    <tr>\n",
       "      <th>0</th>\n",
       "      <td>Avg BF-BOF</td>\n",
       "      <td>NaN</td>\n",
       "      <td>NaN</td>\n",
       "      <td>NaN</td>\n",
       "      <td>NaN</td>\n",
       "      <td>NaN</td>\n",
       "    </tr>\n",
       "    <tr>\n",
       "      <th>1</th>\n",
       "      <td>Electricity</td>\n",
       "      <td>NaN</td>\n",
       "      <td>NaN</td>\n",
       "      <td>NaN</td>\n",
       "      <td>NaN</td>\n",
       "      <td>NaN</td>\n",
       "    </tr>\n",
       "    <tr>\n",
       "      <th>2</th>\n",
       "      <td>Purchased energy</td>\n",
       "      <td>NaN</td>\n",
       "      <td>NaN</td>\n",
       "      <td>NaN</td>\n",
       "      <td>NaN</td>\n",
       "      <td>NaN</td>\n",
       "    </tr>\n",
       "    <tr>\n",
       "      <th>3</th>\n",
       "      <td>GJ/t steel</td>\n",
       "      <td>NaN</td>\n",
       "      <td>NaN</td>\n",
       "      <td>NaN</td>\n",
       "      <td>NaN</td>\n",
       "      <td>NaN</td>\n",
       "    </tr>\n",
       "    <tr>\n",
       "      <th>4</th>\n",
       "      <td>1.0</td>\n",
       "      <td>NaN</td>\n",
       "      <td>NaN</td>\n",
       "      <td>NaN</td>\n",
       "      <td>NaN</td>\n",
       "      <td>NaN</td>\n",
       "    </tr>\n",
       "  </tbody>\n",
       "</table>\n",
       "</div>"
      ],
      "text/plain": [
       "                  0 material_category metric_type technology unit value\n",
       "0        Avg BF-BOF               NaN         NaN        NaN  NaN   NaN\n",
       "1       Electricity               NaN         NaN        NaN  NaN   NaN\n",
       "2  Purchased energy               NaN         NaN        NaN  NaN   NaN\n",
       "3        GJ/t steel               NaN         NaN        NaN  NaN   NaN\n",
       "4               1.0               NaN         NaN        NaN  NaN   NaN"
      ]
     },
     "execution_count": 12,
     "metadata": {},
     "output_type": "execute_result"
    }
   ],
   "source": [
    "pvci.business_cases.append(\n",
    "    [\"Avg BF-BOF\", \"Electricity\", \"Purchased energy\", \"GJ/t steel\", 1.0]\n",
    ")"
   ]
  },
  {
   "cell_type": "code",
   "execution_count": 13,
   "id": "b782bd46-5f1f-4a5f-8abe-9716d2bb9970",
   "metadata": {},
   "outputs": [
    {
     "data": {
      "text/html": [
       "<div>\n",
       "<style scoped>\n",
       "    .dataframe tbody tr th:only-of-type {\n",
       "        vertical-align: middle;\n",
       "    }\n",
       "\n",
       "    .dataframe tbody tr th {\n",
       "        vertical-align: top;\n",
       "    }\n",
       "\n",
       "    .dataframe thead th {\n",
       "        text-align: right;\n",
       "    }\n",
       "</style>\n",
       "<table border=\"1\" class=\"dataframe\">\n",
       "  <thead>\n",
       "    <tr style=\"text-align: right;\">\n",
       "      <th></th>\n",
       "      <th>0</th>\n",
       "      <th>1</th>\n",
       "      <th>2</th>\n",
       "      <th>3</th>\n",
       "      <th>4</th>\n",
       "      <th>material_category</th>\n",
       "      <th>metric_type</th>\n",
       "      <th>technology</th>\n",
       "      <th>unit</th>\n",
       "      <th>value</th>\n",
       "    </tr>\n",
       "  </thead>\n",
       "  <tbody>\n",
       "    <tr>\n",
       "      <th>0</th>\n",
       "      <td>Avg BF-BOF</td>\n",
       "      <td>Electricity</td>\n",
       "      <td>Purchased energy</td>\n",
       "      <td>GJ/t steel</td>\n",
       "      <td>1.0</td>\n",
       "      <td>NaN</td>\n",
       "      <td>NaN</td>\n",
       "      <td>NaN</td>\n",
       "      <td>NaN</td>\n",
       "      <td>NaN</td>\n",
       "    </tr>\n",
       "  </tbody>\n",
       "</table>\n",
       "</div>"
      ],
      "text/plain": [
       "            0            1                 2           3    4  \\\n",
       "0  Avg BF-BOF  Electricity  Purchased energy  GJ/t steel  1.0   \n",
       "\n",
       "  material_category metric_type technology unit value  \n",
       "0               NaN         NaN        NaN  NaN   NaN  "
      ]
     },
     "execution_count": 13,
     "metadata": {},
     "output_type": "execute_result"
    }
   ],
   "source": [
    "pvci.business_cases.append(\n",
    "    [[\"Avg BF-BOF\", \"Electricity\", \"Purchased energy\", \"GJ/t steel\", 1.0]]\n",
    ")"
   ]
  },
  {
   "cell_type": "code",
   "execution_count": 20,
   "id": "ee450dd2-a1eb-468a-bd78-7137c41159e5",
   "metadata": {},
   "outputs": [],
   "source": [
    "row = {\n",
    "    \"technology\": \"Avg BF-BOF\",\n",
    "    \"material_category\": \"Electricity\",\n",
    "    \"metric_type\": \"Purchased energy\",\n",
    "    \"unit\": \"GJ/t steel\",\n",
    "    \"value\": 1.0,\n",
    "}\n",
    "pvci.business_cases = pvci.business_cases.append(row, ignore_index=True)"
   ]
  },
  {
   "cell_type": "code",
   "execution_count": 21,
   "id": "53d77941-1b77-40fd-88f0-625bda2087b2",
   "metadata": {},
   "outputs": [
    {
     "data": {
      "text/html": [
       "<div>\n",
       "<style scoped>\n",
       "    .dataframe tbody tr th:only-of-type {\n",
       "        vertical-align: middle;\n",
       "    }\n",
       "\n",
       "    .dataframe tbody tr th {\n",
       "        vertical-align: top;\n",
       "    }\n",
       "\n",
       "    .dataframe thead th {\n",
       "        text-align: right;\n",
       "    }\n",
       "</style>\n",
       "<table border=\"1\" class=\"dataframe\">\n",
       "  <thead>\n",
       "    <tr style=\"text-align: right;\">\n",
       "      <th></th>\n",
       "      <th>technology</th>\n",
       "      <th>material_category</th>\n",
       "      <th>metric_type</th>\n",
       "      <th>unit</th>\n",
       "      <th>value</th>\n",
       "    </tr>\n",
       "  </thead>\n",
       "  <tbody>\n",
       "    <tr>\n",
       "      <th>0</th>\n",
       "      <td>Avg BF-BOF</td>\n",
       "      <td>Electricity</td>\n",
       "      <td>Purchased energy</td>\n",
       "      <td>GJ/t steel</td>\n",
       "      <td>1.0</td>\n",
       "    </tr>\n",
       "  </tbody>\n",
       "</table>\n",
       "</div>"
      ],
      "text/plain": [
       "   technology material_category       metric_type        unit  value\n",
       "0  Avg BF-BOF       Electricity  Purchased energy  GJ/t steel    1.0"
      ]
     },
     "execution_count": 21,
     "metadata": {},
     "output_type": "execute_result"
    }
   ],
   "source": [
    "pvci.business_cases"
   ]
  },
  {
   "cell_type": "code",
   "execution_count": 25,
   "id": "79ba36bc-7a67-49b8-95d6-0e25bcc40085",
   "metadata": {},
   "outputs": [
    {
     "data": {
      "text/html": [
       "<div>\n",
       "<style scoped>\n",
       "    .dataframe tbody tr th:only-of-type {\n",
       "        vertical-align: middle;\n",
       "    }\n",
       "\n",
       "    .dataframe tbody tr th {\n",
       "        vertical-align: top;\n",
       "    }\n",
       "\n",
       "    .dataframe thead th {\n",
       "        text-align: right;\n",
       "    }\n",
       "</style>\n",
       "<table border=\"1\" class=\"dataframe\">\n",
       "  <thead>\n",
       "    <tr style=\"text-align: right;\">\n",
       "      <th></th>\n",
       "      <th>technology</th>\n",
       "      <th>material_category</th>\n",
       "      <th>metric_type</th>\n",
       "      <th>unit</th>\n",
       "      <th>value</th>\n",
       "    </tr>\n",
       "  </thead>\n",
       "  <tbody>\n",
       "    <tr>\n",
       "      <th>0</th>\n",
       "      <td>Avg BF-BOF</td>\n",
       "      <td>Electricity</td>\n",
       "      <td>Purchased energy</td>\n",
       "      <td>GJ/t steel</td>\n",
       "      <td>1.0</td>\n",
       "    </tr>\n",
       "  </tbody>\n",
       "</table>\n",
       "</div>"
      ],
      "text/plain": [
       "   technology material_category       metric_type        unit  value\n",
       "0  Avg BF-BOF       Electricity  Purchased energy  GJ/t steel    1.0"
      ]
     },
     "execution_count": 25,
     "metadata": {},
     "output_type": "execute_result"
    }
   ],
   "source": [
    "pd.DataFrame([row])"
   ]
  },
  {
   "cell_type": "markdown",
   "id": "5a62a952-5c0a-4d1b-8383-c2785d855896",
   "metadata": {},
   "source": [
    "# From Filesystem"
   ]
  },
  {
   "cell_type": "code",
   "execution_count": 4,
   "id": "5d0e23e7-93af-4a53-a3df-16da43c10af1",
   "metadata": {},
   "outputs": [],
   "source": [
    "from pathlib import Path\n",
    "\n",
    "from mppsteel.config.model_scenarios import DEFAULT_SCENARIO\n",
    "from mppsteel.config.model_config import USD_TO_EUR_CONVERSION_DEFAULT"
   ]
  },
  {
   "cell_type": "code",
   "execution_count": 5,
   "id": "535022af-1e77-4b47-8453-a1f8159ae583",
   "metadata": {},
   "outputs": [],
   "source": [
    "scenario_dict = DEFAULT_SCENARIO.copy()\n",
    "scenario_dict[\"usd_to_eur\"] = USD_TO_EUR_CONVERSION_DEFAULT\n",
    "scenario_dict[\"eur_to_usd\"] = 1.0 / scenario_dict[\"usd_to_eur\"]\n",
    "project_dir = Path.cwd().parent.parent"
   ]
  },
  {
   "cell_type": "code",
   "execution_count": 6,
   "id": "359a2c74-1c57-4f3d-b841-e1bbb51a46c5",
   "metadata": {},
   "outputs": [],
   "source": [
    "pvci = PlantVariableCostsInput.from_filesystem(scenario_dict)"
   ]
  },
  {
   "cell_type": "markdown",
   "id": "3793bb62-db9b-44a8-b812-45ab55763d29",
   "metadata": {},
   "source": [
    "# Calculate Cost"
   ]
  },
  {
   "cell_type": "code",
   "execution_count": 7,
   "id": "88c69475-611a-4833-a74b-18f02ad49da1",
   "metadata": {},
   "outputs": [],
   "source": [
    "from mppsteel.data_preprocessing.variable_plant_cost_archetypes import (\n",
    "    plant_variable_costs_vectorized,\n",
    ")"
   ]
  },
  {
   "cell_type": "code",
   "execution_count": 8,
   "id": "a5c3b2e9-3c7e-4779-bb00-df46520a29b8",
   "metadata": {},
   "outputs": [
    {
     "data": {
      "text/plain": [
       "{'Iron ore': 'Feedstock',\n",
       " 'Scrap': 'Feedstock',\n",
       " 'DRI': 'Feedstock',\n",
       " 'Met coal': 'Fossil Fuels',\n",
       " 'Thermal coal': 'Fossil Fuels',\n",
       " 'Coke': 'Fossil Fuels',\n",
       " 'COG': 'Fossil Fuels',\n",
       " 'BF gas': 'Fossil Fuels',\n",
       " 'BOF gas': 'Fossil Fuels',\n",
       " 'Natural gas': 'Fossil Fuels',\n",
       " 'Plastic waste': 'Fossil Fuels',\n",
       " 'Biomass': 'Bio Fuels',\n",
       " 'Biomethane': 'Bio Fuels',\n",
       " 'Hydrogen': 'Hydrogen',\n",
       " 'Electricity': 'Electricity',\n",
       " 'Steam': 'Other Opex',\n",
       " 'BF slag': 'Other Opex',\n",
       " 'Other slag': 'Other Opex',\n",
       " 'Captured CO2': 'CCS',\n",
       " 'Used CO2': 'CCS',\n",
       " 'Process emissions': 'Emissivity',\n",
       " 'Emissivity wout CCS': 'Emissivity',\n",
       " 'Emissivity': 'Carbon Cost'}"
      ]
     },
     "execution_count": 8,
     "metadata": {},
     "output_type": "execute_result"
    }
   ],
   "source": [
    "pvci.resource_category_mapper"
   ]
  },
  {
   "cell_type": "code",
   "execution_count": 9,
   "id": "798534c2-0f84-4975-8547-c2484b7ed437",
   "metadata": {},
   "outputs": [
    {
     "name": "stdout",
     "output_type": "stream",
     "text": [
      "CPU times: user 986 ms, sys: 178 ms, total: 1.16 s\n",
      "Wall time: 1.16 s\n"
     ]
    }
   ],
   "source": [
    "%%time\n",
    "df = plant_variable_costs_vectorized(pvci)"
   ]
  },
  {
   "cell_type": "code",
   "execution_count": 10,
   "id": "d3d813d7-45fa-482f-85c8-f230e6b061cc",
   "metadata": {},
   "outputs": [
    {
     "data": {
      "text/html": [
       "<div>\n",
       "<style scoped>\n",
       "    .dataframe tbody tr th:only-of-type {\n",
       "        vertical-align: middle;\n",
       "    }\n",
       "\n",
       "    .dataframe tbody tr th {\n",
       "        vertical-align: top;\n",
       "    }\n",
       "\n",
       "    .dataframe thead th {\n",
       "        text-align: right;\n",
       "    }\n",
       "</style>\n",
       "<table border=\"1\" class=\"dataframe\">\n",
       "  <thead>\n",
       "    <tr style=\"text-align: right;\">\n",
       "      <th></th>\n",
       "      <th>technology</th>\n",
       "      <th>material_category</th>\n",
       "      <th>metric_type</th>\n",
       "      <th>unit</th>\n",
       "      <th>value</th>\n",
       "      <th>year</th>\n",
       "      <th>country_code</th>\n",
       "      <th>cost</th>\n",
       "      <th>price</th>\n",
       "    </tr>\n",
       "  </thead>\n",
       "  <tbody>\n",
       "    <tr>\n",
       "      <th>0</th>\n",
       "      <td>Avg BF-BOF</td>\n",
       "      <td>Iron ore</td>\n",
       "      <td>Feedstock</td>\n",
       "      <td>t/t steel</td>\n",
       "      <td>1.367188</td>\n",
       "      <td>2020</td>\n",
       "      <td>DZA</td>\n",
       "      <td>133.615284</td>\n",
       "      <td>97.73</td>\n",
       "    </tr>\n",
       "    <tr>\n",
       "      <th>1</th>\n",
       "      <td>Avg BF-BOF</td>\n",
       "      <td>Iron ore</td>\n",
       "      <td>Feedstock</td>\n",
       "      <td>t/t steel</td>\n",
       "      <td>1.367188</td>\n",
       "      <td>2020</td>\n",
       "      <td>AGO</td>\n",
       "      <td>133.615284</td>\n",
       "      <td>97.73</td>\n",
       "    </tr>\n",
       "    <tr>\n",
       "      <th>2</th>\n",
       "      <td>Avg BF-BOF</td>\n",
       "      <td>Iron ore</td>\n",
       "      <td>Feedstock</td>\n",
       "      <td>t/t steel</td>\n",
       "      <td>1.367188</td>\n",
       "      <td>2020</td>\n",
       "      <td>EGY</td>\n",
       "      <td>133.615284</td>\n",
       "      <td>97.73</td>\n",
       "    </tr>\n",
       "    <tr>\n",
       "      <th>3</th>\n",
       "      <td>Avg BF-BOF</td>\n",
       "      <td>Iron ore</td>\n",
       "      <td>Feedstock</td>\n",
       "      <td>t/t steel</td>\n",
       "      <td>1.367188</td>\n",
       "      <td>2020</td>\n",
       "      <td>LBY</td>\n",
       "      <td>133.615284</td>\n",
       "      <td>97.73</td>\n",
       "    </tr>\n",
       "    <tr>\n",
       "      <th>4</th>\n",
       "      <td>Avg BF-BOF</td>\n",
       "      <td>Iron ore</td>\n",
       "      <td>Feedstock</td>\n",
       "      <td>t/t steel</td>\n",
       "      <td>1.367188</td>\n",
       "      <td>2020</td>\n",
       "      <td>MAR</td>\n",
       "      <td>133.615284</td>\n",
       "      <td>97.73</td>\n",
       "    </tr>\n",
       "    <tr>\n",
       "      <th>...</th>\n",
       "      <td>...</td>\n",
       "      <td>...</td>\n",
       "      <td>...</td>\n",
       "      <td>...</td>\n",
       "      <td>...</td>\n",
       "      <td>...</td>\n",
       "      <td>...</td>\n",
       "      <td>...</td>\n",
       "      <td>...</td>\n",
       "    </tr>\n",
       "    <tr>\n",
       "      <th>1192131</th>\n",
       "      <td>BAT BF-BOF+BECCUS</td>\n",
       "      <td>Emissivity</td>\n",
       "      <td>Other</td>\n",
       "      <td>tCO2/t steel</td>\n",
       "      <td>-0.404088</td>\n",
       "      <td>2050</td>\n",
       "      <td>SAU</td>\n",
       "      <td>0.000000</td>\n",
       "      <td>NaN</td>\n",
       "    </tr>\n",
       "    <tr>\n",
       "      <th>1192132</th>\n",
       "      <td>BAT BF-BOF+BECCUS</td>\n",
       "      <td>Emissivity</td>\n",
       "      <td>Other</td>\n",
       "      <td>tCO2/t steel</td>\n",
       "      <td>-0.404088</td>\n",
       "      <td>2050</td>\n",
       "      <td>SYR</td>\n",
       "      <td>0.000000</td>\n",
       "      <td>NaN</td>\n",
       "    </tr>\n",
       "    <tr>\n",
       "      <th>1192133</th>\n",
       "      <td>BAT BF-BOF+BECCUS</td>\n",
       "      <td>Emissivity</td>\n",
       "      <td>Other</td>\n",
       "      <td>tCO2/t steel</td>\n",
       "      <td>-0.404088</td>\n",
       "      <td>2050</td>\n",
       "      <td>CAN</td>\n",
       "      <td>0.000000</td>\n",
       "      <td>NaN</td>\n",
       "    </tr>\n",
       "    <tr>\n",
       "      <th>1192134</th>\n",
       "      <td>BAT BF-BOF+BECCUS</td>\n",
       "      <td>Emissivity</td>\n",
       "      <td>Other</td>\n",
       "      <td>tCO2/t steel</td>\n",
       "      <td>-0.404088</td>\n",
       "      <td>2050</td>\n",
       "      <td>MEX</td>\n",
       "      <td>0.000000</td>\n",
       "      <td>NaN</td>\n",
       "    </tr>\n",
       "    <tr>\n",
       "      <th>1192135</th>\n",
       "      <td>BAT BF-BOF+BECCUS</td>\n",
       "      <td>Emissivity</td>\n",
       "      <td>Other</td>\n",
       "      <td>tCO2/t steel</td>\n",
       "      <td>-0.404088</td>\n",
       "      <td>2050</td>\n",
       "      <td>USA</td>\n",
       "      <td>0.000000</td>\n",
       "      <td>NaN</td>\n",
       "    </tr>\n",
       "  </tbody>\n",
       "</table>\n",
       "<p>1192136 rows × 9 columns</p>\n",
       "</div>"
      ],
      "text/plain": [
       "                technology material_category metric_type          unit  \\\n",
       "0               Avg BF-BOF          Iron ore   Feedstock     t/t steel   \n",
       "1               Avg BF-BOF          Iron ore   Feedstock     t/t steel   \n",
       "2               Avg BF-BOF          Iron ore   Feedstock     t/t steel   \n",
       "3               Avg BF-BOF          Iron ore   Feedstock     t/t steel   \n",
       "4               Avg BF-BOF          Iron ore   Feedstock     t/t steel   \n",
       "...                    ...               ...         ...           ...   \n",
       "1192131  BAT BF-BOF+BECCUS        Emissivity       Other  tCO2/t steel   \n",
       "1192132  BAT BF-BOF+BECCUS        Emissivity       Other  tCO2/t steel   \n",
       "1192133  BAT BF-BOF+BECCUS        Emissivity       Other  tCO2/t steel   \n",
       "1192134  BAT BF-BOF+BECCUS        Emissivity       Other  tCO2/t steel   \n",
       "1192135  BAT BF-BOF+BECCUS        Emissivity       Other  tCO2/t steel   \n",
       "\n",
       "            value  year country_code        cost  price  \n",
       "0        1.367188  2020          DZA  133.615284  97.73  \n",
       "1        1.367188  2020          AGO  133.615284  97.73  \n",
       "2        1.367188  2020          EGY  133.615284  97.73  \n",
       "3        1.367188  2020          LBY  133.615284  97.73  \n",
       "4        1.367188  2020          MAR  133.615284  97.73  \n",
       "...           ...   ...          ...         ...    ...  \n",
       "1192131 -0.404088  2050          SAU    0.000000    NaN  \n",
       "1192132 -0.404088  2050          SYR    0.000000    NaN  \n",
       "1192133 -0.404088  2050          CAN    0.000000    NaN  \n",
       "1192134 -0.404088  2050          MEX    0.000000    NaN  \n",
       "1192135 -0.404088  2050          USA    0.000000    NaN  \n",
       "\n",
       "[1192136 rows x 9 columns]"
      ]
     },
     "execution_count": 10,
     "metadata": {},
     "output_type": "execute_result"
    }
   ],
   "source": [
    "df"
   ]
  },
  {
   "cell_type": "code",
   "execution_count": null,
   "id": "1d0edc96-a44b-45d4-a6a4-a2af4adacbd3",
   "metadata": {},
   "outputs": [],
   "source": []
  }
 ],
 "metadata": {
  "kernelspec": {
   "display_name": "Python 3 (ipykernel)",
   "language": "python",
   "name": "python3"
  },
  "language_info": {
   "codemirror_mode": {
    "name": "ipython",
    "version": 3
   },
   "file_extension": ".py",
   "mimetype": "text/x-python",
   "name": "python",
   "nbconvert_exporter": "python",
   "pygments_lexer": "ipython3",
   "version": "3.10.4"
  }
 },
 "nbformat": 4,
 "nbformat_minor": 5
}
