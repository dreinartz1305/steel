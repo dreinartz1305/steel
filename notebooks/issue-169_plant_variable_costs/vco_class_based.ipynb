{
 "cells": [
  {
   "cell_type": "code",
   "execution_count": 1,
   "id": "bd1f8e4c-8be5-40c0-a7d1-7f2c1f06b8b5",
   "metadata": {},
   "outputs": [],
   "source": [
    "%load_ext lab_black"
   ]
  },
  {
   "cell_type": "code",
   "execution_count": 2,
   "id": "53f2e0e7-1865-4b98-9232-c44b0a500e70",
   "metadata": {},
   "outputs": [],
   "source": [
    "import numpy as np\n",
    "import pandas as pd"
   ]
  },
  {
   "cell_type": "code",
   "execution_count": 3,
   "id": "c2b10d8d-7944-42a2-9f0a-f5c0fd08a068",
   "metadata": {},
   "outputs": [],
   "source": [
    "import os\n",
    "import json\n",
    "import itertools\n",
    "\n",
    "from pathlib import Path"
   ]
  },
  {
   "cell_type": "code",
   "execution_count": 4,
   "id": "3681b26d-ec98-4520-8a0e-52676d2a544b",
   "metadata": {},
   "outputs": [],
   "source": [
    "from mppsteel.config.model_scenarios import DEFAULT_SCENARIO\n",
    "from mppsteel.config.model_config import USD_TO_EUR_CONVERSION_DEFAULT\n",
    "\n",
    "from mppsteel.config.reference_lists import RESOURCE_CATEGORY_MAPPER\n",
    "\n",
    "from mppsteel.data_preprocessing.variable_plant_cost_archetypes import (\n",
    "    plant_variable_costs,\n",
    "    generate_feedstock_dict,\n",
    "    generate_variable_costs,\n",
    "    vc_mapper,\n",
    ")\n",
    "\n",
    "from mppsteel.utility.file_handling_utility import (\n",
    "    read_pickle_folder,\n",
    "    get_scenario_pkl_path,\n",
    ")\n",
    "\n",
    "from mppsteel.config.model_config import (\n",
    "    PKL_DATA_FORMATTED,\n",
    "    PKL_DATA_IMPORTS,\n",
    "    MODEL_YEAR_RANGE,\n",
    ")"
   ]
  },
  {
   "cell_type": "code",
   "execution_count": 5,
   "id": "18239b98-e1e7-4119-85bd-5b6309eab844",
   "metadata": {},
   "outputs": [],
   "source": [
    "scenario_dict = DEFAULT_SCENARIO.copy()\n",
    "scenario_dict[\"usd_to_eur\"] = USD_TO_EUR_CONVERSION_DEFAULT\n",
    "scenario_dict[\"eur_to_usd\"] = 1.0 / scenario_dict[\"usd_to_eur\"]"
   ]
  },
  {
   "cell_type": "code",
   "execution_count": 6,
   "id": "ed38f6d6-e813-4789-a1a4-562426a92a30",
   "metadata": {},
   "outputs": [
    {
     "name": "stderr",
     "output_type": "stream",
     "text": [
      "Variable Cost Loop: 100%|██████████████████████████████████████████████████████| 2356/2356 [02:38<00:00, 14.90it/s]\n"
     ]
    },
    {
     "name": "stdout",
     "output_type": "stream",
     "text": [
      "CPU times: user 2min 34s, sys: 4.85 s, total: 2min 39s\n",
      "Wall time: 2min 39s\n"
     ]
    }
   ],
   "source": [
    "%%time\n",
    "old_dir = Path.cwd()\n",
    "project_dir = Path.cwd().parent.parent\n",
    "os.chdir(project_dir)\n",
    "df_reference = plant_variable_costs(scenario_dict)\n",
    "os.chdir(old_dir)"
   ]
  },
  {
   "cell_type": "markdown",
   "id": "39b1eafc-c7ec-4b18-b2e5-860a46081a8c",
   "metadata": {},
   "source": [
    "# Consolidate Input Data"
   ]
  },
  {
   "cell_type": "code",
   "execution_count": 7,
   "id": "79414641-6eca-4050-877f-eadbff7b996e",
   "metadata": {},
   "outputs": [],
   "source": [
    "def convert_to_category(*args, columns=[\"material_category\", \"country_code\", \"year\"]):\n",
    "    for df in args:\n",
    "        for col in columns:\n",
    "            df[col] = df[col].astype(\"category\")\n",
    "    return args\n",
    "\n",
    "\n",
    "def merge_price_lookup_dfs(price_lookup_dfs):\n",
    "    df = pd.concat(price_lookup_dfs)\n",
    "    df = convert_to_category(df)[0]\n",
    "    return df\n",
    "\n",
    "\n",
    "class ModelInput:\n",
    "    def __init__(\n",
    "        self,\n",
    "        product_range_year_country,\n",
    "        resource_category_mapper,\n",
    "        business_cases,\n",
    "        power_grid_prices_ref,\n",
    "        h2_prices_ref,\n",
    "        bio_model_prices_ref,\n",
    "        year_range,\n",
    "        ccs_model_storage_ref,\n",
    "        ccs_model_transport_ref,\n",
    "        steel_plant_region_ng_dict,\n",
    "        static_energy_prices,\n",
    "        feedstock_dict,\n",
    "        country_codes,\n",
    "    ):\n",
    "        self.product_range_year_country = product_range_year_country\n",
    "        self.resource_category_mapper = resource_category_mapper\n",
    "        self.business_cases = business_cases\n",
    "        self.power_grid_prices_ref = power_grid_prices_ref\n",
    "        self.h2_prices_ref = h2_prices_ref\n",
    "        self.bio_model_prices_ref = bio_model_prices_ref\n",
    "        self.year_range = year_range\n",
    "        self.ccs_model_storage_ref = ccs_model_storage_ref\n",
    "        self.ccs_model_transport_ref = ccs_model_transport_ref\n",
    "        self.steel_plant_region_ng_dict = steel_plant_region_ng_dict\n",
    "        self.static_energy_prices = static_energy_prices\n",
    "        self.feedstock_dict = feedstock_dict\n",
    "        self.country_codes = country_codes\n",
    "        self._df_years_and_country_codes = None\n",
    "\n",
    "    @classmethod\n",
    "    def from_filesystem(\n",
    "        cls,\n",
    "        scenario_dict,\n",
    "        project_dir,\n",
    "        resource_category_mapper=RESOURCE_CATEGORY_MAPPER,\n",
    "        year_range=MODEL_YEAR_RANGE,\n",
    "    ):\n",
    "        intermediate_path = project_dir / get_scenario_pkl_path(\n",
    "            scenario_dict[\"scenario_name\"], \"intermediate\"\n",
    "        )\n",
    "        eur_to_usd_rate = scenario_dict[\"eur_to_usd\"]\n",
    "\n",
    "        steel_plants = read_pickle_folder(\n",
    "            project_dir / PKL_DATA_FORMATTED, \"steel_plants_processed\", \"df\"\n",
    "        )\n",
    "        steel_plant_region_ng_dict = (\n",
    "            steel_plants[[\"country_code\", \"cheap_natural_gas\"]]\n",
    "            .set_index(\"country_code\")\n",
    "            .to_dict()[\"cheap_natural_gas\"]\n",
    "        )\n",
    "        power_grid_prices_ref = read_pickle_folder(\n",
    "            intermediate_path, \"power_grid_prices_ref\", \"df\"\n",
    "        )\n",
    "        h2_prices_ref = read_pickle_folder(intermediate_path, \"h2_prices_ref\", \"df\")\n",
    "        bio_model_prices_ref = read_pickle_folder(\n",
    "            intermediate_path, \"bio_model_prices_ref\", \"df\"\n",
    "        )\n",
    "        ccs_model_transport_ref = read_pickle_folder(\n",
    "            intermediate_path, \"ccs_model_transport_ref\", \"df\"\n",
    "        )\n",
    "        ccs_model_storage_ref = read_pickle_folder(\n",
    "            intermediate_path, \"ccs_model_storage_ref\", \"df\"\n",
    "        )\n",
    "        business_cases = read_pickle_folder(\n",
    "            project_dir / PKL_DATA_FORMATTED, \"standardised_business_cases\", \"df\"\n",
    "        ).reset_index()\n",
    "        static_energy_prices = read_pickle_folder(\n",
    "            project_dir / PKL_DATA_IMPORTS, \"static_energy_prices\", \"df\"\n",
    "        )[[\"Metric\", \"Year\", \"Value\"]]\n",
    "        static_energy_prices.set_index([\"Metric\", \"Year\"], inplace=True)\n",
    "        feedstock_dict = generate_feedstock_dict(\n",
    "            eur_to_usd_rate, project_dir=project_dir\n",
    "        )\n",
    "        country_codes = list(steel_plants[\"country_code\"].unique())\n",
    "        product_range_year_country = list(itertools.product(year_range, country_codes))\n",
    "        return cls(\n",
    "            product_range_year_country,\n",
    "            resource_category_mapper,\n",
    "            business_cases,\n",
    "            power_grid_prices_ref,\n",
    "            h2_prices_ref,\n",
    "            bio_model_prices_ref,\n",
    "            year_range,\n",
    "            ccs_model_storage_ref,\n",
    "            ccs_model_transport_ref,\n",
    "            steel_plant_region_ng_dict,\n",
    "            static_energy_prices,\n",
    "            feedstock_dict,\n",
    "            country_codes,\n",
    "        )\n",
    "\n",
    "    def create_df_from_years_and_contry_codes(self):\n",
    "        if self._df_years_and_country_codes is None:\n",
    "            self._df_years_and_country_codes = pd.merge(\n",
    "                pd.DataFrame(self.country_codes, columns=[\"country_code\"]),\n",
    "                pd.DataFrame(self.year_range, columns=[\"year\"]),\n",
    "                how=\"cross\",\n",
    "            )\n",
    "        return self._df_years_and_country_codes.copy()\n",
    "\n",
    "    def get_power_grid_prices(self):\n",
    "        pgp_ref_list = [\n",
    "            (year, cc, price)\n",
    "            for (year, cc), price in self.power_grid_prices_ref.items()\n",
    "        ]\n",
    "        df = pd.DataFrame(pgp_ref_list, columns=(\"year\", \"country_code\", \"price\"))\n",
    "        df[\"material_category\"] = \"Electricity\"\n",
    "        return (df,)\n",
    "\n",
    "    def get_hydrogen_prices(self):\n",
    "        h2_ref_list = [\n",
    "            (year, cc, price) for (year, cc), price in self.h2_prices_ref.items()\n",
    "        ]\n",
    "        df = pd.DataFrame(h2_ref_list, columns=(\"year\", \"country_code\", \"price\"))\n",
    "        df[\"material_category\"] = \"Hydrogen\"\n",
    "        return (df,)\n",
    "\n",
    "    def get_bio_model_prices(self):\n",
    "        df_mass = pd.DataFrame(\n",
    "            (\n",
    "                (year, country_code, price)\n",
    "                for (year, country_code), price in self.bio_model_prices_ref.items()\n",
    "            ),\n",
    "            columns=(\"year\", \"country_code\", \"price\"),\n",
    "        )\n",
    "        df_mass[\"material_category\"] = \"Biomass\"\n",
    "        df_methane = df_mass.copy()\n",
    "        df_methane[\"material_category\"] = \"Biomethane\"\n",
    "        return df_mass, df_methane\n",
    "\n",
    "    def get_store_and_transport_prices(self):\n",
    "        df_year = pd.DataFrame(self.year_range, columns=[\"year\"])\n",
    "        df_storage = pd.DataFrame(\n",
    "            self.ccs_model_storage_ref.items(),\n",
    "            columns=(\"country_code\", \"price_storage\"),\n",
    "        )\n",
    "        df_transport = pd.DataFrame(\n",
    "            self.ccs_model_transport_ref.items(),\n",
    "            columns=(\"country_code\", \"price_transport\"),\n",
    "        )\n",
    "        df_store_trans = pd.merge(df_storage, df_transport, on=(\"country_code\"))\n",
    "        df_store_trans[\"price\"] = (\n",
    "            df_store_trans.price_storage + df_store_trans.price_transport\n",
    "        )\n",
    "        df_store_trans = df_store_trans.drop(\n",
    "            [\"price_storage\", \"price_transport\"], axis=1\n",
    "        )\n",
    "        df_store_trans = df_store_trans.merge(df_year, how=\"cross\")\n",
    "        df_store_trans_captured = df_store_trans.copy()\n",
    "        df_store_trans_captured[\"material_category\"] = \"Captured CO2\"\n",
    "        df_store_trans_used = df_store_trans.copy()\n",
    "        df_store_trans_used[\"material_category\"] = \"Used CO2\"\n",
    "        return df_store_trans_captured, df_store_trans_used\n",
    "\n",
    "    def get_gas_prices_per_country_and_year(self, gas_type, country_codes):\n",
    "        gas_prices = self.static_energy_prices.loc[gas_type].reset_index().copy()\n",
    "        year_to_price = dict(zip(gas_prices.Year.values, gas_prices.Value.values))\n",
    "        default_price = year_to_price[\n",
    "            2026\n",
    "        ]  # FIXME make this depend on the available range of years\n",
    "        df_data = {\"year\": [], \"price\": []}\n",
    "        for year in self.year_range:\n",
    "            df_data[\"year\"].append(year)\n",
    "            df_data[\"price\"].append(year_to_price.get(year, default_price))\n",
    "        df = pd.DataFrame(df_data)\n",
    "        return pd.merge(\n",
    "            df, pd.DataFrame(country_codes, columns=[\"country_code\"]), how=\"cross\"\n",
    "        )\n",
    "\n",
    "    def get_gas_prices(self):\n",
    "        low_natural_gas_cc = [\n",
    "            country_code\n",
    "            for country_code, flag in self.steel_plant_region_ng_dict.items()\n",
    "            if flag == 1\n",
    "        ]\n",
    "        high_natural_gas_cc = [\n",
    "            country_code\n",
    "            for country_code, flag in self.steel_plant_region_ng_dict.items()\n",
    "            if flag == 0\n",
    "        ]\n",
    "        df_gas_low = self.get_gas_prices_per_country_and_year(\n",
    "            \"Natural gas - low\", low_natural_gas_cc\n",
    "        )\n",
    "        df_gas_low[\"material_category\"] = \"Natural gas\"\n",
    "        df_gas_high = self.get_gas_prices_per_country_and_year(\n",
    "            \"Natural gas - high\", high_natural_gas_cc\n",
    "        )\n",
    "        df_gas_high[\"material_category\"] = \"Natural gas\"\n",
    "        return df_gas_low, df_gas_high\n",
    "\n",
    "    def get_plastic_waste(self):\n",
    "        df = self.create_df_from_years_and_contry_codes()\n",
    "        df[\"price\"] = self.feedstock_dict[\"Plastic waste\"]\n",
    "        df[\"material_category\"] = \"Plastic waste\"\n",
    "        return (df,)\n",
    "\n",
    "    def get_fossil_category_prices(self, category):\n",
    "        fossil_prices = self.static_energy_prices.loc[category].reset_index().copy()\n",
    "        year_to_price = dict(zip(fossil_prices.Year.values, fossil_prices.Value.values))\n",
    "        default_price = year_to_price[\n",
    "            2026\n",
    "        ]  # FIXME make this depend on the available range of years\n",
    "        data = {\"year\": [], \"price\": []}\n",
    "        for year in self.year_range:\n",
    "            data[\"year\"].append(year)\n",
    "            data[\"price\"].append(year_to_price.get(year, default_price))\n",
    "        df = pd.DataFrame(data)\n",
    "        df[\"material_category\"] = category\n",
    "        return pd.merge(\n",
    "            df, pd.DataFrame(self.country_codes, columns=[\"country_code\"]), how=\"cross\"\n",
    "        )\n",
    "\n",
    "    def get_fossil_fuel_prices(self):\n",
    "        fossil_categories = [\n",
    "            k\n",
    "            for k, v in self.resource_category_mapper.items()\n",
    "            if v == \"Fossil Fuels\" and k not in (\"Natural gas\", \"Plastic waste\")\n",
    "        ]\n",
    "        fossil_price_dfs = []\n",
    "        for category in fossil_categories:\n",
    "            fossil_price_dfs.append(self.get_fossil_category_prices(category))\n",
    "        return fossil_price_dfs\n",
    "\n",
    "    def get_feedstock_prices(self):\n",
    "        df_iron_ore = self.create_df_from_years_and_contry_codes()\n",
    "        df_iron_ore[\"price\"] = self.feedstock_dict[\"Iron ore\"]\n",
    "        df_iron_ore[\"material_category\"] = \"Iron ore\"\n",
    "        df_scrap = self.create_df_from_years_and_contry_codes()\n",
    "        df_scrap[\"price\"] = self.feedstock_dict[\"Scrap\"]\n",
    "        df_scrap[\"material_category\"] = \"Scrap\"\n",
    "        df_dri = self.create_df_from_years_and_contry_codes()\n",
    "        df_dri[\"price\"] = self.feedstock_dict[\"DRI\"]\n",
    "        df_dri[\"material_category\"] = \"DRI\"\n",
    "        return df_iron_ore, df_scrap, df_dri\n",
    "\n",
    "    def get_other_opex(self):\n",
    "        df_bf_slag = self.create_df_from_years_and_contry_codes()\n",
    "        df_bf_slag[\"price\"] = self.feedstock_dict[\"BF slag\"]\n",
    "        df_bf_slag[\"material_category\"] = \"BF slag\"\n",
    "        df_other_slag = self.create_df_from_years_and_contry_codes()\n",
    "        df_other_slag[\"price\"] = self.feedstock_dict[\"Other slag\"]\n",
    "        df_other_slag[\"material_category\"] = \"Other slag\"\n",
    "        return df_bf_slag, df_other_slag\n",
    "\n",
    "    def get_steam_prices(self):\n",
    "        df_steam = self.get_gas_prices_per_country_and_year(\"Steam\", self.country_codes)\n",
    "        df_steam[\"material_category\"] = \"Steam\"\n",
    "        return (df_steam,)\n",
    "\n",
    "    def get_price_lookup_df(self):\n",
    "        price_lookup_dfs = [\n",
    "            *self.get_power_grid_prices(),\n",
    "            *self.get_hydrogen_prices(),\n",
    "            *self.get_bio_model_prices(),\n",
    "            *self.get_store_and_transport_prices(),\n",
    "            *self.get_gas_prices(),\n",
    "            *self.get_plastic_waste(),\n",
    "            *self.get_fossil_fuel_prices(),\n",
    "            *self.get_feedstock_prices(),\n",
    "            *self.get_other_opex(),\n",
    "            *self.get_steam_prices(),\n",
    "        ]\n",
    "        return merge_price_lookup_dfs(price_lookup_dfs)\n",
    "\n",
    "    def get_base_data_frame(self):\n",
    "        dyc = pd.DataFrame(\n",
    "            self.product_range_year_country, columns=(\"year\", \"country_code\")\n",
    "        )\n",
    "        emissions = set(\n",
    "            [k for k, v in self.resource_category_mapper.items() if v == \"Emissivity\"]\n",
    "        )\n",
    "        db = self.business_cases.copy()\n",
    "        db = db[~db.material_category.isin(emissions)]\n",
    "        df = db.merge(dyc, how=\"cross\")\n",
    "        not_categorical = set([\"value\"])\n",
    "        categorical_columns = [col for col in df.columns if col not in not_categorical]\n",
    "        for col in categorical_columns:\n",
    "            df[col] = df[col].astype(\"category\")\n",
    "        df[\"cost\"] = 0.0\n",
    "        return df\n",
    "\n",
    "    def plant_variable_costs(self):\n",
    "        df = self.get_base_data_frame()\n",
    "        df_prices = self.get_price_lookup_df()\n",
    "        dm = df.merge(\n",
    "            df_prices, on=(\"material_category\", \"year\", \"country_code\"), how=\"left\"\n",
    "        )\n",
    "        dm[\"country_code\"] = dm[\"country_code\"].astype(\"category\")\n",
    "        dm[\"material_category\"] = dm[\"material_category\"].astype(\"category\")\n",
    "        dm[\"cost\"] = dm.value * dm.price\n",
    "        dm[\"cost\"] = dm.cost.fillna(0.0)\n",
    "        return dm"
   ]
  },
  {
   "cell_type": "code",
   "execution_count": 8,
   "id": "824f98e3-0d28-4259-9f5f-beb7bdf7af09",
   "metadata": {},
   "outputs": [],
   "source": [
    "project_dir = Path.cwd().parent.parent\n",
    "mi = ModelInput.from_filesystem(scenario_dict, project_dir)"
   ]
  },
  {
   "cell_type": "code",
   "execution_count": 48,
   "id": "9ed036cd-19d4-4a46-aa81-5eec9acbbd97",
   "metadata": {},
   "outputs": [
    {
     "data": {
      "text/plain": [
       "{'Iron ore': 'Feedstock',\n",
       " 'Scrap': 'Feedstock',\n",
       " 'DRI': 'Feedstock',\n",
       " 'Met coal': 'Fossil Fuels',\n",
       " 'Thermal coal': 'Fossil Fuels',\n",
       " 'Coke': 'Fossil Fuels',\n",
       " 'COG': 'Fossil Fuels',\n",
       " 'BF gas': 'Fossil Fuels',\n",
       " 'BOF gas': 'Fossil Fuels',\n",
       " 'Natural gas': 'Fossil Fuels',\n",
       " 'Plastic waste': 'Fossil Fuels',\n",
       " 'Biomass': 'Bio Fuels',\n",
       " 'Biomethane': 'Bio Fuels',\n",
       " 'Hydrogen': 'Hydrogen',\n",
       " 'Electricity': 'Electricity',\n",
       " 'Steam': 'Other Opex',\n",
       " 'BF slag': 'Other Opex',\n",
       " 'Other slag': 'Other Opex',\n",
       " 'Captured CO2': 'CCS',\n",
       " 'Used CO2': 'CCS',\n",
       " 'Process emissions': 'Emissivity',\n",
       " 'Emissivity wout CCS': 'Emissivity',\n",
       " 'Emissivity': 'Carbon Cost'}"
      ]
     },
     "execution_count": 48,
     "metadata": {},
     "output_type": "execute_result"
    }
   ],
   "source": [
    "RESOURCE_CATEGORY_MAPPER"
   ]
  },
  {
   "cell_type": "code",
   "execution_count": 53,
   "id": "3f28315e-7348-48cb-b874-9620eacfa0b8",
   "metadata": {},
   "outputs": [
    {
     "data": {
      "text/plain": [
       "{'Plastic waste': 6.527621014136413,\n",
       " 'Iron ore': 97.73,\n",
       " 'Scrap': 224.46000000000004,\n",
       " 'DRI': 300.67,\n",
       " 'Coal': 121.86,\n",
       " 'BF slag': -27.5,\n",
       " 'Other slag': 0.0}"
      ]
     },
     "execution_count": 53,
     "metadata": {},
     "output_type": "execute_result"
    }
   ],
   "source": [
    "mi.feedstock_dict"
   ]
  },
  {
   "cell_type": "code",
   "execution_count": 9,
   "id": "5ca54efc-a632-4279-8ae3-82a37843711d",
   "metadata": {},
   "outputs": [
    {
     "name": "stdout",
     "output_type": "stream",
     "text": [
      "CPU times: user 898 ms, sys: 116 ms, total: 1.01 s\n",
      "Wall time: 1.01 s\n"
     ]
    }
   ],
   "source": [
    "%%time\n",
    "dm = mi.plant_variable_costs()"
   ]
  },
  {
   "cell_type": "code",
   "execution_count": 10,
   "id": "3003e34a-9cb5-4fa5-9e31-2eb3349ef424",
   "metadata": {},
   "outputs": [
    {
     "name": "stdout",
     "output_type": "stream",
     "text": [
      "<class 'pandas.core.frame.DataFrame'>\n",
      "Int64Index: 1088472 entries, 0 to 1088471\n",
      "Data columns (total 9 columns):\n",
      " #   Column             Non-Null Count    Dtype   \n",
      "---  ------             --------------    -----   \n",
      " 0   technology         1088472 non-null  category\n",
      " 1   material_category  1088472 non-null  category\n",
      " 2   metric_type        1088472 non-null  category\n",
      " 3   unit               1088472 non-null  category\n",
      " 4   value              1088472 non-null  float64 \n",
      " 5   year               1088472 non-null  category\n",
      " 6   country_code       1088472 non-null  category\n",
      " 7   cost               1088472 non-null  float64 \n",
      " 8   price              1036640 non-null  float64 \n",
      "dtypes: category(6), float64(3)\n",
      "memory usage: 39.5 MB\n"
     ]
    }
   ],
   "source": [
    "dm.info(memory_usage=\"deep\")"
   ]
  },
  {
   "cell_type": "code",
   "execution_count": 11,
   "id": "32009add-e2da-4c4a-bc6d-7ed17bcc2e98",
   "metadata": {},
   "outputs": [
    {
     "data": {
      "text/html": [
       "<div>\n",
       "<style scoped>\n",
       "    .dataframe tbody tr th:only-of-type {\n",
       "        vertical-align: middle;\n",
       "    }\n",
       "\n",
       "    .dataframe tbody tr th {\n",
       "        vertical-align: top;\n",
       "    }\n",
       "\n",
       "    .dataframe thead th {\n",
       "        text-align: right;\n",
       "    }\n",
       "</style>\n",
       "<table border=\"1\" class=\"dataframe\">\n",
       "  <thead>\n",
       "    <tr style=\"text-align: right;\">\n",
       "      <th></th>\n",
       "      <th>technology</th>\n",
       "      <th>material_category</th>\n",
       "      <th>metric_type</th>\n",
       "      <th>unit</th>\n",
       "      <th>value</th>\n",
       "      <th>year</th>\n",
       "      <th>country_code</th>\n",
       "      <th>cost</th>\n",
       "      <th>price</th>\n",
       "    </tr>\n",
       "  </thead>\n",
       "  <tbody>\n",
       "    <tr>\n",
       "      <th>925907</th>\n",
       "      <td>DRI-Melt-BOF+CCUS</td>\n",
       "      <td>Electricity</td>\n",
       "      <td>Purchased energy</td>\n",
       "      <td>GJ/t steel</td>\n",
       "      <td>3.50132</td>\n",
       "      <td>2050</td>\n",
       "      <td>USA</td>\n",
       "      <td>59.091243</td>\n",
       "      <td>16.87685</td>\n",
       "    </tr>\n",
       "  </tbody>\n",
       "</table>\n",
       "</div>"
      ],
      "text/plain": [
       "               technology material_category       metric_type        unit  \\\n",
       "925907  DRI-Melt-BOF+CCUS       Electricity  Purchased energy  GJ/t steel   \n",
       "\n",
       "          value  year country_code       cost     price  \n",
       "925907  3.50132  2050          USA  59.091243  16.87685  "
      ]
     },
     "execution_count": 11,
     "metadata": {},
     "output_type": "execute_result"
    }
   ],
   "source": [
    "query_str = \"material_category == 'Electricity' and technology == 'DRI-Melt-BOF+CCUS' and year == 2050 and country_code == 'USA'\"\n",
    "dm.query(query_str)"
   ]
  },
  {
   "cell_type": "markdown",
   "id": "00c65274-4ecc-4d8b-9f66-64d204c56922",
   "metadata": {},
   "source": [
    "# Compare Optimized Version with Reference"
   ]
  },
  {
   "cell_type": "code",
   "execution_count": 12,
   "id": "d2c92a38-04e8-4d25-ab7c-61e66b8313f3",
   "metadata": {},
   "outputs": [
    {
     "data": {
      "text/plain": [
       "(1088472, 9)"
      ]
     },
     "execution_count": 12,
     "metadata": {},
     "output_type": "execute_result"
    }
   ],
   "source": [
    "df_reference.shape"
   ]
  },
  {
   "cell_type": "code",
   "execution_count": 13,
   "id": "08a111cf-2099-4358-88ff-8f4bee20cdd9",
   "metadata": {},
   "outputs": [
    {
     "data": {
      "text/plain": [
       "(1088472, 9)"
      ]
     },
     "execution_count": 13,
     "metadata": {},
     "output_type": "execute_result"
    }
   ],
   "source": [
    "dm.shape"
   ]
  },
  {
   "cell_type": "code",
   "execution_count": 14,
   "id": "78af6058-bb55-40a1-883f-fe51de7650d3",
   "metadata": {},
   "outputs": [
    {
     "name": "stdout",
     "output_type": "stream",
     "text": [
      "<class 'pandas.core.frame.DataFrame'>\n",
      "Int64Index: 1088472 entries, 0 to 1192135\n",
      "Data columns (total 9 columns):\n",
      " #   Column             Non-Null Count    Dtype  \n",
      "---  ------             --------------    -----  \n",
      " 0   technology         1088472 non-null  object \n",
      " 1   material_category  1088472 non-null  object \n",
      " 2   metric_type        1088472 non-null  object \n",
      " 3   unit               1088472 non-null  object \n",
      " 4   value              1088472 non-null  float64\n",
      " 5   year               1088472 non-null  int64  \n",
      " 6   country_code       1088472 non-null  object \n",
      " 7   cost               1088472 non-null  float64\n",
      " 8   cost_type          1088472 non-null  object \n",
      "dtypes: float64(2), int64(1), object(6)\n",
      "memory usage: 443.3 MB\n"
     ]
    }
   ],
   "source": [
    "df_reference.info(memory_usage=\"deep\")"
   ]
  },
  {
   "cell_type": "code",
   "execution_count": 15,
   "id": "0d7eaa6d-99af-4e54-950b-b66da389e39f",
   "metadata": {},
   "outputs": [
    {
     "data": {
      "text/plain": [
       "array(['Iron ore', 'Scrap', 'DRI', 'Met coal', 'Coke', 'Thermal coal',\n",
       "       'BF gas', 'COG', 'BOF gas', 'Natural gas', 'Plastic waste',\n",
       "       'Biomass', 'Biomethane', 'Hydrogen', 'Electricity', 'Steam',\n",
       "       'BF slag', 'Other slag', 'Captured CO2', 'Used CO2', 'Emissivity'],\n",
       "      dtype=object)"
      ]
     },
     "execution_count": 15,
     "metadata": {},
     "output_type": "execute_result"
    }
   ],
   "source": [
    "df_reference.material_category.unique()"
   ]
  },
  {
   "cell_type": "code",
   "execution_count": 16,
   "id": "db533631-9259-4772-be11-b9b8a3c8b72b",
   "metadata": {},
   "outputs": [],
   "source": [
    "def build_pk(df):\n",
    "    df[\"year\"] = df[\"year\"].astype(\"str\")\n",
    "    pk_columns = [\"material_category\", \"technology\", \"country_code\", \"year\"]\n",
    "    df[\"pk\"] = df[pk_columns].agg(\"_\".join, axis=1)\n",
    "    return df.drop(pk_columns, axis=1).set_index(\"pk\").sort_index()\n",
    "\n",
    "\n",
    "def build_comparable_dataframes(category, df_reference, df_optimized):\n",
    "    dfr = (\n",
    "        df_reference[df_reference.material_category == category]\n",
    "        .copy()\n",
    "        .drop(\"cost_type\", axis=1)\n",
    "        .reset_index(drop=True)\n",
    "    )\n",
    "    dmo = (\n",
    "        df_optimized[df_optimized.material_category == category]\n",
    "        .copy()\n",
    "        .drop(\"price\", axis=1)\n",
    "        .reset_index(drop=True)\n",
    "    )\n",
    "    return build_pk(dfr), build_pk(dmo)\n",
    "\n",
    "\n",
    "def compare_by_material_category(category, df_reference, df_optimized):\n",
    "    dfr, dmo = build_comparable_dataframes(category, df_reference, df_optimized)\n",
    "    print(\"Category: \", category)\n",
    "    print(\"shape: \", dfr.shape, dmo.shape, dfr.shape == dmo.shape)\n",
    "    print(\"column values: \", np.all((dfr == dmo).all().values))\n",
    "    print(\"sum cost: \", dfr.cost.sum(), dmo.cost.sum())\n",
    "    print(\"-----------------------------\")"
   ]
  },
  {
   "cell_type": "code",
   "execution_count": 17,
   "id": "53fe1f74-1892-452c-9d59-d82a3e3b27b8",
   "metadata": {},
   "outputs": [
    {
     "name": "stdout",
     "output_type": "stream",
     "text": [
      "Category:  Hydrogen\n",
      "shape:  (51832, 4) (51832, 4) True\n",
      "column values:  True\n",
      "sum cost:  1149369.2660721818 1149369.2660721818\n",
      "-----------------------------\n"
     ]
    }
   ],
   "source": [
    "compare_by_material_category(\"Hydrogen\", df_reference, dm)"
   ]
  },
  {
   "cell_type": "code",
   "execution_count": 18,
   "id": "bea72d1d-e51f-4e57-b63f-117e4bcaffaf",
   "metadata": {},
   "outputs": [
    {
     "name": "stdout",
     "output_type": "stream",
     "text": [
      "Category:  Iron ore\n",
      "shape:  (51832, 4) (51832, 4) True\n",
      "column values:  True\n",
      "sum cost:  6224864.016437758 6224864.016437758\n",
      "-----------------------------\n"
     ]
    }
   ],
   "source": [
    "compare_by_material_category(\"Iron ore\", df_reference, dm)"
   ]
  },
  {
   "cell_type": "code",
   "execution_count": 19,
   "id": "8c465df4-ae61-493c-84ea-30f51eddfca2",
   "metadata": {},
   "outputs": [
    {
     "name": "stdout",
     "output_type": "stream",
     "text": [
      "Category:  Iron ore\n",
      "shape:  (51832, 4) (51832, 4) True\n",
      "column values:  True\n",
      "sum cost:  6224864.016437758 6224864.016437758\n",
      "-----------------------------\n",
      "Category:  Scrap\n",
      "shape:  (51832, 4) (51832, 4) True\n",
      "column values:  True\n",
      "sum cost:  2309189.8733712 2309189.8733712\n",
      "-----------------------------\n",
      "Category:  DRI\n",
      "shape:  (51832, 4) (51832, 4) True\n",
      "column values:  True\n",
      "sum cost:  0.0 0.0\n",
      "-----------------------------\n",
      "Category:  Met coal\n",
      "shape:  (51832, 4) (51832, 4) True\n",
      "column values:  True\n",
      "sum cost:  563174.7219761774 563174.7219761774\n",
      "-----------------------------\n",
      "Category:  Coke\n",
      "shape:  (51832, 4) (51832, 4) True\n",
      "column values:  True\n",
      "sum cost:  0.0 0.0\n",
      "-----------------------------\n",
      "Category:  Thermal coal\n",
      "shape:  (51832, 4) (51832, 4) True\n",
      "column values:  True\n",
      "sum cost:  284071.0588329466 284071.0588329466\n",
      "-----------------------------\n",
      "Category:  BF gas\n",
      "shape:  (51832, 4) (51832, 4) True\n",
      "column values:  True\n",
      "sum cost:  0.0 0.0\n",
      "-----------------------------\n",
      "Category:  COG\n",
      "shape:  (51832, 4) (51832, 4) True\n",
      "column values:  True\n",
      "sum cost:  0.0 0.0\n",
      "-----------------------------\n",
      "Category:  BOF gas\n",
      "shape:  (51832, 4) (51832, 4) True\n",
      "column values:  True\n",
      "sum cost:  0.0 0.0\n",
      "-----------------------------\n",
      "Category:  Natural gas\n",
      "shape:  (51832, 4) (51832, 4) True\n",
      "column values:  True\n",
      "sum cost:  1512675.8623500294 1512675.8623500294\n",
      "-----------------------------\n",
      "Category:  Plastic waste\n",
      "shape:  (51832, 4) (51832, 4) True\n",
      "column values:  True\n",
      "sum cost:  112567.44784406299 112567.44784406299\n",
      "-----------------------------\n",
      "Category:  Biomass\n",
      "shape:  (51832, 4) (51832, 4) True\n",
      "column values:  True\n",
      "sum cost:  870287.3706416532 870287.3706416532\n",
      "-----------------------------\n",
      "Category:  Biomethane\n",
      "shape:  (51832, 4) (51832, 4) True\n",
      "column values:  True\n",
      "sum cost:  185247.54805556074 185247.54805556074\n",
      "-----------------------------\n",
      "Category:  Hydrogen\n",
      "shape:  (51832, 4) (51832, 4) True\n",
      "column values:  True\n",
      "sum cost:  1149369.2660721818 1149369.2660721818\n",
      "-----------------------------\n",
      "Category:  Electricity\n",
      "shape:  (51832, 4) (51832, 4) True\n",
      "column values:  True\n",
      "sum cost:  4835501.661417483 4835501.661417483\n",
      "-----------------------------\n",
      "Category:  Steam\n",
      "shape:  (51832, 4) (51832, 4) True\n",
      "column values:  True\n",
      "sum cost:  36279.27565146243 36279.27565146243\n",
      "-----------------------------\n",
      "Category:  BF slag\n",
      "shape:  (51832, 4) (51832, 4) True\n",
      "column values:  True\n",
      "sum cost:  -122017.51682999993 -122017.51682999993\n",
      "-----------------------------\n",
      "Category:  Other slag\n",
      "shape:  (51832, 4) (51832, 4) True\n",
      "column values:  True\n",
      "sum cost:  0.0 0.0\n",
      "-----------------------------\n",
      "Category:  Captured CO2\n",
      "shape:  (51832, 4) (51832, 4) True\n",
      "column values:  True\n",
      "sum cost:  62140.80143985786 62140.80143985786\n",
      "-----------------------------\n",
      "Category:  Used CO2\n",
      "shape:  (51832, 4) (51832, 4) True\n",
      "column values:  True\n",
      "sum cost:  2668.0564234853873 2668.0564234853873\n",
      "-----------------------------\n",
      "Category:  Emissivity\n",
      "shape:  (51832, 4) (51832, 4) True\n",
      "column values:  True\n",
      "sum cost:  0.0 0.0\n",
      "-----------------------------\n"
     ]
    }
   ],
   "source": [
    "for category in df_reference.material_category.unique():\n",
    "    compare_by_material_category(category, df_reference, dm)"
   ]
  }
 ],
 "metadata": {
  "kernelspec": {
   "display_name": "Python 3 (ipykernel)",
   "language": "python",
   "name": "python3"
  },
  "language_info": {
   "codemirror_mode": {
    "name": "ipython",
    "version": 3
   },
   "file_extension": ".py",
   "mimetype": "text/x-python",
   "name": "python",
   "nbconvert_exporter": "python",
   "pygments_lexer": "ipython3",
   "version": "3.10.4"
  }
 },
 "nbformat": 4,
 "nbformat_minor": 5
}
